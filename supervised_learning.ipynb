{
 "cells": [
  {
   "cell_type": "markdown",
   "metadata": {
    "toc": true
   },
   "source": [
    "<h1>Содержание<span class=\"tocSkip\"></span></h1>\n",
    "<div class=\"toc\"><ul class=\"toc-item\"><li><span><a href=\"#Подготовка-данных\" data-toc-modified-id=\"Подготовка-данных-1\"><span class=\"toc-item-num\">1&nbsp;&nbsp;</span>Подготовка данных</a></span></li><li><span><a href=\"#Исследование-задачи.-Обучение-модели-без-учёта-дисбаланса\" data-toc-modified-id=\"Исследование-задачи.-Обучение-модели-без-учёта-дисбаланса-2\"><span class=\"toc-item-num\">2&nbsp;&nbsp;</span>Исследование задачи. Обучение модели без учёта дисбаланса</a></span></li><li><span><a href=\"#Борьба-с-дисбалансом\" data-toc-modified-id=\"Борьба-с-дисбалансом-3\"><span class=\"toc-item-num\">3&nbsp;&nbsp;</span>Борьба с дисбалансом</a></span><ul class=\"toc-item\"><li><span><a href=\"#Взвешивание-классов\" data-toc-modified-id=\"Взвешивание-классов-3.1\"><span class=\"toc-item-num\">3.1&nbsp;&nbsp;</span>Взвешивание классов</a></span></li><li><span><a href=\"#Увеличение-выборки\" data-toc-modified-id=\"Увеличение-выборки-3.2\"><span class=\"toc-item-num\">3.2&nbsp;&nbsp;</span>Увеличение выборки</a></span></li><li><span><a href=\"#Уменьшение-выборки\" data-toc-modified-id=\"Уменьшение-выборки-3.3\"><span class=\"toc-item-num\">3.3&nbsp;&nbsp;</span>Уменьшение выборки</a></span></li><li><span><a href=\"#Изменение-порога-значений\" data-toc-modified-id=\"Изменение-порога-значений-3.4\"><span class=\"toc-item-num\">3.4&nbsp;&nbsp;</span>Изменение порога значений</a></span></li><li><span><a href=\"#Предварительные-выводы:\" data-toc-modified-id=\"Предварительные-выводы:-3.5\"><span class=\"toc-item-num\">3.5&nbsp;&nbsp;</span>Предварительные выводы:</a></span></li></ul></li><li><span><a href=\"#Тестирование-модели\" data-toc-modified-id=\"Тестирование-модели-4\"><span class=\"toc-item-num\">4&nbsp;&nbsp;</span>Тестирование модели</a></span></li><li><span><a href=\"#Чек-лист-готовности-проекта\" data-toc-modified-id=\"Чек-лист-готовности-проекта-5\"><span class=\"toc-item-num\">5&nbsp;&nbsp;</span>Чек-лист готовности проекта</a></span></li><li><span><a href=\"#Общий-вывод-по-проекту\" data-toc-modified-id=\"Общий-вывод-по-проекту-6\"><span class=\"toc-item-num\">6&nbsp;&nbsp;</span><b>Общий вывод по проекту</b></a></span></li></ul></div>"
   ]
  },
  {
   "cell_type": "markdown",
   "metadata": {},
   "source": [
    "# Отток клиентов"
   ]
  },
  {
   "cell_type": "markdown",
   "metadata": {},
   "source": [
    "Из «Бета-Банка» стали уходить клиенты. Каждый месяц. Немного, но заметно. Банковские маркетологи посчитали: сохранять текущих клиентов дешевле, чем привлекать новых.\n",
    "\n",
    "Нужно спрогнозировать, уйдёт клиент из банка в ближайшее время или нет. Вам предоставлены исторические данные о поведении клиентов и расторжении договоров с банком. \n",
    "\n",
    "Постройте модель с предельно большим значением *F1*-меры. Чтобы сдать проект успешно, нужно довести метрику до 0.59. Проверьте *F1*-меру на тестовой выборке самостоятельно.\n",
    "\n",
    "Дополнительно измеряйте *AUC-ROC*, сравнивайте её значение с *F1*-мерой.\n",
    "\n",
    "Источник данных: [https://www.kaggle.com/barelydedicated/bank-customer-churn-modeling](https://www.kaggle.com/barelydedicated/bank-customer-churn-modeling)"
   ]
  },
  {
   "cell_type": "markdown",
   "metadata": {},
   "source": [
    "## Подготовка данных"
   ]
  },
  {
   "cell_type": "code",
   "execution_count": 1,
   "metadata": {},
   "outputs": [],
   "source": [
    "import itertools\n",
    "import pandas as pd\n",
    "import numpy as np\n",
    "import seaborn as sns  \n",
    "import matplotlib.pyplot as plt\n",
    "from random import randrange\n",
    "from sklearn.utils import shuffle\n",
    "from sklearn.model_selection import train_test_split\n",
    "from sklearn.metrics import accuracy_score\n",
    "from sklearn.metrics import f1_score\n",
    "from sklearn.metrics import roc_auc_score\n",
    "from sklearn.metrics import roc_curve\n",
    "from sklearn.metrics import recall_score\n",
    "from sklearn.pipeline import make_pipeline\n",
    "from sklearn.preprocessing import OrdinalEncoder\n",
    "from sklearn.preprocessing import StandardScaler\n",
    "from sklearn.ensemble import RandomForestClassifier\n",
    "from sklearn.linear_model import LogisticRegression\n",
    "from sklearn.tree import DecisionTreeClassifier  "
   ]
  },
  {
   "cell_type": "code",
   "execution_count": 2,
   "metadata": {},
   "outputs": [
    {
     "data": {
      "text/html": [
       "<div>\n",
       "<style scoped>\n",
       "    .dataframe tbody tr th:only-of-type {\n",
       "        vertical-align: middle;\n",
       "    }\n",
       "\n",
       "    .dataframe tbody tr th {\n",
       "        vertical-align: top;\n",
       "    }\n",
       "\n",
       "    .dataframe thead th {\n",
       "        text-align: right;\n",
       "    }\n",
       "</style>\n",
       "<table border=\"1\" class=\"dataframe\">\n",
       "  <thead>\n",
       "    <tr style=\"text-align: right;\">\n",
       "      <th></th>\n",
       "      <th>RowNumber</th>\n",
       "      <th>CustomerId</th>\n",
       "      <th>Surname</th>\n",
       "      <th>CreditScore</th>\n",
       "      <th>Geography</th>\n",
       "      <th>Gender</th>\n",
       "      <th>Age</th>\n",
       "      <th>Tenure</th>\n",
       "      <th>Balance</th>\n",
       "      <th>NumOfProducts</th>\n",
       "      <th>HasCrCard</th>\n",
       "      <th>IsActiveMember</th>\n",
       "      <th>EstimatedSalary</th>\n",
       "      <th>Exited</th>\n",
       "    </tr>\n",
       "  </thead>\n",
       "  <tbody>\n",
       "    <tr>\n",
       "      <th>0</th>\n",
       "      <td>1</td>\n",
       "      <td>15634602</td>\n",
       "      <td>Hargrave</td>\n",
       "      <td>619</td>\n",
       "      <td>France</td>\n",
       "      <td>Female</td>\n",
       "      <td>42</td>\n",
       "      <td>2.0</td>\n",
       "      <td>0.00</td>\n",
       "      <td>1</td>\n",
       "      <td>1</td>\n",
       "      <td>1</td>\n",
       "      <td>101348.88</td>\n",
       "      <td>1</td>\n",
       "    </tr>\n",
       "    <tr>\n",
       "      <th>1</th>\n",
       "      <td>2</td>\n",
       "      <td>15647311</td>\n",
       "      <td>Hill</td>\n",
       "      <td>608</td>\n",
       "      <td>Spain</td>\n",
       "      <td>Female</td>\n",
       "      <td>41</td>\n",
       "      <td>1.0</td>\n",
       "      <td>83807.86</td>\n",
       "      <td>1</td>\n",
       "      <td>0</td>\n",
       "      <td>1</td>\n",
       "      <td>112542.58</td>\n",
       "      <td>0</td>\n",
       "    </tr>\n",
       "    <tr>\n",
       "      <th>2</th>\n",
       "      <td>3</td>\n",
       "      <td>15619304</td>\n",
       "      <td>Onio</td>\n",
       "      <td>502</td>\n",
       "      <td>France</td>\n",
       "      <td>Female</td>\n",
       "      <td>42</td>\n",
       "      <td>8.0</td>\n",
       "      <td>159660.80</td>\n",
       "      <td>3</td>\n",
       "      <td>1</td>\n",
       "      <td>0</td>\n",
       "      <td>113931.57</td>\n",
       "      <td>1</td>\n",
       "    </tr>\n",
       "    <tr>\n",
       "      <th>3</th>\n",
       "      <td>4</td>\n",
       "      <td>15701354</td>\n",
       "      <td>Boni</td>\n",
       "      <td>699</td>\n",
       "      <td>France</td>\n",
       "      <td>Female</td>\n",
       "      <td>39</td>\n",
       "      <td>1.0</td>\n",
       "      <td>0.00</td>\n",
       "      <td>2</td>\n",
       "      <td>0</td>\n",
       "      <td>0</td>\n",
       "      <td>93826.63</td>\n",
       "      <td>0</td>\n",
       "    </tr>\n",
       "    <tr>\n",
       "      <th>4</th>\n",
       "      <td>5</td>\n",
       "      <td>15737888</td>\n",
       "      <td>Mitchell</td>\n",
       "      <td>850</td>\n",
       "      <td>Spain</td>\n",
       "      <td>Female</td>\n",
       "      <td>43</td>\n",
       "      <td>2.0</td>\n",
       "      <td>125510.82</td>\n",
       "      <td>1</td>\n",
       "      <td>1</td>\n",
       "      <td>1</td>\n",
       "      <td>79084.10</td>\n",
       "      <td>0</td>\n",
       "    </tr>\n",
       "  </tbody>\n",
       "</table>\n",
       "</div>"
      ],
      "text/plain": [
       "   RowNumber  CustomerId   Surname  CreditScore Geography  Gender  Age  \\\n",
       "0          1    15634602  Hargrave          619    France  Female   42   \n",
       "1          2    15647311      Hill          608     Spain  Female   41   \n",
       "2          3    15619304      Onio          502    France  Female   42   \n",
       "3          4    15701354      Boni          699    France  Female   39   \n",
       "4          5    15737888  Mitchell          850     Spain  Female   43   \n",
       "\n",
       "   Tenure    Balance  NumOfProducts  HasCrCard  IsActiveMember  \\\n",
       "0     2.0       0.00              1          1               1   \n",
       "1     1.0   83807.86              1          0               1   \n",
       "2     8.0  159660.80              3          1               0   \n",
       "3     1.0       0.00              2          0               0   \n",
       "4     2.0  125510.82              1          1               1   \n",
       "\n",
       "   EstimatedSalary  Exited  \n",
       "0        101348.88       1  \n",
       "1        112542.58       0  \n",
       "2        113931.57       1  \n",
       "3         93826.63       0  \n",
       "4         79084.10       0  "
      ]
     },
     "execution_count": 2,
     "metadata": {},
     "output_type": "execute_result"
    }
   ],
   "source": [
    "data = pd.read_csv('/datasets/Churn.csv')\n",
    "data.head(5)"
   ]
  },
  {
   "cell_type": "code",
   "execution_count": 3,
   "metadata": {},
   "outputs": [
    {
     "name": "stdout",
     "output_type": "stream",
     "text": [
      "<class 'pandas.core.frame.DataFrame'>\n",
      "RangeIndex: 10000 entries, 0 to 9999\n",
      "Data columns (total 14 columns):\n",
      " #   Column           Non-Null Count  Dtype  \n",
      "---  ------           --------------  -----  \n",
      " 0   RowNumber        10000 non-null  int64  \n",
      " 1   CustomerId       10000 non-null  int64  \n",
      " 2   Surname          10000 non-null  object \n",
      " 3   CreditScore      10000 non-null  int64  \n",
      " 4   Geography        10000 non-null  object \n",
      " 5   Gender           10000 non-null  object \n",
      " 6   Age              10000 non-null  int64  \n",
      " 7   Tenure           9091 non-null   float64\n",
      " 8   Balance          10000 non-null  float64\n",
      " 9   NumOfProducts    10000 non-null  int64  \n",
      " 10  HasCrCard        10000 non-null  int64  \n",
      " 11  IsActiveMember   10000 non-null  int64  \n",
      " 12  EstimatedSalary  10000 non-null  float64\n",
      " 13  Exited           10000 non-null  int64  \n",
      "dtypes: float64(3), int64(8), object(3)\n",
      "memory usage: 1.1+ MB\n"
     ]
    }
   ],
   "source": [
    "data.info()"
   ]
  },
  {
   "cell_type": "markdown",
   "metadata": {},
   "source": [
    "Признаки\n",
    "\n",
    "* RowNumber — индекс строки в данных\n",
    "* CustomerId — уникальный идентификатор клиента\n",
    "* Surname — фамилия\n",
    "* CreditScore — кредитный рейтинг\n",
    "* Geography — страна проживания\n",
    "* Gender — пол\n",
    "* Age — возраст\n",
    "* Tenure — сколько лет человек является клиентом банка\n",
    "* Balance — баланс на счёте\n",
    "* NumOfProducts — количество продуктов банка, используемых клиентом\n",
    "* HasCrCard — наличие кредитной карты\n",
    "* IsActiveMember — активность клиента\n",
    "* EstimatedSalary — предполагаемая зарплата\n",
    "\n",
    "Целевой признак\n",
    "\n",
    "* Exited — факт ухода клиента"
   ]
  },
  {
   "cell_type": "markdown",
   "metadata": {},
   "source": [
    "* Есть пропуски в 909 строках Tenure\n",
    "* Geograpy, Gender - категориальные признаки (object)\n",
    "* Эти столбцы можно удалить: RowNumber дублирует информацию индекса строки, а персональные данные клиента CustomerId и Surname не повлияют на обучение, а будут отъедать память и ресурсы "
   ]
  },
  {
   "cell_type": "code",
   "execution_count": 4,
   "metadata": {},
   "outputs": [],
   "source": [
    "data = data.drop(['RowNumber', 'CustomerId', 'Surname'], axis=1)"
   ]
  },
  {
   "cell_type": "code",
   "execution_count": 5,
   "metadata": {},
   "outputs": [
    {
     "data": {
      "text/plain": [
       "0"
      ]
     },
     "execution_count": 5,
     "metadata": {},
     "output_type": "execute_result"
    }
   ],
   "source": [
    "#проверим на дубликаты\n",
    "data.duplicated().sum()"
   ]
  },
  {
   "cell_type": "markdown",
   "metadata": {},
   "source": [
    "Дубликатов нет"
   ]
  },
  {
   "cell_type": "code",
   "execution_count": 6,
   "metadata": {},
   "outputs": [
    {
     "data": {
      "image/png": "[encoded data removed]",
      "text/plain": [
       "<Figure size 720x576 with 1 Axes>"
      ]
     },
     "metadata": {
      "needs_background": "light"
     },
     "output_type": "display_data"
    }
   ],
   "source": [
    "plt.figure()\n",
    "data['Exited'].hist(figsize=(10,8))\n",
    "plt.title('Распределение клиентов')\n",
    "plt.xlabel('Клиент ушёл')\n",
    "plt.ylabel('Кол-во клиентов')\n",
    "plt.show()"
   ]
  },
  {
   "cell_type": "markdown",
   "metadata": {},
   "source": [
    "Можно сделать вывод, что только ~20% клиентов уходит из банка. Данные несбалансированные."
   ]
  },
  {
   "cell_type": "code",
   "execution_count": 7,
   "metadata": {},
   "outputs": [
    {
     "data": {
      "text/plain": [
       "France     0.5014\n",
       "Germany    0.2509\n",
       "Spain      0.2477\n",
       "Name: Geography, dtype: float64"
      ]
     },
     "execution_count": 7,
     "metadata": {},
     "output_type": "execute_result"
    }
   ],
   "source": [
    "data.Geography.value_counts(normalize=True)"
   ]
  },
  {
   "cell_type": "markdown",
   "metadata": {},
   "source": [
    "В датасете данные по клиентам трёх стран, распределение такое: Франция (50%), Германия (25%) и Испания (25%)"
   ]
  },
  {
   "cell_type": "code",
   "execution_count": 8,
   "metadata": {},
   "outputs": [
    {
     "data": {
      "image/png": "[encoded data removed]",
      "text/plain": [
       "<Figure size 1080x504 with 2 Axes>"
      ]
     },
     "metadata": {
      "needs_background": "light"
     },
     "output_type": "display_data"
    }
   ],
   "source": [
    "plt.figure(figsize=(15, 7))\n",
    "plt.title('Матрица корреляции признаков')\n",
    "sns.heatmap(data.corr(), annot = True)\n",
    "\n",
    "plt.show()"
   ]
  },
  {
   "cell_type": "markdown",
   "metadata": {},
   "source": [
    "Мы видим, что признаки практически не коррелируют между собой, но стоит отметить следующее:\n",
    "* Самая большая корреляция у признаков Age и Exited – 0,29. Возраст — главный признак, который влияет на отток клиентов, ещё один занятный признак — баланс (0.12)\n",
    "* Есть отрицательная корреляция между балансом и числом продуктов (-0.3) — чем больше у клиента продуктов банка, тем ниже его баланс. \n",
    "* Есть небольшая отрицательная корреляция между активностью клиента и его уходом: активные уходят реже."
   ]
  },
  {
   "cell_type": "code",
   "execution_count": 9,
   "metadata": {},
   "outputs": [
    {
     "data": {
      "text/plain": [
       "Text(0, 0.5, 'Количество клиентов этой возрастной группы')"
      ]
     },
     "execution_count": 9,
     "metadata": {},
     "output_type": "execute_result"
    },
    {
     "data": {
      "image/png": "[encoded data removed]",
      "text/plain": [
       "<Figure size 720x576 with 1 Axes>"
      ]
     },
     "metadata": {
      "needs_background": "light"
     },
     "output_type": "display_data"
    }
   ],
   "source": [
    "fig, ax = plt.subplots(figsize=(10,8))\n",
    "sns.histplot(data=data, x='Age',hue='Exited', kde=True,bins=75, ax=ax)\n",
    "plt.title(' Распределение возраста и уходов из банка')\n",
    "plt.xlabel('Возраст')\n",
    "plt.ylabel('Количество клиентов этой возрастной группы')"
   ]
  },
  {
   "cell_type": "markdown",
   "metadata": {},
   "source": [
    "Можно чётко выделить, что чаще уходят люди от 40 до 55 лет. Тоже важный признак, удалять нельзя.\n",
    "Проверим что там за корреляция с количеством банковских продуктов"
   ]
  },
  {
   "cell_type": "code",
   "execution_count": 10,
   "metadata": {},
   "outputs": [
    {
     "data": {
      "text/html": [
       "<style  type=\"text/css\" >\n",
       "#T_9ccea_row0_col0{\n",
       "            width:  10em;\n",
       "             height:  80%;\n",
       "            background:  linear-gradient(90deg,#d65f5f 70.0%, transparent 70.0%);\n",
       "        }#T_9ccea_row1_col0{\n",
       "            width:  10em;\n",
       "             height:  80%;\n",
       "            background:  linear-gradient(90deg,#d65f5f 21.8%, transparent 21.8%);\n",
       "        }#T_9ccea_row2_col0{\n",
       "            width:  10em;\n",
       "             height:  80%;\n",
       "            background:  linear-gradient(90deg,#d65f5f 91.8%, transparent 91.8%);\n",
       "        }#T_9ccea_row3_col0{\n",
       "            width:  10em;\n",
       "             height:  80%;\n",
       "        }#T_9ccea_row4_col0{\n",
       "            width:  10em;\n",
       "             height:  80%;\n",
       "            background:  linear-gradient(90deg,#d65f5f 10.5%, transparent 10.5%);\n",
       "        }#T_9ccea_row5_col0{\n",
       "            width:  10em;\n",
       "             height:  80%;\n",
       "            background:  linear-gradient(90deg,#d65f5f 81.3%, transparent 81.3%);\n",
       "        }#T_9ccea_row6_col0{\n",
       "            width:  10em;\n",
       "             height:  80%;\n",
       "            background:  linear-gradient(90deg,#d65f5f 100.0%, transparent 100.0%);\n",
       "        }</style><table id=\"T_9ccea_\" ><thead>    <tr>        <th class=\"blank\" ></th>        <th class=\"blank level0\" ></th>        <th class=\"col_heading level0 col0\" >Доля оставшихся</th>    </tr>    <tr>        <th class=\"index_name level0\" >NumOfProducts</th>        <th class=\"index_name level1\" >Exited</th>        <th class=\"blank\" ></th>    </tr></thead><tbody>\n",
       "                <tr>\n",
       "                        <th id=\"T_9ccea_level0_row0\" class=\"row_heading level0 row0\" rowspan=\"2\">1</th>\n",
       "                        <th id=\"T_9ccea_level1_row0\" class=\"row_heading level1 row0\" >0</th>\n",
       "                        <td id=\"T_9ccea_row0_col0\" class=\"data row0 col0\" >0.722856</td>\n",
       "            </tr>\n",
       "            <tr>\n",
       "                                <th id=\"T_9ccea_level1_row1\" class=\"row_heading level1 row1\" >1</th>\n",
       "                        <td id=\"T_9ccea_row1_col0\" class=\"data row1 col0\" >0.277144</td>\n",
       "            </tr>\n",
       "            <tr>\n",
       "                        <th id=\"T_9ccea_level0_row2\" class=\"row_heading level0 row2\" rowspan=\"2\">2</th>\n",
       "                        <th id=\"T_9ccea_level1_row2\" class=\"row_heading level1 row2\" >0</th>\n",
       "                        <td id=\"T_9ccea_row2_col0\" class=\"data row2 col0\" >0.924183</td>\n",
       "            </tr>\n",
       "            <tr>\n",
       "                                <th id=\"T_9ccea_level1_row3\" class=\"row_heading level1 row3\" >1</th>\n",
       "                        <td id=\"T_9ccea_row3_col0\" class=\"data row3 col0\" >0.075817</td>\n",
       "            </tr>\n",
       "            <tr>\n",
       "                        <th id=\"T_9ccea_level0_row4\" class=\"row_heading level0 row4\" rowspan=\"2\">3</th>\n",
       "                        <th id=\"T_9ccea_level1_row4\" class=\"row_heading level1 row4\" >0</th>\n",
       "                        <td id=\"T_9ccea_row4_col0\" class=\"data row4 col0\" >0.172932</td>\n",
       "            </tr>\n",
       "            <tr>\n",
       "                                <th id=\"T_9ccea_level1_row5\" class=\"row_heading level1 row5\" >1</th>\n",
       "                        <td id=\"T_9ccea_row5_col0\" class=\"data row5 col0\" >0.827068</td>\n",
       "            </tr>\n",
       "            <tr>\n",
       "                        <th id=\"T_9ccea_level0_row6\" class=\"row_heading level0 row6\" >4</th>\n",
       "                        <th id=\"T_9ccea_level1_row6\" class=\"row_heading level1 row6\" >1</th>\n",
       "                        <td id=\"T_9ccea_row6_col0\" class=\"data row6 col0\" >1.000000</td>\n",
       "            </tr>\n",
       "    </tbody></table>"
      ],
      "text/plain": [
       "<pandas.io.formats.style.Styler at 0x7f4e23f2b310>"
      ]
     },
     "execution_count": 10,
     "metadata": {},
     "output_type": "execute_result"
    }
   ],
   "source": [
    "a = data.groupby(['NumOfProducts', 'Exited'])['CreditScore'].count().rename(\"Доля оставшихся\")\n",
    "b = a /  a.groupby(level=0).sum()\n",
    "pd.DataFrame(data=b).style.bar() "
   ]
  },
  {
   "cell_type": "markdown",
   "metadata": {},
   "source": [
    "Самые надёжные - люди с двумя кредитными продуктами, они практически не уходят из банка. Возможно это совпадение или особенность банка, но признак важный"
   ]
  },
  {
   "cell_type": "code",
   "execution_count": 11,
   "metadata": {},
   "outputs": [
    {
     "data": {
      "text/html": [
       "<style  type=\"text/css\" >\n",
       "#T_e88af_row0_col0{\n",
       "            width:  10em;\n",
       "             height:  80%;\n",
       "            background:  linear-gradient(90deg,#d65f5f 100.0%, transparent 100.0%);\n",
       "        }#T_e88af_row1_col0{\n",
       "            width:  10em;\n",
       "             height:  80%;\n",
       "        }#T_e88af_row2_col0{\n",
       "            width:  10em;\n",
       "             height:  80%;\n",
       "            background:  linear-gradient(90deg,#d65f5f 75.9%, transparent 75.9%);\n",
       "        }#T_e88af_row3_col0{\n",
       "            width:  10em;\n",
       "             height:  80%;\n",
       "            background:  linear-gradient(90deg,#d65f5f 24.1%, transparent 24.1%);\n",
       "        }#T_e88af_row4_col0{\n",
       "            width:  10em;\n",
       "             height:  80%;\n",
       "            background:  linear-gradient(90deg,#d65f5f 99.2%, transparent 99.2%);\n",
       "        }#T_e88af_row5_col0{\n",
       "            width:  10em;\n",
       "             height:  80%;\n",
       "            background:  linear-gradient(90deg,#d65f5f 0.8%, transparent 0.8%);\n",
       "        }</style><table id=\"T_e88af_\" ><thead>    <tr>        <th class=\"blank\" ></th>        <th class=\"blank level0\" ></th>        <th class=\"col_heading level0 col0\" >Доля оставшихся</th>    </tr>    <tr>        <th class=\"index_name level0\" >Geography</th>        <th class=\"index_name level1\" >Exited</th>        <th class=\"blank\" ></th>    </tr></thead><tbody>\n",
       "                <tr>\n",
       "                        <th id=\"T_e88af_level0_row0\" class=\"row_heading level0 row0\" rowspan=\"2\">France</th>\n",
       "                        <th id=\"T_e88af_level1_row0\" class=\"row_heading level1 row0\" >0</th>\n",
       "                        <td id=\"T_e88af_row0_col0\" class=\"data row0 col0\" >0.838452</td>\n",
       "            </tr>\n",
       "            <tr>\n",
       "                                <th id=\"T_e88af_level1_row1\" class=\"row_heading level1 row1\" >1</th>\n",
       "                        <td id=\"T_e88af_row1_col0\" class=\"data row1 col0\" >0.161548</td>\n",
       "            </tr>\n",
       "            <tr>\n",
       "                        <th id=\"T_e88af_level0_row2\" class=\"row_heading level0 row2\" rowspan=\"2\">Germany</th>\n",
       "                        <th id=\"T_e88af_level1_row2\" class=\"row_heading level1 row2\" >0</th>\n",
       "                        <td id=\"T_e88af_row2_col0\" class=\"data row2 col0\" >0.675568</td>\n",
       "            </tr>\n",
       "            <tr>\n",
       "                                <th id=\"T_e88af_level1_row3\" class=\"row_heading level1 row3\" >1</th>\n",
       "                        <td id=\"T_e88af_row3_col0\" class=\"data row3 col0\" >0.324432</td>\n",
       "            </tr>\n",
       "            <tr>\n",
       "                        <th id=\"T_e88af_level0_row4\" class=\"row_heading level0 row4\" rowspan=\"2\">Spain</th>\n",
       "                        <th id=\"T_e88af_level1_row4\" class=\"row_heading level1 row4\" >0</th>\n",
       "                        <td id=\"T_e88af_row4_col0\" class=\"data row4 col0\" >0.833266</td>\n",
       "            </tr>\n",
       "            <tr>\n",
       "                                <th id=\"T_e88af_level1_row5\" class=\"row_heading level1 row5\" >1</th>\n",
       "                        <td id=\"T_e88af_row5_col0\" class=\"data row5 col0\" >0.166734</td>\n",
       "            </tr>\n",
       "    </tbody></table>"
      ],
      "text/plain": [
       "<pandas.io.formats.style.Styler at 0x7f4e23de0a60>"
      ]
     },
     "execution_count": 11,
     "metadata": {},
     "output_type": "execute_result"
    }
   ],
   "source": [
    "a = data.groupby(['Geography', 'Exited'])['CreditScore'].count().rename(\"Доля оставшихся\")\n",
    "b = a /  a.groupby(level=0).sum()\n",
    "pd.DataFrame(data=b).style.bar() "
   ]
  },
  {
   "cell_type": "markdown",
   "metadata": {},
   "source": [
    "Клиенты из Франции и Испании уходят примерно одинаково, а вот немецкие клиенты уходят в 2 раза чаще. Получается, страна — важный признак. И это категориальный признак — его нужно будет конвертировать в числовой."
   ]
  },
  {
   "cell_type": "markdown",
   "metadata": {},
   "source": [
    "Также посчитаем распределение ушедших из банка по половому признаку"
   ]
  },
  {
   "cell_type": "code",
   "execution_count": 12,
   "metadata": {},
   "outputs": [
    {
     "data": {
      "text/html": [
       "<style  type=\"text/css\" >\n",
       "#T_f7f31_row0_col0{\n",
       "            width:  10em;\n",
       "             height:  80%;\n",
       "            background:  linear-gradient(90deg,#d65f5f 87.2%, transparent 87.2%);\n",
       "        }#T_f7f31_row1_col0{\n",
       "            width:  10em;\n",
       "             height:  80%;\n",
       "            background:  linear-gradient(90deg,#d65f5f 12.8%, transparent 12.8%);\n",
       "        }#T_f7f31_row2_col0{\n",
       "            width:  10em;\n",
       "             height:  80%;\n",
       "            background:  linear-gradient(90deg,#d65f5f 100.0%, transparent 100.0%);\n",
       "        }#T_f7f31_row3_col0{\n",
       "            width:  10em;\n",
       "             height:  80%;\n",
       "        }</style><table id=\"T_f7f31_\" ><thead>    <tr>        <th class=\"blank\" ></th>        <th class=\"blank level0\" ></th>        <th class=\"col_heading level0 col0\" >Доля оставшихся</th>    </tr>    <tr>        <th class=\"index_name level0\" >Gender</th>        <th class=\"index_name level1\" >Exited</th>        <th class=\"blank\" ></th>    </tr></thead><tbody>\n",
       "                <tr>\n",
       "                        <th id=\"T_f7f31_level0_row0\" class=\"row_heading level0 row0\" rowspan=\"2\">Female</th>\n",
       "                        <th id=\"T_f7f31_level1_row0\" class=\"row_heading level1 row0\" >0</th>\n",
       "                        <td id=\"T_f7f31_row0_col0\" class=\"data row0 col0\" >0.749285</td>\n",
       "            </tr>\n",
       "            <tr>\n",
       "                                <th id=\"T_f7f31_level1_row1\" class=\"row_heading level1 row1\" >1</th>\n",
       "                        <td id=\"T_f7f31_row1_col0\" class=\"data row1 col0\" >0.250715</td>\n",
       "            </tr>\n",
       "            <tr>\n",
       "                        <th id=\"T_f7f31_level0_row2\" class=\"row_heading level0 row2\" rowspan=\"2\">Male</th>\n",
       "                        <th id=\"T_f7f31_level1_row2\" class=\"row_heading level1 row2\" >0</th>\n",
       "                        <td id=\"T_f7f31_row2_col0\" class=\"data row2 col0\" >0.835441</td>\n",
       "            </tr>\n",
       "            <tr>\n",
       "                                <th id=\"T_f7f31_level1_row3\" class=\"row_heading level1 row3\" >1</th>\n",
       "                        <td id=\"T_f7f31_row3_col0\" class=\"data row3 col0\" >0.164559</td>\n",
       "            </tr>\n",
       "    </tbody></table>"
      ],
      "text/plain": [
       "<pandas.io.formats.style.Styler at 0x7f4e23f2bac0>"
      ]
     },
     "execution_count": 12,
     "metadata": {},
     "output_type": "execute_result"
    }
   ],
   "source": [
    "a = data.groupby(['Gender', 'Exited'])['CreditScore'].count().rename(\"Доля оставшихся\")\n",
    "b = a /  a.groupby(level=0).sum()\n",
    "pd.DataFrame(data=b).style.bar() "
   ]
  },
  {
   "cell_type": "markdown",
   "metadata": {},
   "source": [
    "Женщины уходят чаще мужчин. Тоже интересный показатель"
   ]
  },
  {
   "cell_type": "markdown",
   "metadata": {},
   "source": [
    "Нужно что-то сделать с признаком Tenure - у него множество пропусков в данных. Этот признак слабо коррелирует с другими, поэтому можно попробовать заполнить пропуски медианным значением и перепроверить корреляцию."
   ]
  },
  {
   "cell_type": "code",
   "execution_count": 13,
   "metadata": {},
   "outputs": [
    {
     "data": {
      "image/png": "[encoded data removed]",
      "text/plain": [
       "<Figure size 720x360 with 2 Axes>"
      ]
     },
     "metadata": {
      "needs_background": "light"
     },
     "output_type": "display_data"
    }
   ],
   "source": [
    "data['Tenure']=data['Tenure'].fillna(data['Tenure'].median())\n",
    "\n",
    "plt.figure(figsize=(10, 5))\n",
    "plt.title('Корреляция признаков')\n",
    "\n",
    "sns.heatmap(data.corr(), annot = True)\n",
    "\n",
    "plt.show()"
   ]
  },
  {
   "cell_type": "markdown",
   "metadata": {},
   "source": [
    "Серьёзных изменений значений коэффициента не произошло, можем оставить заполнение таким и считать его корректным."
   ]
  },
  {
   "cell_type": "markdown",
   "metadata": {},
   "source": [
    "Следующий шаг — преобразование признаков. Воспользуемся техникой One-Hot Encoding, OHE"
   ]
  },
  {
   "cell_type": "code",
   "execution_count": 14,
   "metadata": {},
   "outputs": [
    {
     "data": {
      "text/html": [
       "<div>\n",
       "<style scoped>\n",
       "    .dataframe tbody tr th:only-of-type {\n",
       "        vertical-align: middle;\n",
       "    }\n",
       "\n",
       "    .dataframe tbody tr th {\n",
       "        vertical-align: top;\n",
       "    }\n",
       "\n",
       "    .dataframe thead th {\n",
       "        text-align: right;\n",
       "    }\n",
       "</style>\n",
       "<table border=\"1\" class=\"dataframe\">\n",
       "  <thead>\n",
       "    <tr style=\"text-align: right;\">\n",
       "      <th></th>\n",
       "      <th>CreditScore</th>\n",
       "      <th>Age</th>\n",
       "      <th>Tenure</th>\n",
       "      <th>Balance</th>\n",
       "      <th>NumOfProducts</th>\n",
       "      <th>HasCrCard</th>\n",
       "      <th>IsActiveMember</th>\n",
       "      <th>EstimatedSalary</th>\n",
       "      <th>Exited</th>\n",
       "      <th>Geography_Germany</th>\n",
       "      <th>Geography_Spain</th>\n",
       "      <th>Gender_Male</th>\n",
       "    </tr>\n",
       "  </thead>\n",
       "  <tbody>\n",
       "    <tr>\n",
       "      <th>0</th>\n",
       "      <td>619</td>\n",
       "      <td>42</td>\n",
       "      <td>2.0</td>\n",
       "      <td>0.00</td>\n",
       "      <td>1</td>\n",
       "      <td>1</td>\n",
       "      <td>1</td>\n",
       "      <td>101348.88</td>\n",
       "      <td>1</td>\n",
       "      <td>0</td>\n",
       "      <td>0</td>\n",
       "      <td>0</td>\n",
       "    </tr>\n",
       "    <tr>\n",
       "      <th>1</th>\n",
       "      <td>608</td>\n",
       "      <td>41</td>\n",
       "      <td>1.0</td>\n",
       "      <td>83807.86</td>\n",
       "      <td>1</td>\n",
       "      <td>0</td>\n",
       "      <td>1</td>\n",
       "      <td>112542.58</td>\n",
       "      <td>0</td>\n",
       "      <td>0</td>\n",
       "      <td>1</td>\n",
       "      <td>0</td>\n",
       "    </tr>\n",
       "    <tr>\n",
       "      <th>2</th>\n",
       "      <td>502</td>\n",
       "      <td>42</td>\n",
       "      <td>8.0</td>\n",
       "      <td>159660.80</td>\n",
       "      <td>3</td>\n",
       "      <td>1</td>\n",
       "      <td>0</td>\n",
       "      <td>113931.57</td>\n",
       "      <td>1</td>\n",
       "      <td>0</td>\n",
       "      <td>0</td>\n",
       "      <td>0</td>\n",
       "    </tr>\n",
       "    <tr>\n",
       "      <th>3</th>\n",
       "      <td>699</td>\n",
       "      <td>39</td>\n",
       "      <td>1.0</td>\n",
       "      <td>0.00</td>\n",
       "      <td>2</td>\n",
       "      <td>0</td>\n",
       "      <td>0</td>\n",
       "      <td>93826.63</td>\n",
       "      <td>0</td>\n",
       "      <td>0</td>\n",
       "      <td>0</td>\n",
       "      <td>0</td>\n",
       "    </tr>\n",
       "    <tr>\n",
       "      <th>4</th>\n",
       "      <td>850</td>\n",
       "      <td>43</td>\n",
       "      <td>2.0</td>\n",
       "      <td>125510.82</td>\n",
       "      <td>1</td>\n",
       "      <td>1</td>\n",
       "      <td>1</td>\n",
       "      <td>79084.10</td>\n",
       "      <td>0</td>\n",
       "      <td>0</td>\n",
       "      <td>1</td>\n",
       "      <td>0</td>\n",
       "    </tr>\n",
       "    <tr>\n",
       "      <th>5</th>\n",
       "      <td>645</td>\n",
       "      <td>44</td>\n",
       "      <td>8.0</td>\n",
       "      <td>113755.78</td>\n",
       "      <td>2</td>\n",
       "      <td>1</td>\n",
       "      <td>0</td>\n",
       "      <td>149756.71</td>\n",
       "      <td>1</td>\n",
       "      <td>0</td>\n",
       "      <td>1</td>\n",
       "      <td>1</td>\n",
       "    </tr>\n",
       "    <tr>\n",
       "      <th>6</th>\n",
       "      <td>822</td>\n",
       "      <td>50</td>\n",
       "      <td>7.0</td>\n",
       "      <td>0.00</td>\n",
       "      <td>2</td>\n",
       "      <td>1</td>\n",
       "      <td>1</td>\n",
       "      <td>10062.80</td>\n",
       "      <td>0</td>\n",
       "      <td>0</td>\n",
       "      <td>0</td>\n",
       "      <td>1</td>\n",
       "    </tr>\n",
       "    <tr>\n",
       "      <th>7</th>\n",
       "      <td>376</td>\n",
       "      <td>29</td>\n",
       "      <td>4.0</td>\n",
       "      <td>115046.74</td>\n",
       "      <td>4</td>\n",
       "      <td>1</td>\n",
       "      <td>0</td>\n",
       "      <td>119346.88</td>\n",
       "      <td>1</td>\n",
       "      <td>1</td>\n",
       "      <td>0</td>\n",
       "      <td>0</td>\n",
       "    </tr>\n",
       "    <tr>\n",
       "      <th>8</th>\n",
       "      <td>501</td>\n",
       "      <td>44</td>\n",
       "      <td>4.0</td>\n",
       "      <td>142051.07</td>\n",
       "      <td>2</td>\n",
       "      <td>0</td>\n",
       "      <td>1</td>\n",
       "      <td>74940.50</td>\n",
       "      <td>0</td>\n",
       "      <td>0</td>\n",
       "      <td>0</td>\n",
       "      <td>1</td>\n",
       "    </tr>\n",
       "    <tr>\n",
       "      <th>9</th>\n",
       "      <td>684</td>\n",
       "      <td>27</td>\n",
       "      <td>2.0</td>\n",
       "      <td>134603.88</td>\n",
       "      <td>1</td>\n",
       "      <td>1</td>\n",
       "      <td>1</td>\n",
       "      <td>71725.73</td>\n",
       "      <td>0</td>\n",
       "      <td>0</td>\n",
       "      <td>0</td>\n",
       "      <td>1</td>\n",
       "    </tr>\n",
       "  </tbody>\n",
       "</table>\n",
       "</div>"
      ],
      "text/plain": [
       "   CreditScore  Age  Tenure    Balance  NumOfProducts  HasCrCard  \\\n",
       "0          619   42     2.0       0.00              1          1   \n",
       "1          608   41     1.0   83807.86              1          0   \n",
       "2          502   42     8.0  159660.80              3          1   \n",
       "3          699   39     1.0       0.00              2          0   \n",
       "4          850   43     2.0  125510.82              1          1   \n",
       "5          645   44     8.0  113755.78              2          1   \n",
       "6          822   50     7.0       0.00              2          1   \n",
       "7          376   29     4.0  115046.74              4          1   \n",
       "8          501   44     4.0  142051.07              2          0   \n",
       "9          684   27     2.0  134603.88              1          1   \n",
       "\n",
       "   IsActiveMember  EstimatedSalary  Exited  Geography_Germany  \\\n",
       "0               1        101348.88       1                  0   \n",
       "1               1        112542.58       0                  0   \n",
       "2               0        113931.57       1                  0   \n",
       "3               0         93826.63       0                  0   \n",
       "4               1         79084.10       0                  0   \n",
       "5               0        149756.71       1                  0   \n",
       "6               1         10062.80       0                  0   \n",
       "7               0        119346.88       1                  1   \n",
       "8               1         74940.50       0                  0   \n",
       "9               1         71725.73       0                  0   \n",
       "\n",
       "   Geography_Spain  Gender_Male  \n",
       "0                0            0  \n",
       "1                1            0  \n",
       "2                0            0  \n",
       "3                0            0  \n",
       "4                1            0  \n",
       "5                1            1  \n",
       "6                0            1  \n",
       "7                0            0  \n",
       "8                0            1  \n",
       "9                0            1  "
      ]
     },
     "execution_count": 14,
     "metadata": {},
     "output_type": "execute_result"
    }
   ],
   "source": [
    "data = pd.get_dummies(data, drop_first=True)\n",
    "data.head(10)"
   ]
  },
  {
   "cell_type": "markdown",
   "metadata": {},
   "source": [
    "Ещё одна задача - стандартизировать данные, так как у наших признаков разный масштаб и алгоритм автоматически может решить, что, скажем, EstimatedSalary важнее Age. А это не так: все признаки значимы (а Age и некоторые другие уж точно, как мы выше выяснили).\n",
    "\n",
    "Воспользуемся StandardScaler, создадим объект этой структуры и настроим его на обучающих данных, а затем преобразуем."
   ]
  },
  {
   "cell_type": "markdown",
   "metadata": {},
   "source": [
    "Так как у нас нет тестовой выборки, делим данные на три части: обучающую, валидационную и тестовую в соотношении 3:1:1."
   ]
  },
  {
   "cell_type": "code",
   "execution_count": 15,
   "metadata": {},
   "outputs": [
    {
     "name": "stdout",
     "output_type": "stream",
     "text": [
      "Размер обучающей выборки: 6000\n",
      "Размер валидационной выборки: 2000\n",
      "Размер тестовой выборки: 2000\n",
      "Общий размер исходного датасета: 10000 (сумма выборок: 10000)\n"
     ]
    }
   ],
   "source": [
    "features = data.drop(['Exited'], axis=1)\n",
    "target = data['Exited']\n",
    "\n",
    "features_train, features_test, target_train, target_test = train_test_split(features, \n",
    "                                                                            target, \n",
    "                                                                            test_size=0.2, \n",
    "                                                                            random_state=12345)\n",
    "\n",
    "\n",
    "features_train, features_valid, target_train, target_valid = train_test_split(features_train,\n",
    "                                                                target_train,\n",
    "                                                                test_size=0.25,\n",
    "                                                                random_state=12345)\n",
    "\n",
    "print('Размер обучающей выборки:',features_train.shape[0])\n",
    "print('Размер валидационной выборки:',features_valid.shape[0])\n",
    "print('Размер тестовой выборки:',features_test.shape[0])\n",
    "print('Общий размер исходного датасета: {} (сумма выборок: {})'.format(data.shape[0], features_train.shape[0]+features_valid.shape[0]+features_test.shape[0]))"
   ]
  },
  {
   "cell_type": "code",
   "execution_count": 16,
   "metadata": {},
   "outputs": [],
   "source": [
    "#Стандартизируем параметры\n",
    "\n",
    "numeric = ['CreditScore', 'Age', 'Tenure', 'Balance', 'NumOfProducts', 'EstimatedSalary']\n",
    "\n",
    "# обучаем стандартизацию\n",
    "pd.options.mode.chained_assignment = None\n",
    "scaler = StandardScaler()\n",
    "scaler.fit(features_train[numeric]) \n",
    "features_train[numeric] = scaler.transform(features_train[numeric])\n",
    "features_valid[numeric] = scaler.transform(features_valid[numeric])\n",
    "features_test[numeric] = scaler.transform(features_test[numeric])"
   ]
  },
  {
   "cell_type": "markdown",
   "metadata": {},
   "source": [
    "## Исследование задачи. Обучение модели без учёта дисбаланса"
   ]
  },
  {
   "cell_type": "markdown",
   "metadata": {},
   "source": [
    "Мы будем использовать три модели машинного обучения: дерево решений, случайный лес и линейную регрессию"
   ]
  },
  {
   "cell_type": "code",
   "execution_count": 17,
   "metadata": {},
   "outputs": [],
   "source": [
    "#напишем функцию для вывода графика ROC и нужных параметров для решения задачи\n",
    "def auc_roc(model, features_valid=features_valid, target_valid=target_valid):\n",
    "    probabilities_valid = model.predict_proba(features_valid)\n",
    "    probabilities_one_valid = probabilities_valid[:, 1]\n",
    "    fpr, tpr, thresholds = roc_curve(target_valid, probabilities_one_valid) \n",
    "    plt.figure(figsize=(10,10))\n",
    "    plt.plot(fpr, tpr)\n",
    "    plt.plot([0, 1], [0, 1], linestyle='--')\n",
    "    plt.xlim([0.0, 1.0])\n",
    "    plt.ylim([0.0, 1.0])\n",
    "    plt.xlabel('False Positive Rate')\n",
    "    plt.ylabel('True Positive Rate')\n",
    "    plt.title('ROC-кривая')\n",
    "    plt.show()\n",
    "    \n",
    "    print('Расчёт площади кривой ROC: {:.4f}'.format(roc_auc_score(target_valid, probabilities_one_valid)))"
   ]
  },
  {
   "cell_type": "code",
   "execution_count": 18,
   "metadata": {},
   "outputs": [],
   "source": [
    "#подбор параметров для несбалансированной выборки дерево решений\n",
    "best_depth_tree = 0 \n",
    "f1_best_tree = 0\n",
    "\n",
    "for depth in range(1, 31):\n",
    "    model = DecisionTreeClassifier(random_state=12345, max_depth=depth)\n",
    "    model.fit(features_train, target_train)\n",
    "    predictions_valid = model.predict(features_valid)\n",
    "    f1 = f1_score(target_valid, predictions_valid)\n",
    "    if f1 > f1_best_tree:\n",
    "        best_depth_tree = depth\n",
    "        f1_best_tree = f1"
   ]
  },
  {
   "cell_type": "code",
   "execution_count": 19,
   "metadata": {},
   "outputs": [
    {
     "data": {
      "image/png": "[encoded data removed]",
      "text/plain": [
       "<Figure size 720x720 with 1 Axes>"
      ]
     },
     "metadata": {
      "needs_background": "light"
     },
     "output_type": "display_data"
    },
    {
     "name": "stdout",
     "output_type": "stream",
     "text": [
      "Расчёт площади кривой ROC: 0.8231\n",
      "Расчёт F1: 0.5583596214511041\n"
     ]
    }
   ],
   "source": [
    "#Проверяем дерево решений\n",
    "model = DecisionTreeClassifier(random_state=12345,\n",
    "                               max_depth=best_depth_tree)\n",
    "model.fit(features_train, target_train)\n",
    "predictions_valid = model.predict(features_valid)\n",
    "\n",
    "auc_roc(model)\n",
    "\n",
    "print('Расчёт F1:' ,(f1_score(target_valid, predictions_valid)))"
   ]
  },
  {
   "cell_type": "markdown",
   "metadata": {},
   "source": [
    "Задача — построить модель с предельно большим значением F1-меры. Нужно довести метрику F1 до 0.59, сейчас 0.55. Смотрим другие модели."
   ]
  },
  {
   "cell_type": "code",
   "execution_count": 20,
   "metadata": {},
   "outputs": [],
   "source": [
    "#подбираем параметры для модели случайного леса\n",
    "best_depth_forest = 0\n",
    "best_est_forest = 0 \n",
    "f1_best_forest = 0\n",
    "\n",
    "for est in range(10, 61, 10):\n",
    "    for depth in range (1, 25):\n",
    "        model = RandomForestClassifier(random_state=12345, n_estimators=est, max_depth=depth)\n",
    "        model.fit(features_train, target_train)\n",
    "        predictions_valid = model.predict(features_valid)\n",
    "        f1 = f1_score(target_valid, predictions_valid)\n",
    "        if f1 > f1_best_forest:\n",
    "            best_depth_forest = depth\n",
    "            best_est_forest = est\n",
    "            f1_best_forest = f1\n",
    "# сохраняем параметры\n",
    "forest_best = {'depth':best_depth_forest, 'n_estimators':best_est_forest}"
   ]
  },
  {
   "cell_type": "code",
   "execution_count": 21,
   "metadata": {},
   "outputs": [
    {
     "data": {
      "image/png": "[encoded data removed]",
      "text/plain": [
       "<Figure size 720x720 with 1 Axes>"
      ]
     },
     "metadata": {
      "needs_background": "light"
     },
     "output_type": "display_data"
    },
    {
     "name": "stdout",
     "output_type": "stream",
     "text": [
      "Расчёт площади кривой ROC: 0.8379\n",
      "Расчёт F1: 0.5805422647527911\n"
     ]
    }
   ],
   "source": [
    "model = RandomForestClassifier(random_state=12345,\n",
    "                               n_estimators=best_est_forest,\n",
    "                               max_depth=best_depth_forest)\n",
    "model.fit(features_train, target_train)\n",
    "predictions_valid = model.predict(features_valid)\n",
    "probabilities_valid = model.predict_proba(features_valid)\n",
    "probabilities_one_valid = probabilities_valid[:, 1]\n",
    "auc_roc(model)\n",
    "\n",
    "print('Расчёт F1:' ,(f1_score(target_valid, predictions_valid)))"
   ]
  },
  {
   "cell_type": "markdown",
   "metadata": {},
   "source": [
    "Площадь кривой больше, значение F1 недотягивает до 59. Идём дальше."
   ]
  },
  {
   "cell_type": "code",
   "execution_count": 22,
   "metadata": {},
   "outputs": [
    {
     "data": {
      "image/png": "[encoded data removed]",
      "text/plain": [
       "<Figure size 720x720 with 1 Axes>"
      ]
     },
     "metadata": {
      "needs_background": "light"
     },
     "output_type": "display_data"
    },
    {
     "name": "stdout",
     "output_type": "stream",
     "text": [
      "Расчёт площади кривой ROC: 0.7703\n",
      "Расчёт F1: 0.30131826741996237\n"
     ]
    }
   ],
   "source": [
    "#Третья модель — логическая регрессия\n",
    "model = LogisticRegression(random_state=12345)\n",
    "model.fit(features_train, target_train)\n",
    "predictions_valid = model.predict(features_valid)\n",
    "\n",
    "auc_roc(model)\n",
    "print('Расчёт F1:' ,(f1_score(target_valid, predictions_valid)))"
   ]
  },
  {
   "cell_type": "markdown",
   "metadata": {},
   "source": [
    "Метрики логической регрессии оказались хуже модели деревьев и случайного леса.\n",
    "\n",
    "В целом пока метрики не удовлетворяют нужным нам требованиям — нам нужно решать проблему с дисбалансом классов, ведь как мы подсчитали выше, лишь 20% клиентов уходят из банка и данные неслабансированные."
   ]
  },
  {
   "cell_type": "markdown",
   "metadata": {},
   "source": [
    "## Борьба с дисбалансом"
   ]
  },
  {
   "cell_type": "markdown",
   "metadata": {},
   "source": [
    "Есть несколько способов избавиться от дисбаланса:\n",
    "* Взвешивание классов\n",
    "* Увеличение выборки\n",
    "* Уменьшение выборки\n",
    "* Изменение порога классификации"
   ]
  },
  {
   "cell_type": "markdown",
   "metadata": {},
   "source": [
    "### Взвешивание классов"
   ]
  },
  {
   "cell_type": "code",
   "execution_count": 23,
   "metadata": {},
   "outputs": [
    {
     "data": {
      "image/png": "[encoded data removed]",
      "text/plain": [
       "<Figure size 720x720 with 1 Axes>"
      ]
     },
     "metadata": {
      "needs_background": "light"
     },
     "output_type": "display_data"
    },
    {
     "name": "stdout",
     "output_type": "stream",
     "text": [
      "Расчёт площади кривой ROC: 0.8059\n",
      "Расчёт F1: 0.5535353535353534\n"
     ]
    }
   ],
   "source": [
    "#дерево решений\n",
    "model = DecisionTreeClassifier(random_state=12345,\n",
    "                               max_depth=best_depth_tree,\n",
    "                               class_weight='balanced')\n",
    "model.fit(features_train, target_train)\n",
    "predictions_valid = model.predict(features_valid)\n",
    "\n",
    "\n",
    "auc_roc(model)\n",
    "print('Расчёт F1:' ,(f1_score(target_valid, predictions_valid)))"
   ]
  },
  {
   "cell_type": "markdown",
   "metadata": {},
   "source": [
    "Метрики остались хуже необходимого"
   ]
  },
  {
   "cell_type": "code",
   "execution_count": 24,
   "metadata": {},
   "outputs": [
    {
     "data": {
      "image/png": "[encoded data removed]",
      "text/plain": [
       "<Figure size 720x720 with 1 Axes>"
      ]
     },
     "metadata": {
      "needs_background": "light"
     },
     "output_type": "display_data"
    },
    {
     "name": "stdout",
     "output_type": "stream",
     "text": [
      "Расчёт площади кривой ROC: 0.8422\n",
      "Расчёт F1: 0.5637181409295353\n"
     ]
    }
   ],
   "source": [
    "#взвешивание классов\n",
    "#случайный лес\n",
    "\n",
    "model = RandomForestClassifier(random_state=12345,\n",
    "                               n_estimators=best_est_forest,\n",
    "                               max_depth=best_depth_forest,\n",
    "                              class_weight='balanced')\n",
    "model.fit(features_train, target_train)\n",
    "predictions_valid = model.predict(features_valid)\n",
    "\n",
    "auc_roc(model)\n",
    "print('Расчёт F1:' ,(f1_score(target_valid, predictions_valid)))"
   ]
  },
  {
   "cell_type": "markdown",
   "metadata": {},
   "source": [
    "Метрики качества не соответствуют необходимым"
   ]
  },
  {
   "cell_type": "code",
   "execution_count": 25,
   "metadata": {},
   "outputs": [
    {
     "data": {
      "image/png": "[encoded data removed]",
      "text/plain": [
       "<Figure size 720x720 with 1 Axes>"
      ]
     },
     "metadata": {
      "needs_background": "light"
     },
     "output_type": "display_data"
    },
    {
     "name": "stdout",
     "output_type": "stream",
     "text": [
      "Расчёт площади кривой ROC: 0.7726\n",
      "Расчёт F1: 0.4741532976827095\n"
     ]
    }
   ],
   "source": [
    "#взвешивание классов\n",
    "#логическая регрессия\n",
    "\n",
    "model = LogisticRegression(random_state=12345, solver='liblinear', class_weight='balanced')\n",
    "model.fit(features_train, target_train)\n",
    "predictions_valid = model.predict(features_valid)\n",
    "\n",
    "auc_roc(model)\n",
    "print('Расчёт F1:' ,(f1_score(target_valid, predictions_valid)))"
   ]
  },
  {
   "cell_type": "markdown",
   "metadata": {},
   "source": [
    "Метрики качества не соответствуют необходимым"
   ]
  },
  {
   "cell_type": "markdown",
   "metadata": {},
   "source": [
    "### Увеличение выборки"
   ]
  },
  {
   "cell_type": "code",
   "execution_count": 26,
   "metadata": {},
   "outputs": [],
   "source": [
    "# Создаём функцию для увеличения и перемешивания выборки\n",
    "\n",
    "def upsample(features, target, repeat):\n",
    "    features_zeros = features[target == 0]\n",
    "    features_ones = features[target == 1]\n",
    "    target_zeros = target[target == 0]\n",
    "    target_ones = target[target == 1]\n",
    "    \n",
    "    features_upsampled = pd.concat([features_zeros] + [features_ones] * repeat)\n",
    "    target_upsampled = pd.concat([target_zeros] + [target_ones] * repeat)\n",
    "    \n",
    "    features_upsampled, target_upsampled = shuffle(\n",
    "        features_upsampled, target_upsampled, random_state=12345)\n",
    "    \n",
    "    return features_upsampled, target_upsampled"
   ]
  },
  {
   "cell_type": "markdown",
   "metadata": {},
   "source": [
    "Нам нужно увеличить выборку в 4 раза, так как количество ушедших клиентов в 4 раза меньше (20% против 80%)"
   ]
  },
  {
   "cell_type": "code",
   "execution_count": 27,
   "metadata": {},
   "outputs": [],
   "source": [
    "features_upsampled, target_upsampled = upsample(features_train, target_train, 4)"
   ]
  },
  {
   "cell_type": "code",
   "execution_count": 28,
   "metadata": {},
   "outputs": [
    {
     "name": "stdout",
     "output_type": "stream",
     "text": [
      "(9657, 11)\n",
      "(9657,)\n"
     ]
    }
   ],
   "source": [
    "print(features_upsampled.shape)\n",
    "print(target_upsampled.shape)"
   ]
  },
  {
   "cell_type": "markdown",
   "metadata": {},
   "source": [
    "Проверка успешна, выборка увеличена"
   ]
  },
  {
   "cell_type": "code",
   "execution_count": 29,
   "metadata": {},
   "outputs": [],
   "source": [
    "#подбор параметров для сбалансированной выборки дерева решений\n",
    "best_depth_tree = 0 \n",
    "f1_best_tree = 0\n",
    "\n",
    "for depth in range(1, 31):\n",
    "    model = DecisionTreeClassifier(random_state=12345, max_depth=depth)\n",
    "    model.fit(features_upsampled, target_upsampled)\n",
    "    predictions_valid = model.predict(features_valid)\n",
    "    f1 = f1_score(target_valid, predictions_valid)\n",
    "    if f1 > f1_best_tree:\n",
    "        best_depth_tree = depth\n",
    "        f1_best_tree = f1"
   ]
  },
  {
   "cell_type": "code",
   "execution_count": 30,
   "metadata": {},
   "outputs": [
    {
     "data": {
      "image/png": "[encoded data removed]",
      "text/plain": [
       "<Figure size 720x720 with 1 Axes>"
      ]
     },
     "metadata": {
      "needs_background": "light"
     },
     "output_type": "display_data"
    },
    {
     "name": "stdout",
     "output_type": "stream",
     "text": [
      "Расчёт площади кривой ROC: 0.8091\n",
      "Расчёт F1: 0.5587044534412956\n"
     ]
    }
   ],
   "source": [
    "model = DecisionTreeClassifier(random_state=12345,\n",
    "                               max_depth=best_depth_tree)\n",
    "model.fit(features_upsampled, target_upsampled)\n",
    "predictions_valid = model.predict(features_valid)\n",
    "\n",
    "auc_roc(model)\n",
    "print('Расчёт F1:' ,(f1_score(target_valid, predictions_valid)))"
   ]
  },
  {
   "cell_type": "markdown",
   "metadata": {},
   "source": [
    "F1 выросла незначительно и всё ещё меньше таргета в 0.59"
   ]
  },
  {
   "cell_type": "code",
   "execution_count": 31,
   "metadata": {},
   "outputs": [],
   "source": [
    "#подбираем параметры для модели случайного леса\n",
    "best_depth_forest = 0\n",
    "best_est_forest = 0 \n",
    "f1_best_forest = 0\n",
    "\n",
    "for est in range(10, 61, 10):\n",
    "    for depth in range (1, 25):\n",
    "        model = RandomForestClassifier(random_state=12345, n_estimators=est, max_depth=depth)\n",
    "        model.fit(features_upsampled, target_upsampled)\n",
    "        predictions_valid = model.predict(features_valid)\n",
    "        f1 = f1_score(target_valid, predictions_valid)\n",
    "        if f1 > f1_best_forest:\n",
    "            best_depth_forest = depth\n",
    "            best_est_forest = est\n",
    "            f1_best_forest = f1"
   ]
  },
  {
   "cell_type": "code",
   "execution_count": 32,
   "metadata": {},
   "outputs": [
    {
     "data": {
      "image/png": "[encoded data removed]",
      "text/plain": [
       "<Figure size 720x720 with 1 Axes>"
      ]
     },
     "metadata": {
      "needs_background": "light"
     },
     "output_type": "display_data"
    },
    {
     "name": "stdout",
     "output_type": "stream",
     "text": [
      "Расчёт площади кривой ROC: 0.8469\n",
      "Расчёт F1: 0.6022584692597239\n"
     ]
    }
   ],
   "source": [
    "model = RandomForestClassifier(random_state=12345,\n",
    "                               n_estimators=best_est_forest,\n",
    "                               max_depth=best_depth_forest)\n",
    "model.fit(features_upsampled, target_upsampled)\n",
    "predictions_valid = model.predict(features_valid)\n",
    "\n",
    "\n",
    "auc_roc(model)\n",
    "print('Расчёт F1:' ,(f1_score(target_valid, predictions_valid)))"
   ]
  },
  {
   "cell_type": "markdown",
   "metadata": {},
   "source": [
    "Значение F1 превышает 0.60 и удовлетворяет нашей задаче (>0.59)!"
   ]
  },
  {
   "cell_type": "code",
   "execution_count": 33,
   "metadata": {},
   "outputs": [
    {
     "data": {
      "image/png": "[encoded data removed]",
      "text/plain": [
       "<Figure size 720x720 with 1 Axes>"
      ]
     },
     "metadata": {
      "needs_background": "light"
     },
     "output_type": "display_data"
    },
    {
     "name": "stdout",
     "output_type": "stream",
     "text": [
      "Расчёт площади кривой ROC: 0.7726\n",
      "Расчёт F1: 0.4771126760563381\n"
     ]
    }
   ],
   "source": [
    "#проверка увеличенной выборки на линейной регрессии\n",
    "\n",
    "model = LogisticRegression(random_state=12345)\n",
    "model.fit(features_upsampled, target_upsampled)\n",
    "predictions_valid = model.predict(features_valid)\n",
    "\n",
    "auc_roc(model)\n",
    "print('Расчёт F1:' ,(f1_score(target_valid, predictions_valid)))"
   ]
  },
  {
   "cell_type": "markdown",
   "metadata": {},
   "source": [
    "Метрики ниже необходимых"
   ]
  },
  {
   "cell_type": "markdown",
   "metadata": {},
   "source": [
    "### Уменьшение выборки"
   ]
  },
  {
   "cell_type": "markdown",
   "metadata": {},
   "source": [
    "Следующий способ борьбы с дисбалансом — уменьшение выборки (в нашем случае – в 4 раза)"
   ]
  },
  {
   "cell_type": "code",
   "execution_count": 34,
   "metadata": {},
   "outputs": [],
   "source": [
    "#функция уменьшения выборки\n",
    "def downsample(features, target, fraction):\n",
    "    features_zeros = features[target == 0]\n",
    "    features_ones = features[target == 1]\n",
    "    target_zeros = target[target == 0]\n",
    "    target_ones = target[target == 1]\n",
    "\n",
    "    features_downsampled = pd.concat(\n",
    "        [features_zeros.sample(frac=fraction, random_state=12345)] + [features_ones])\n",
    "    target_downsampled = pd.concat(\n",
    "        [target_zeros.sample(frac=fraction, random_state=12345)] + [target_ones])\n",
    "    \n",
    "    features_downsampled, target_downsampled = shuffle(\n",
    "        features_downsampled, target_downsampled, random_state=12345)\n",
    "    \n",
    "    return features_downsampled, target_downsampled"
   ]
  },
  {
   "cell_type": "code",
   "execution_count": 35,
   "metadata": {},
   "outputs": [],
   "source": [
    "features_downsampled, target_downsampled = downsample(features_train, target_train, 0.25)"
   ]
  },
  {
   "cell_type": "code",
   "execution_count": 36,
   "metadata": {},
   "outputs": [
    {
     "name": "stdout",
     "output_type": "stream",
     "text": [
      "(2414, 11)\n",
      "(2414,)\n"
     ]
    }
   ],
   "source": [
    "print(features_downsampled.shape)\n",
    "print(target_downsampled.shape)"
   ]
  },
  {
   "cell_type": "markdown",
   "metadata": {},
   "source": [
    "Выборка уменьшена в 4 раза. Можно тестировать"
   ]
  },
  {
   "cell_type": "code",
   "execution_count": 37,
   "metadata": {},
   "outputs": [],
   "source": [
    "#подбор параметров для сбалансированной выборки дерево решений\n",
    "best_depth_tree = 0 \n",
    "f1_best_tree = 0\n",
    "\n",
    "for depth in range(1, 31):\n",
    "    model = DecisionTreeClassifier(random_state=12345, max_depth=depth)\n",
    "    model.fit(features_downsampled, target_downsampled)\n",
    "    predictions_valid = model.predict(features_valid)\n",
    "    f1 = f1_score(target_valid, predictions_valid)\n",
    "    if f1 > f1_best_tree:\n",
    "        best_depth_tree = depth\n",
    "        f1_best_tree = f1"
   ]
  },
  {
   "cell_type": "code",
   "execution_count": 38,
   "metadata": {},
   "outputs": [
    {
     "data": {
      "image/png": "[encoded data removed]",
      "text/plain": [
       "<Figure size 720x720 with 1 Axes>"
      ]
     },
     "metadata": {
      "needs_background": "light"
     },
     "output_type": "display_data"
    },
    {
     "name": "stdout",
     "output_type": "stream",
     "text": [
      "Расчёт площади кривой ROC: 0.8144\n",
      "Расчёт F1: 0.5493482309124766\n"
     ]
    }
   ],
   "source": [
    "model = DecisionTreeClassifier(random_state=12345,\n",
    "                               max_depth=best_depth_tree)\n",
    "model.fit(features_downsampled, target_downsampled)\n",
    "predictions_valid = model.predict(features_valid)\n",
    "\n",
    "auc_roc(model)\n",
    "print('Расчёт F1:' ,(f1_score(target_valid, predictions_valid)))"
   ]
  },
  {
   "cell_type": "markdown",
   "metadata": {},
   "source": [
    "Метрики меньше необходимого"
   ]
  },
  {
   "cell_type": "code",
   "execution_count": 39,
   "metadata": {},
   "outputs": [],
   "source": [
    "#подбираем параметры для модели случайного леса\n",
    "best_depth_forest = 0\n",
    "best_est_forest = 0 \n",
    "f1_best_forest = 0\n",
    "\n",
    "for est in range(10, 61, 10):\n",
    "    for depth in range (1, 25):\n",
    "        model = RandomForestClassifier(random_state=12345, n_estimators=est, max_depth=depth)\n",
    "        model.fit(features_downsampled, target_downsampled)\n",
    "        predictions_valid = model.predict(features_valid)\n",
    "        f1 = f1_score(target_valid, predictions_valid)\n",
    "        if f1 > f1_best_forest:\n",
    "            best_depth_forest = depth\n",
    "            best_est_forest = est\n",
    "            f1_best_forest = f1"
   ]
  },
  {
   "cell_type": "code",
   "execution_count": 40,
   "metadata": {},
   "outputs": [
    {
     "data": {
      "image/png": "[encoded data removed]",
      "text/plain": [
       "<Figure size 720x720 with 1 Axes>"
      ]
     },
     "metadata": {
      "needs_background": "light"
     },
     "output_type": "display_data"
    },
    {
     "name": "stdout",
     "output_type": "stream",
     "text": [
      "Расчёт площади кривой ROC: 0.8233\n",
      "Расчёт F1: 0.5731584258324924\n"
     ]
    }
   ],
   "source": [
    "model = RandomForestClassifier(random_state=12345,\n",
    "                               n_estimators=best_est_forest,\n",
    "                               max_depth=best_depth_forest)\n",
    "model.fit(features_downsampled, target_downsampled)\n",
    "predictions_valid = model.predict(features_valid)\n",
    "\n",
    "auc_roc(model)\n",
    "print('Расчёт F1:' ,(f1_score(target_valid, predictions_valid)))"
   ]
  },
  {
   "cell_type": "markdown",
   "metadata": {},
   "source": [
    "Метрики ниже необходимых в 0.59 и хуже, чем при увеличении выборки"
   ]
  },
  {
   "cell_type": "code",
   "execution_count": 41,
   "metadata": {},
   "outputs": [
    {
     "data": {
      "image/png": "[encoded data removed]",
      "text/plain": [
       "<Figure size 720x720 with 1 Axes>"
      ]
     },
     "metadata": {
      "needs_background": "light"
     },
     "output_type": "display_data"
    },
    {
     "name": "stdout",
     "output_type": "stream",
     "text": [
      "Расчёт площади кривой ROC: 0.7738\n",
      "Расчёт F1: 0.4741000877963125\n"
     ]
    }
   ],
   "source": [
    "#проверка уменьшенной выборки на линейной регрессии\n",
    "\n",
    "model = LogisticRegression(random_state=12345)\n",
    "model.fit(features_downsampled, target_downsampled)\n",
    "predictions_valid = model.predict(features_valid)\n",
    "\n",
    "auc_roc(model)\n",
    "print('Расчёт F1:' ,(f1_score(target_valid, predictions_valid)))"
   ]
  },
  {
   "cell_type": "markdown",
   "metadata": {},
   "source": [
    "Результаты ниже необходимого"
   ]
  },
  {
   "cell_type": "markdown",
   "metadata": {},
   "source": [
    "### Изменение порога значений"
   ]
  },
  {
   "cell_type": "code",
   "execution_count": 42,
   "metadata": {},
   "outputs": [
    {
     "name": "stdout",
     "output_type": "stream",
     "text": [
      "Порог = 0.00 | F1 = 0.323\n",
      "Порог = 0.02 | F1 = 0.352\n",
      "Порог = 0.04 | F1 = 0.389\n",
      "Порог = 0.06 | F1 = 0.404\n",
      "Порог = 0.08 | F1 = 0.442\n",
      "Порог = 0.10 | F1 = 0.538\n",
      "Порог = 0.14 | F1 = 0.559\n",
      "Порог = 0.16 | F1 = 0.564\n",
      "Порог = 0.20 | F1 = 0.565\n",
      "Порог = 0.24 | F1 = 0.567\n",
      "Порог = 0.26 | F1 = 0.571\n",
      "Порог = 0.28 | F1 = 0.584\n"
     ]
    },
    {
     "data": {
      "image/png": "[encoded data removed]",
      "text/plain": [
       "<Figure size 720x720 with 1 Axes>"
      ]
     },
     "metadata": {
      "needs_background": "light"
     },
     "output_type": "display_data"
    },
    {
     "name": "stdout",
     "output_type": "stream",
     "text": [
      "Расчёт площади кривой ROC: 0.8231\n",
      "Расчёт F1: 0.5841924398625429\n"
     ]
    }
   ],
   "source": [
    "#Четвёртый способ — изменение порога значений, переберём их для каждой модели.\n",
    "#Дерево решений\n",
    "\n",
    "model = DecisionTreeClassifier(random_state=12345, max_depth=best_depth_tree)\n",
    "model.fit(features_train, target_train)\n",
    "probabilities_valid = model.predict_proba(features_valid)\n",
    "probabilities_one_valid = probabilities_valid[:, 1]\n",
    "\n",
    "f1_best_tree = 0\n",
    "predicted_best = []\n",
    "for threshold in np.arange(0, 0.5, 0.02):\n",
    "    predictions_valid = probabilities_one_valid > threshold\n",
    "    f1 = f1_score(target_valid, predictions_valid)\n",
    "    if f1 > f1_best_tree:\n",
    "        f1_best_tree= f1\n",
    "        predicted_best = predictions_valid\n",
    "        print(\"Порог = {:.2f} | F1 = {:.3f}\".format(\n",
    "        threshold, f1))\n",
    "\n",
    "auc_roc(model)\n",
    "print('Расчёт F1:' ,(f1_score(target_valid, predicted_best)))"
   ]
  },
  {
   "cell_type": "markdown",
   "metadata": {},
   "source": [
    "Метрики чуть хуже необходимого"
   ]
  },
  {
   "cell_type": "code",
   "execution_count": 43,
   "metadata": {},
   "outputs": [
    {
     "name": "stdout",
     "output_type": "stream",
     "text": [
      "Порог = 0.00 | F1 = 0.328\n",
      "Порог = 0.02 | F1 = 0.359\n",
      "Порог = 0.04 | F1 = 0.391\n",
      "Порог = 0.06 | F1 = 0.420\n",
      "Порог = 0.08 | F1 = 0.444\n",
      "Порог = 0.10 | F1 = 0.468\n",
      "Порог = 0.12 | F1 = 0.483\n",
      "Порог = 0.14 | F1 = 0.503\n",
      "Порог = 0.16 | F1 = 0.513\n",
      "Порог = 0.18 | F1 = 0.537\n",
      "Порог = 0.20 | F1 = 0.552\n",
      "Порог = 0.22 | F1 = 0.562\n",
      "Порог = 0.24 | F1 = 0.567\n",
      "Порог = 0.26 | F1 = 0.575\n",
      "Порог = 0.28 | F1 = 0.581\n",
      "Порог = 0.30 | F1 = 0.589\n",
      "Порог = 0.32 | F1 = 0.599\n",
      "Порог = 0.34 | F1 = 0.609\n"
     ]
    },
    {
     "data": {
      "image/png": "[encoded data removed]",
      "text/plain": [
       "<Figure size 720x720 with 1 Axes>"
      ]
     },
     "metadata": {
      "needs_background": "light"
     },
     "output_type": "display_data"
    },
    {
     "name": "stdout",
     "output_type": "stream",
     "text": [
      "Расчёт площади кривой ROC: 0.8379\n",
      "Расчёт F1: 0.6086956521739131\n"
     ]
    }
   ],
   "source": [
    "#случайный лес\n",
    "model = RandomForestClassifier(random_state=12345,\n",
    "                               max_depth=forest_best['depth'], \n",
    "                               n_estimators=forest_best['n_estimators'])\n",
    "model.fit(features_train, target_train)\n",
    "probabilities_valid = model.predict_proba(features_valid)\n",
    "probabilities_one_valid = probabilities_valid[:, 1]\n",
    "\n",
    "f1_best = 0\n",
    "for threshold in np.arange(0, 0.5, 0.02):\n",
    "    predictions_valid = probabilities_one_valid > threshold\n",
    "    f1 = f1_score(target_valid, predictions_valid)\n",
    "    if f1 > f1_best:\n",
    "        f1_best = f1\n",
    "        print(\"Порог = {:.2f} | F1 = {:.3f}\".format(\n",
    "        threshold, f1))\n",
    "        predicted_best = predictions_valid\n",
    "        \n",
    "auc_roc(model)\n",
    "print('Расчёт F1:' ,(f1_score(target_valid, predicted_best)))"
   ]
  },
  {
   "cell_type": "markdown",
   "metadata": {},
   "source": [
    "F1 выше необходимого и превышает тот, что был при увеличении выборки!"
   ]
  },
  {
   "cell_type": "code",
   "execution_count": 44,
   "metadata": {},
   "outputs": [
    {
     "name": "stdout",
     "output_type": "stream",
     "text": [
      "Порог = 0.00 | F1 = 0.327\n",
      "Порог = 0.02 | F1 = 0.327\n",
      "Порог = 0.04 | F1 = 0.344\n",
      "Порог = 0.06 | F1 = 0.367\n",
      "Порог = 0.08 | F1 = 0.389\n",
      "Порог = 0.10 | F1 = 0.412\n",
      "Порог = 0.12 | F1 = 0.429\n",
      "Порог = 0.14 | F1 = 0.446\n",
      "Порог = 0.16 | F1 = 0.463\n",
      "Порог = 0.20 | F1 = 0.467\n",
      "Порог = 0.22 | F1 = 0.475\n",
      "Порог = 0.24 | F1 = 0.477\n",
      "Порог = 0.28 | F1 = 0.479\n",
      "Порог = 0.30 | F1 = 0.486\n",
      "Порог = 0.32 | F1 = 0.494\n"
     ]
    },
    {
     "data": {
      "image/png": "[encoded data removed]",
      "text/plain": [
       "<Figure size 720x720 with 1 Axes>"
      ]
     },
     "metadata": {
      "needs_background": "light"
     },
     "output_type": "display_data"
    },
    {
     "name": "stdout",
     "output_type": "stream",
     "text": [
      "Расчёт площади кривой ROC: 0.7703\n",
      "Расчёт F1: 0.49417852522639066\n"
     ]
    }
   ],
   "source": [
    "#логическая регрессия\n",
    "model = LogisticRegression(random_state=12345)\n",
    "model.fit(features_train, target_train)\n",
    "probabilities_valid = model.predict_proba(features_valid)\n",
    "probabilities_one_valid = probabilities_valid[:, 1]\n",
    "\n",
    "f1_best = 0\n",
    "for threshold in np.arange(0, 1.1, 0.02):\n",
    "    predicted_valid = probabilities_one_valid > threshold\n",
    "    f1 = f1_score(target_valid, predicted_valid)\n",
    "    if f1 > f1_best:\n",
    "        f1_best = f1\n",
    "        print(\"Порог = {:.2f} | F1 = {:.3f}\".format(\n",
    "        threshold, f1))\n",
    "        predicted_best = predicted_valid\n",
    "\n",
    "\n",
    "auc_roc(model)\n",
    "print('Расчёт F1:' ,(f1_score(target_valid, predicted_best)))"
   ]
  },
  {
   "cell_type": "markdown",
   "metadata": {},
   "source": [
    "Метрика F1 меньше требуемой"
   ]
  },
  {
   "cell_type": "markdown",
   "metadata": {},
   "source": [
    "### Предварительные выводы:"
   ]
  },
  {
   "cell_type": "markdown",
   "metadata": {},
   "source": [
    "Лучший результат, который нас устраивает, показал случайный лес при изменении порогового значения. Результаты:\n",
    "* Расчёт площади кривой ROC: 0.8379\n",
    "* Расчёт F1: 0.6086956521739131"
   ]
  },
  {
   "cell_type": "markdown",
   "metadata": {},
   "source": [
    "Но можно обратить внимание, что изменение порога значений тоже давало улучшенный результат по случайному лесу - мы можем попробовать объединить два способа и обучить модель с изменённым порогом значений по увеличенной выборке и посмотреть, улучшится ли F1"
   ]
  },
  {
   "cell_type": "code",
   "execution_count": 45,
   "metadata": {},
   "outputs": [],
   "source": [
    "best_depth_forest = 0\n",
    "best_est_forest = 0 \n",
    "f1_best_forest = 0\n",
    "\n",
    "for est in range(10, 61, 10):\n",
    "    for depth in range (1, 25):\n",
    "        model = RandomForestClassifier(random_state=12345, n_estimators=est, max_depth=depth)\n",
    "        model.fit(features_upsampled, target_upsampled)\n",
    "        predictions_valid = model.predict(features_valid)\n",
    "        f1 = f1_score(target_valid, predictions_valid)\n",
    "        if f1 > f1_best_forest:\n",
    "            best_depth_forest = depth\n",
    "            best_est_forest = est\n",
    "            f1_best_forest = f1"
   ]
  },
  {
   "cell_type": "code",
   "execution_count": 46,
   "metadata": {},
   "outputs": [
    {
     "name": "stdout",
     "output_type": "stream",
     "text": [
      "Порог = 0.00 | F1 = 0.327\n",
      "Порог = 0.02 | F1 = 0.337\n",
      "Порог = 0.04 | F1 = 0.351\n",
      "Порог = 0.06 | F1 = 0.366\n",
      "Порог = 0.08 | F1 = 0.385\n",
      "Порог = 0.10 | F1 = 0.403\n",
      "Порог = 0.12 | F1 = 0.420\n",
      "Порог = 0.14 | F1 = 0.439\n",
      "Порог = 0.16 | F1 = 0.455\n",
      "Порог = 0.18 | F1 = 0.468\n",
      "Порог = 0.20 | F1 = 0.479\n",
      "Порог = 0.22 | F1 = 0.491\n",
      "Порог = 0.24 | F1 = 0.508\n",
      "Порог = 0.26 | F1 = 0.519\n",
      "Порог = 0.28 | F1 = 0.532\n",
      "Порог = 0.30 | F1 = 0.541\n",
      "Порог = 0.32 | F1 = 0.550\n",
      "Порог = 0.34 | F1 = 0.559\n",
      "Порог = 0.36 | F1 = 0.570\n",
      "Порог = 0.38 | F1 = 0.581\n",
      "Порог = 0.40 | F1 = 0.589\n",
      "Порог = 0.44 | F1 = 0.593\n",
      "Порог = 0.50 | F1 = 0.602\n"
     ]
    },
    {
     "data": {
      "image/png": "[encoded data removed]",
      "text/plain": [
       "<Figure size 720x720 with 1 Axes>"
      ]
     },
     "metadata": {
      "needs_background": "light"
     },
     "output_type": "display_data"
    },
    {
     "name": "stdout",
     "output_type": "stream",
     "text": [
      "Расчёт площади кривой ROC: 0.8469\n",
      "Расчёт F1: 0.6022584692597239\n"
     ]
    }
   ],
   "source": [
    "model = RandomForestClassifier(random_state=12345,\n",
    "                               max_depth=best_depth_forest, \n",
    "                               n_estimators=best_est_forest)\n",
    "model.fit(features_upsampled, target_upsampled)\n",
    "probabilities_valid = model.predict_proba(features_valid)\n",
    "probabilities_one_valid = probabilities_valid[:, 1]\n",
    "\n",
    "f1_best = 0\n",
    "for threshold in np.arange(0, 1, 0.02):\n",
    "    predictions_valid = probabilities_one_valid > threshold\n",
    "    f1 = f1_score(target_valid, predictions_valid)\n",
    "    if f1 > f1_best:\n",
    "        f1_best = f1\n",
    "        print(\"Порог = {:.2f} | F1 = {:.3f}\".format(\n",
    "        threshold, f1))\n",
    "        predicted_best = predictions_valid\n",
    "        \n",
    "auc_roc(model)\n",
    "print('Расчёт F1:' ,(f1_score(target_valid, predicted_best)))"
   ]
  },
  {
   "cell_type": "markdown",
   "metadata": {},
   "source": [
    "Показатель F1 оказался ниже, чем у увеличенной выборки без изменения пороговых значений. Значит будем тестировать модель на модели с изменением пороговых значений."
   ]
  },
  {
   "cell_type": "markdown",
   "metadata": {},
   "source": [
    "## Тестирование модели"
   ]
  },
  {
   "cell_type": "markdown",
   "metadata": {},
   "source": [
    "Сначала нам нужно стандартизировать данные в тестовой выборке и объединить обучающую и валидационную выборки"
   ]
  },
  {
   "cell_type": "code",
   "execution_count": 47,
   "metadata": {},
   "outputs": [
    {
     "data": {
      "text/plain": [
       "1610"
      ]
     },
     "metadata": {},
     "output_type": "display_data"
    },
    {
     "data": {
      "text/plain": [
       "8000"
      ]
     },
     "metadata": {},
     "output_type": "display_data"
    }
   ],
   "source": [
    "#объединяем\n",
    "final_features = pd.concat([features_train, features_valid])\n",
    "final_target = pd.concat([target_train, target_valid])\n",
    "\n",
    "#проверим дисбаланс классов\n",
    "display(final_target.sum(), final_target.count())"
   ]
  },
  {
   "cell_type": "markdown",
   "metadata": {},
   "source": [
    "Нужно увеличить выборку примерно в 4 раза"
   ]
  },
  {
   "cell_type": "code",
   "execution_count": 48,
   "metadata": {},
   "outputs": [],
   "source": [
    "final_features, final_target = upsample(final_features, final_target, 4)"
   ]
  },
  {
   "cell_type": "code",
   "execution_count": 51,
   "metadata": {},
   "outputs": [
    {
     "name": "stdout",
     "output_type": "stream",
     "text": [
      "Порог = 0.00 | F1 = 0.352\n",
      "Порог = 0.02 | F1 = 0.366\n",
      "Порог = 0.04 | F1 = 0.383\n",
      "Порог = 0.06 | F1 = 0.407\n",
      "Порог = 0.08 | F1 = 0.425\n",
      "Порог = 0.10 | F1 = 0.440\n",
      "Порог = 0.12 | F1 = 0.456\n",
      "Порог = 0.14 | F1 = 0.475\n",
      "Порог = 0.16 | F1 = 0.489\n",
      "Порог = 0.18 | F1 = 0.504\n",
      "Порог = 0.20 | F1 = 0.519\n",
      "Порог = 0.22 | F1 = 0.535\n",
      "Порог = 0.24 | F1 = 0.555\n",
      "Порог = 0.26 | F1 = 0.560\n",
      "Порог = 0.28 | F1 = 0.573\n",
      "Порог = 0.30 | F1 = 0.585\n",
      "Порог = 0.32 | F1 = 0.593\n",
      "Порог = 0.34 | F1 = 0.599\n",
      "Порог = 0.36 | F1 = 0.609\n",
      "Порог = 0.42 | F1 = 0.610\n",
      "Порог = 0.44 | F1 = 0.615\n",
      "Порог = 0.46 | F1 = 0.621\n",
      "\n",
      "Расчёт площади кривой ROC: 0.8521642292134096\n",
      "Расчёт F1: 0.6213151927437642\n"
     ]
    },
    {
     "data": {
      "image/png": "[encoded data removed]",
      "text/plain": [
       "<Figure size 576x576 with 1 Axes>"
      ]
     },
     "metadata": {
      "needs_background": "light"
     },
     "output_type": "display_data"
    }
   ],
   "source": [
    "model = RandomForestClassifier(random_state=12345,\n",
    "                               max_depth=forest_best['depth'], \n",
    "                               n_estimators=forest_best['n_estimators'])\n",
    "model.fit(final_features, final_target)\n",
    "probabilities_valid = model.predict_proba(features_test)\n",
    "probabilities_one_valid = probabilities_valid[:, 1]\n",
    "\n",
    "f1_best = 0\n",
    "for threshold in np.arange(0, 0.8, 0.02):\n",
    "    predictions_valid = probabilities_one_valid > threshold\n",
    "    f1 = f1_score(target_test, predictions_valid)\n",
    "    if f1 > f1_best:\n",
    "        f1_best = f1\n",
    "        print(\"Порог = {:.2f} | F1 = {:.3f}\".format(\n",
    "        threshold, f1))\n",
    "        predicted_best = predictions_valid\n",
    "        \n",
    "#результаты с графиком выделил отдельно, так как структура кода чуть иная и так надёжнее \n",
    "print ('')\n",
    "print ('Расчёт площади кривой ROC:', roc_auc_score(target_test, probabilities_one_valid))\n",
    "print ('Расчёт F1:' ,(f1_score(target_test, predicted_best)))\n",
    "\n",
    "fpr, tpr, thresholds = roc_curve(target_test, probabilities_one_valid)\n",
    "\n",
    "plt.figure(figsize=(8,8))\n",
    "plt.plot(fpr, tpr)\n",
    "plt.plot([0, 1], [0, 1], linestyle='--')\n",
    "plt.xlim([0.0,1.0])\n",
    "plt.ylim([0.0,1.0])\n",
    "plt.xlabel('False Positive Rate')\n",
    "plt.ylabel('True Positive Rate')\n",
    "plt.title('ROC-кривая')\n",
    "plt.show()"
   ]
  },
  {
   "cell_type": "markdown",
   "metadata": {},
   "source": [
    "Мы получили на тестовой выборке итоговые результаты, удовлетворяющие условию (F1>5.9)\n",
    "* Расчёт площади кривой ROC: 0.8521642292134096\n",
    "* F1: 0.6213151927437642"
   ]
  },
  {
   "cell_type": "markdown",
   "metadata": {},
   "source": [
    "## Чек-лист готовности проекта"
   ]
  },
  {
   "cell_type": "markdown",
   "metadata": {},
   "source": [
    "Поставьте 'x' в выполненных пунктах. Далее нажмите Shift+Enter."
   ]
  },
  {
   "cell_type": "markdown",
   "metadata": {},
   "source": [
    "- [x]  Jupyter Notebook открыт\n",
    "- [x]  Весь код выполняется без ошибок\n",
    "- [x]  Ячейки с кодом расположены в порядке исполнения\n",
    "- [x]  Выполнен шаг 1: данные подготовлены\n",
    "- [x]  Выполнен шаг 2: задача исследована\n",
    "    - [x]  Исследован баланс классов\n",
    "    - [x]  Изучены модели без учёта дисбаланса\n",
    "    - [x]  Написаны выводы по результатам исследования\n",
    "- [x]  Выполнен шаг 3: учтён дисбаланс\n",
    "    - [x]  Применено несколько способов борьбы с дисбалансом\n",
    "    - [x]  Написаны выводы по результатам исследования\n",
    "- [x]  Выполнен шаг 4: проведено тестирование\n",
    "- [x]  Удалось достичь *F1*-меры не менее 0.59\n",
    "- [x]  Исследована метрика *AUC-ROC*"
   ]
  },
  {
   "cell_type": "code",
   "execution_count": null,
   "metadata": {},
   "outputs": [],
   "source": []
  }
 ],
 "metadata": {
  "ExecuteTimeLog": [
   {
    "duration": 1661,
    "start_time": "2022-11-05T20:24:52.306Z"
   },
   {
    "duration": 4,
    "start_time": "2022-11-05T20:25:01.176Z"
   },
   {
    "duration": 142,
    "start_time": "2022-11-05T20:25:28.986Z"
   },
   {
    "duration": 32,
    "start_time": "2022-11-05T20:25:34.620Z"
   },
   {
    "duration": 84,
    "start_time": "2022-11-05T20:26:28.082Z"
   },
   {
    "duration": 39,
    "start_time": "2022-11-05T20:26:31.188Z"
   },
   {
    "duration": 52,
    "start_time": "2022-11-05T20:26:42.164Z"
   },
   {
    "duration": 15,
    "start_time": "2022-11-05T20:27:00.325Z"
   },
   {
    "duration": 4,
    "start_time": "2022-11-05T20:33:10.692Z"
   },
   {
    "duration": 16,
    "start_time": "2022-11-05T20:34:25.233Z"
   },
   {
    "duration": 13,
    "start_time": "2022-11-05T20:34:52.865Z"
   },
   {
    "duration": 13,
    "start_time": "2022-11-05T20:34:57.864Z"
   },
   {
    "duration": 59,
    "start_time": "2022-11-05T20:35:26.432Z"
   },
   {
    "duration": 16,
    "start_time": "2022-11-05T20:35:28.125Z"
   },
   {
    "duration": 4,
    "start_time": "2022-11-05T20:35:30.226Z"
   },
   {
    "duration": 1376,
    "start_time": "2022-11-06T15:04:09.292Z"
   },
   {
    "duration": 175,
    "start_time": "2022-11-06T15:04:10.669Z"
   },
   {
    "duration": 12,
    "start_time": "2022-11-06T15:04:10.845Z"
   },
   {
    "duration": 3,
    "start_time": "2022-11-06T15:04:11.788Z"
   },
   {
    "duration": 10,
    "start_time": "2022-11-06T15:04:12.608Z"
   },
   {
    "duration": 47,
    "start_time": "2022-11-08T18:41:41.327Z"
   },
   {
    "duration": 1509,
    "start_time": "2022-11-08T18:41:50.766Z"
   },
   {
    "duration": 200,
    "start_time": "2022-11-08T18:41:52.277Z"
   },
   {
    "duration": 13,
    "start_time": "2022-11-08T18:41:52.479Z"
   },
   {
    "duration": 4,
    "start_time": "2022-11-08T18:41:52.494Z"
   },
   {
    "duration": 14,
    "start_time": "2022-11-08T18:41:52.500Z"
   },
   {
    "duration": 801,
    "start_time": "2022-11-08T18:41:52.516Z"
   },
   {
    "duration": 178,
    "start_time": "2022-11-08T18:42:18.267Z"
   },
   {
    "duration": 162,
    "start_time": "2022-11-08T18:42:49.211Z"
   },
   {
    "duration": 168,
    "start_time": "2022-11-08T18:44:07.277Z"
   },
   {
    "duration": 8,
    "start_time": "2022-11-08T18:49:25.046Z"
   },
   {
    "duration": 146,
    "start_time": "2022-11-08T18:54:32.760Z"
   },
   {
    "duration": 123,
    "start_time": "2022-11-08T18:54:57.369Z"
   },
   {
    "duration": 925,
    "start_time": "2022-11-08T18:55:00.464Z"
   },
   {
    "duration": 830,
    "start_time": "2022-11-08T19:00:54.096Z"
   },
   {
    "duration": 828,
    "start_time": "2022-11-08T19:01:05.206Z"
   },
   {
    "duration": 48,
    "start_time": "2022-11-08T20:26:06.995Z"
   },
   {
    "duration": 66,
    "start_time": "2022-11-08T20:26:10.451Z"
   },
   {
    "duration": 63,
    "start_time": "2022-11-08T20:27:23.843Z"
   },
   {
    "duration": 66,
    "start_time": "2022-11-08T20:27:35.096Z"
   },
   {
    "duration": 54,
    "start_time": "2022-11-08T20:27:43.077Z"
   },
   {
    "duration": 53,
    "start_time": "2022-11-08T20:27:46.662Z"
   },
   {
    "duration": 47,
    "start_time": "2022-11-08T20:27:51.286Z"
   },
   {
    "duration": 50,
    "start_time": "2022-11-08T20:29:32.909Z"
   },
   {
    "duration": 44,
    "start_time": "2022-11-08T20:30:05.646Z"
   },
   {
    "duration": 47,
    "start_time": "2022-11-08T20:30:10.025Z"
   },
   {
    "duration": 49,
    "start_time": "2022-11-08T20:30:47.562Z"
   },
   {
    "duration": 44,
    "start_time": "2022-11-08T20:30:50.746Z"
   },
   {
    "duration": 47,
    "start_time": "2022-11-08T20:30:53.971Z"
   },
   {
    "duration": 62,
    "start_time": "2022-11-08T20:30:57.012Z"
   },
   {
    "duration": 541,
    "start_time": "2022-11-08T20:31:03.057Z"
   },
   {
    "duration": 56,
    "start_time": "2022-11-08T20:31:10.233Z"
   },
   {
    "duration": 50,
    "start_time": "2022-11-08T20:31:21.237Z"
   },
   {
    "duration": 48,
    "start_time": "2022-11-08T20:31:24.257Z"
   },
   {
    "duration": 51,
    "start_time": "2022-11-08T20:31:29.894Z"
   },
   {
    "duration": 49,
    "start_time": "2022-11-08T20:31:35.798Z"
   },
   {
    "duration": 55,
    "start_time": "2022-11-08T20:31:45.628Z"
   },
   {
    "duration": 17,
    "start_time": "2022-11-08T20:33:01.907Z"
   },
   {
    "duration": 14,
    "start_time": "2022-11-08T20:33:27.532Z"
   },
   {
    "duration": 14,
    "start_time": "2022-11-08T20:33:37.168Z"
   },
   {
    "duration": 14,
    "start_time": "2022-11-08T20:35:03.046Z"
   },
   {
    "duration": 123,
    "start_time": "2022-11-08T20:38:18.885Z"
   },
   {
    "duration": 785,
    "start_time": "2022-11-08T20:38:23.268Z"
   },
   {
    "duration": 582,
    "start_time": "2022-11-08T20:38:36.482Z"
   },
   {
    "duration": 480,
    "start_time": "2022-11-08T20:38:40.713Z"
   },
   {
    "duration": 14,
    "start_time": "2022-11-08T20:40:03.043Z"
   },
   {
    "duration": 15,
    "start_time": "2022-11-08T20:44:10.080Z"
   },
   {
    "duration": 14,
    "start_time": "2022-11-08T20:45:12.613Z"
   },
   {
    "duration": 45,
    "start_time": "2022-11-08T20:50:53.532Z"
   },
   {
    "duration": 16,
    "start_time": "2022-11-08T20:50:56.957Z"
   },
   {
    "duration": 14,
    "start_time": "2022-11-08T20:51:22.935Z"
   },
   {
    "duration": 15,
    "start_time": "2022-11-08T20:51:36.932Z"
   },
   {
    "duration": 36,
    "start_time": "2022-11-08T20:51:45.633Z"
   },
   {
    "duration": 15,
    "start_time": "2022-11-08T20:52:56.061Z"
   },
   {
    "duration": 20,
    "start_time": "2022-11-08T20:54:38.612Z"
   },
   {
    "duration": 22,
    "start_time": "2022-11-08T20:55:16.742Z"
   },
   {
    "duration": 12,
    "start_time": "2022-11-08T20:55:41.934Z"
   },
   {
    "duration": 45,
    "start_time": "2022-11-08T20:56:58.825Z"
   },
   {
    "duration": 14,
    "start_time": "2022-11-08T20:57:08.819Z"
   },
   {
    "duration": 14,
    "start_time": "2022-11-08T20:57:20.806Z"
   },
   {
    "duration": 13,
    "start_time": "2022-11-08T20:57:33.474Z"
   },
   {
    "duration": 12,
    "start_time": "2022-11-08T20:57:37.041Z"
   },
   {
    "duration": 24,
    "start_time": "2022-11-08T20:59:15.686Z"
   },
   {
    "duration": 24,
    "start_time": "2022-11-08T20:59:24.965Z"
   },
   {
    "duration": 15,
    "start_time": "2022-11-08T21:00:36.520Z"
   },
   {
    "duration": 13,
    "start_time": "2022-11-08T21:01:23.683Z"
   },
   {
    "duration": 13,
    "start_time": "2022-11-08T21:01:25.375Z"
   },
   {
    "duration": 4,
    "start_time": "2022-11-08T21:01:36.758Z"
   },
   {
    "duration": 53,
    "start_time": "2022-11-08T21:01:36.764Z"
   },
   {
    "duration": 11,
    "start_time": "2022-11-08T21:01:36.818Z"
   },
   {
    "duration": 4,
    "start_time": "2022-11-08T21:01:36.830Z"
   },
   {
    "duration": 14,
    "start_time": "2022-11-08T21:01:36.836Z"
   },
   {
    "duration": 164,
    "start_time": "2022-11-08T21:01:36.851Z"
   },
   {
    "duration": 16,
    "start_time": "2022-11-08T21:01:37.017Z"
   },
   {
    "duration": 900,
    "start_time": "2022-11-08T21:01:37.035Z"
   },
   {
    "duration": 466,
    "start_time": "2022-11-08T21:01:37.937Z"
   },
   {
    "duration": 14,
    "start_time": "2022-11-08T21:01:38.404Z"
   },
   {
    "duration": 23,
    "start_time": "2022-11-08T21:01:38.420Z"
   },
   {
    "duration": 23,
    "start_time": "2022-11-08T21:01:38.445Z"
   },
   {
    "duration": 0,
    "start_time": "2022-11-08T21:01:38.477Z"
   },
   {
    "duration": 0,
    "start_time": "2022-11-08T21:01:38.479Z"
   },
   {
    "duration": 0,
    "start_time": "2022-11-08T21:01:38.480Z"
   },
   {
    "duration": 21,
    "start_time": "2022-11-08T21:01:54.912Z"
   },
   {
    "duration": 4,
    "start_time": "2022-11-08T21:02:08.421Z"
   },
   {
    "duration": 59,
    "start_time": "2022-11-08T21:02:08.427Z"
   },
   {
    "duration": 12,
    "start_time": "2022-11-08T21:02:08.487Z"
   },
   {
    "duration": 4,
    "start_time": "2022-11-08T21:02:08.501Z"
   },
   {
    "duration": 13,
    "start_time": "2022-11-08T21:02:08.506Z"
   },
   {
    "duration": 178,
    "start_time": "2022-11-08T21:02:08.521Z"
   },
   {
    "duration": 9,
    "start_time": "2022-11-08T21:02:08.700Z"
   },
   {
    "duration": 822,
    "start_time": "2022-11-08T21:02:08.710Z"
   },
   {
    "duration": 474,
    "start_time": "2022-11-08T21:02:09.534Z"
   },
   {
    "duration": 23,
    "start_time": "2022-11-08T21:02:10.011Z"
   },
   {
    "duration": 16,
    "start_time": "2022-11-08T21:02:10.035Z"
   },
   {
    "duration": 17,
    "start_time": "2022-11-08T21:02:10.053Z"
   },
   {
    "duration": 13,
    "start_time": "2022-11-08T21:02:10.072Z"
   },
   {
    "duration": 15,
    "start_time": "2022-11-08T21:02:10.087Z"
   },
   {
    "duration": 22,
    "start_time": "2022-11-08T21:02:10.132Z"
   },
   {
    "duration": 18,
    "start_time": "2022-11-08T21:02:18.807Z"
   },
   {
    "duration": 21,
    "start_time": "2022-11-08T21:02:21.604Z"
   },
   {
    "duration": 14,
    "start_time": "2022-11-08T21:02:33.360Z"
   },
   {
    "duration": 4,
    "start_time": "2022-11-08T21:03:36.050Z"
   },
   {
    "duration": 59,
    "start_time": "2022-11-08T21:03:36.056Z"
   },
   {
    "duration": 12,
    "start_time": "2022-11-08T21:03:36.117Z"
   },
   {
    "duration": 12,
    "start_time": "2022-11-08T21:03:36.130Z"
   },
   {
    "duration": 15,
    "start_time": "2022-11-08T21:03:36.144Z"
   },
   {
    "duration": 176,
    "start_time": "2022-11-08T21:03:36.161Z"
   },
   {
    "duration": 11,
    "start_time": "2022-11-08T21:03:36.339Z"
   },
   {
    "duration": 974,
    "start_time": "2022-11-08T21:03:36.352Z"
   },
   {
    "duration": 457,
    "start_time": "2022-11-08T21:03:37.333Z"
   },
   {
    "duration": 15,
    "start_time": "2022-11-08T21:03:37.792Z"
   },
   {
    "duration": 32,
    "start_time": "2022-11-08T21:03:37.808Z"
   },
   {
    "duration": 13,
    "start_time": "2022-11-08T21:03:37.842Z"
   },
   {
    "duration": 21,
    "start_time": "2022-11-08T21:03:37.857Z"
   },
   {
    "duration": 14,
    "start_time": "2022-11-08T21:03:37.881Z"
   },
   {
    "duration": 40,
    "start_time": "2022-11-08T21:03:37.896Z"
   },
   {
    "duration": 24,
    "start_time": "2022-11-08T21:03:37.938Z"
   },
   {
    "duration": 4,
    "start_time": "2022-11-08T21:05:30.892Z"
   },
   {
    "duration": 79,
    "start_time": "2022-11-08T21:05:30.899Z"
   },
   {
    "duration": 11,
    "start_time": "2022-11-08T21:05:30.980Z"
   },
   {
    "duration": 36,
    "start_time": "2022-11-08T21:05:30.992Z"
   },
   {
    "duration": 65,
    "start_time": "2022-11-08T21:05:31.031Z"
   },
   {
    "duration": 185,
    "start_time": "2022-11-08T21:05:31.098Z"
   },
   {
    "duration": 6,
    "start_time": "2022-11-08T21:05:31.285Z"
   },
   {
    "duration": 903,
    "start_time": "2022-11-08T21:05:31.293Z"
   },
   {
    "duration": 491,
    "start_time": "2022-11-08T21:05:32.197Z"
   },
   {
    "duration": 14,
    "start_time": "2022-11-08T21:05:32.690Z"
   },
   {
    "duration": 28,
    "start_time": "2022-11-08T21:05:32.705Z"
   },
   {
    "duration": 29,
    "start_time": "2022-11-08T21:05:32.735Z"
   },
   {
    "duration": 151,
    "start_time": "2022-11-08T21:05:32.766Z"
   },
   {
    "duration": 28,
    "start_time": "2022-11-08T21:05:32.920Z"
   },
   {
    "duration": 16,
    "start_time": "2022-11-08T21:05:32.950Z"
   },
   {
    "duration": 23,
    "start_time": "2022-11-08T21:05:32.968Z"
   },
   {
    "duration": 6,
    "start_time": "2022-11-08T21:07:47.095Z"
   },
   {
    "duration": 24,
    "start_time": "2022-11-08T21:07:48.402Z"
   },
   {
    "duration": 7,
    "start_time": "2022-11-08T21:07:57.295Z"
   },
   {
    "duration": 4,
    "start_time": "2022-11-08T21:08:01.407Z"
   },
   {
    "duration": 88,
    "start_time": "2022-11-08T21:08:01.413Z"
   },
   {
    "duration": 13,
    "start_time": "2022-11-08T21:08:01.502Z"
   },
   {
    "duration": 8,
    "start_time": "2022-11-08T21:08:01.517Z"
   },
   {
    "duration": 24,
    "start_time": "2022-11-08T21:08:01.527Z"
   },
   {
    "duration": 164,
    "start_time": "2022-11-08T21:08:01.552Z"
   },
   {
    "duration": 6,
    "start_time": "2022-11-08T21:08:01.719Z"
   },
   {
    "duration": 817,
    "start_time": "2022-11-08T21:08:01.726Z"
   },
   {
    "duration": 496,
    "start_time": "2022-11-08T21:08:02.546Z"
   },
   {
    "duration": 16,
    "start_time": "2022-11-08T21:08:03.044Z"
   },
   {
    "duration": 15,
    "start_time": "2022-11-08T21:08:03.062Z"
   },
   {
    "duration": 17,
    "start_time": "2022-11-08T21:08:03.079Z"
   },
   {
    "duration": 47,
    "start_time": "2022-11-08T21:08:03.097Z"
   },
   {
    "duration": 39,
    "start_time": "2022-11-08T21:08:03.146Z"
   },
   {
    "duration": 16,
    "start_time": "2022-11-08T21:08:03.186Z"
   },
   {
    "duration": 7,
    "start_time": "2022-11-08T21:08:03.204Z"
   },
   {
    "duration": 36,
    "start_time": "2022-11-08T21:08:03.213Z"
   },
   {
    "duration": 4,
    "start_time": "2022-11-08T21:08:19.677Z"
   },
   {
    "duration": 54,
    "start_time": "2022-11-08T21:08:19.683Z"
   },
   {
    "duration": 11,
    "start_time": "2022-11-08T21:08:19.739Z"
   },
   {
    "duration": 5,
    "start_time": "2022-11-08T21:08:19.752Z"
   },
   {
    "duration": 9,
    "start_time": "2022-11-08T21:08:19.759Z"
   },
   {
    "duration": 185,
    "start_time": "2022-11-08T21:08:19.770Z"
   },
   {
    "duration": 8,
    "start_time": "2022-11-08T21:08:19.957Z"
   },
   {
    "duration": 833,
    "start_time": "2022-11-08T21:08:19.967Z"
   },
   {
    "duration": 503,
    "start_time": "2022-11-08T21:08:20.802Z"
   },
   {
    "duration": 14,
    "start_time": "2022-11-08T21:08:21.307Z"
   },
   {
    "duration": 14,
    "start_time": "2022-11-08T21:08:21.333Z"
   },
   {
    "duration": 36,
    "start_time": "2022-11-08T21:08:21.348Z"
   },
   {
    "duration": 17,
    "start_time": "2022-11-08T21:08:21.386Z"
   },
   {
    "duration": 18,
    "start_time": "2022-11-08T21:08:21.406Z"
   },
   {
    "duration": 5,
    "start_time": "2022-11-08T21:08:21.432Z"
   },
   {
    "duration": 16,
    "start_time": "2022-11-08T21:08:21.438Z"
   },
   {
    "duration": 282,
    "start_time": "2022-11-08T21:08:21.455Z"
   },
   {
    "duration": 4,
    "start_time": "2022-11-08T21:09:09.638Z"
   },
   {
    "duration": 701,
    "start_time": "2022-11-08T21:09:13.289Z"
   },
   {
    "duration": 4,
    "start_time": "2022-11-08T21:09:35.765Z"
   },
   {
    "duration": 133,
    "start_time": "2022-11-08T21:09:39.316Z"
   },
   {
    "duration": 131,
    "start_time": "2022-11-08T21:10:58.706Z"
   },
   {
    "duration": 909,
    "start_time": "2022-11-08T21:11:00.578Z"
   },
   {
    "duration": 5,
    "start_time": "2022-11-08T21:11:04.986Z"
   },
   {
    "duration": 47,
    "start_time": "2022-11-12T10:51:14.440Z"
   },
   {
    "duration": 1630,
    "start_time": "2022-11-12T10:51:17.529Z"
   },
   {
    "duration": 87,
    "start_time": "2022-11-12T10:51:19.162Z"
   },
   {
    "duration": 14,
    "start_time": "2022-11-12T10:51:19.250Z"
   },
   {
    "duration": 4,
    "start_time": "2022-11-12T10:51:19.266Z"
   },
   {
    "duration": 18,
    "start_time": "2022-11-12T10:51:19.271Z"
   },
   {
    "duration": 174,
    "start_time": "2022-11-12T10:51:19.290Z"
   },
   {
    "duration": 8,
    "start_time": "2022-11-12T10:51:19.466Z"
   },
   {
    "duration": 917,
    "start_time": "2022-11-12T10:51:19.476Z"
   },
   {
    "duration": 538,
    "start_time": "2022-11-12T10:51:20.395Z"
   },
   {
    "duration": 51,
    "start_time": "2022-11-12T10:51:20.937Z"
   },
   {
    "duration": 29,
    "start_time": "2022-11-12T10:51:20.990Z"
   },
   {
    "duration": 20,
    "start_time": "2022-11-12T10:51:21.021Z"
   },
   {
    "duration": 15,
    "start_time": "2022-11-12T10:51:21.043Z"
   },
   {
    "duration": 1212,
    "start_time": "2022-11-12T10:51:21.059Z"
   },
   {
    "duration": 0,
    "start_time": "2022-11-12T10:51:22.272Z"
   },
   {
    "duration": 0,
    "start_time": "2022-11-12T10:51:22.273Z"
   },
   {
    "duration": 0,
    "start_time": "2022-11-12T10:51:22.274Z"
   },
   {
    "duration": 0,
    "start_time": "2022-11-12T10:51:22.276Z"
   },
   {
    "duration": 0,
    "start_time": "2022-11-12T10:51:22.277Z"
   },
   {
    "duration": 0,
    "start_time": "2022-11-12T10:51:22.278Z"
   },
   {
    "duration": 0,
    "start_time": "2022-11-12T10:51:22.279Z"
   },
   {
    "duration": 8,
    "start_time": "2022-11-12T10:51:42.294Z"
   },
   {
    "duration": 11,
    "start_time": "2022-11-12T10:51:53.488Z"
   },
   {
    "duration": 70,
    "start_time": "2022-11-12T10:51:56.563Z"
   },
   {
    "duration": 9,
    "start_time": "2022-11-12T10:51:58.190Z"
   },
   {
    "duration": 8,
    "start_time": "2022-11-12T10:52:12.798Z"
   },
   {
    "duration": 774,
    "start_time": "2022-11-12T10:52:47.732Z"
   },
   {
    "duration": 796,
    "start_time": "2022-11-12T10:52:52.662Z"
   },
   {
    "duration": 24,
    "start_time": "2022-11-12T10:55:37.729Z"
   },
   {
    "duration": 1087,
    "start_time": "2022-11-12T10:58:09.038Z"
   },
   {
    "duration": 4,
    "start_time": "2022-11-12T10:58:15.996Z"
   },
   {
    "duration": 51,
    "start_time": "2022-11-12T10:58:16.002Z"
   },
   {
    "duration": 12,
    "start_time": "2022-11-12T10:58:16.055Z"
   },
   {
    "duration": 4,
    "start_time": "2022-11-12T10:58:16.070Z"
   },
   {
    "duration": 44,
    "start_time": "2022-11-12T10:58:16.075Z"
   },
   {
    "duration": 177,
    "start_time": "2022-11-12T10:58:16.120Z"
   },
   {
    "duration": 12,
    "start_time": "2022-11-12T10:58:16.298Z"
   },
   {
    "duration": 881,
    "start_time": "2022-11-12T10:58:16.312Z"
   },
   {
    "duration": 744,
    "start_time": "2022-11-12T10:58:17.204Z"
   },
   {
    "duration": 16,
    "start_time": "2022-11-12T10:58:17.950Z"
   },
   {
    "duration": 14,
    "start_time": "2022-11-12T10:58:17.968Z"
   },
   {
    "duration": 36,
    "start_time": "2022-11-12T10:58:17.984Z"
   },
   {
    "duration": 16,
    "start_time": "2022-11-12T10:58:18.022Z"
   },
   {
    "duration": 885,
    "start_time": "2022-11-12T10:58:18.040Z"
   },
   {
    "duration": 1815,
    "start_time": "2022-11-12T10:58:18.926Z"
   },
   {
    "duration": 0,
    "start_time": "2022-11-12T10:58:20.742Z"
   },
   {
    "duration": 0,
    "start_time": "2022-11-12T10:58:20.743Z"
   },
   {
    "duration": 0,
    "start_time": "2022-11-12T10:58:20.744Z"
   },
   {
    "duration": 0,
    "start_time": "2022-11-12T10:58:20.745Z"
   },
   {
    "duration": 0,
    "start_time": "2022-11-12T10:58:20.746Z"
   },
   {
    "duration": 0,
    "start_time": "2022-11-12T10:58:20.747Z"
   },
   {
    "duration": 0,
    "start_time": "2022-11-12T10:58:20.748Z"
   },
   {
    "duration": 22,
    "start_time": "2022-11-12T10:59:47.945Z"
   },
   {
    "duration": 10,
    "start_time": "2022-11-12T11:00:44.742Z"
   },
   {
    "duration": 27,
    "start_time": "2022-11-12T11:00:47.659Z"
   },
   {
    "duration": 4,
    "start_time": "2022-11-12T11:02:15.550Z"
   },
   {
    "duration": 1277,
    "start_time": "2022-11-12T11:02:18.202Z"
   },
   {
    "duration": 5,
    "start_time": "2022-11-12T11:02:24.643Z"
   },
   {
    "duration": 51,
    "start_time": "2022-11-12T11:02:24.650Z"
   },
   {
    "duration": 11,
    "start_time": "2022-11-12T11:02:24.703Z"
   },
   {
    "duration": 6,
    "start_time": "2022-11-12T11:02:24.716Z"
   },
   {
    "duration": 14,
    "start_time": "2022-11-12T11:02:24.724Z"
   },
   {
    "duration": 174,
    "start_time": "2022-11-12T11:02:24.740Z"
   },
   {
    "duration": 7,
    "start_time": "2022-11-12T11:02:24.915Z"
   },
   {
    "duration": 878,
    "start_time": "2022-11-12T11:02:24.924Z"
   },
   {
    "duration": 494,
    "start_time": "2022-11-12T11:02:25.805Z"
   },
   {
    "duration": 15,
    "start_time": "2022-11-12T11:02:26.304Z"
   },
   {
    "duration": 13,
    "start_time": "2022-11-12T11:02:26.321Z"
   },
   {
    "duration": 18,
    "start_time": "2022-11-12T11:02:26.336Z"
   },
   {
    "duration": 15,
    "start_time": "2022-11-12T11:02:26.358Z"
   },
   {
    "duration": 903,
    "start_time": "2022-11-12T11:02:26.404Z"
   },
   {
    "duration": 4,
    "start_time": "2022-11-12T11:02:27.309Z"
   },
   {
    "duration": 1183,
    "start_time": "2022-11-12T11:02:27.314Z"
   },
   {
    "duration": 0,
    "start_time": "2022-11-12T11:02:28.499Z"
   },
   {
    "duration": 0,
    "start_time": "2022-11-12T11:02:28.501Z"
   },
   {
    "duration": 0,
    "start_time": "2022-11-12T11:02:28.502Z"
   },
   {
    "duration": 0,
    "start_time": "2022-11-12T11:02:28.504Z"
   },
   {
    "duration": 0,
    "start_time": "2022-11-12T11:02:28.506Z"
   },
   {
    "duration": 1174,
    "start_time": "2022-11-12T11:02:35.413Z"
   },
   {
    "duration": 7,
    "start_time": "2022-11-12T11:03:09.127Z"
   },
   {
    "duration": 6,
    "start_time": "2022-11-12T11:03:12.394Z"
   },
   {
    "duration": 7,
    "start_time": "2022-11-12T11:03:26.968Z"
   },
   {
    "duration": 1136,
    "start_time": "2022-11-12T11:03:34.132Z"
   },
   {
    "duration": 16,
    "start_time": "2022-11-12T11:03:38.015Z"
   },
   {
    "duration": 43,
    "start_time": "2022-11-12T11:03:41.019Z"
   },
   {
    "duration": 11,
    "start_time": "2022-11-12T11:03:45.335Z"
   },
   {
    "duration": 4,
    "start_time": "2022-11-12T11:03:47.852Z"
   },
   {
    "duration": 10,
    "start_time": "2022-11-12T11:03:49.163Z"
   },
   {
    "duration": 166,
    "start_time": "2022-11-12T11:03:50.386Z"
   },
   {
    "duration": 769,
    "start_time": "2022-11-12T11:03:53.138Z"
   },
   {
    "duration": 7,
    "start_time": "2022-11-12T11:03:55.515Z"
   },
   {
    "duration": 504,
    "start_time": "2022-11-12T11:03:58.323Z"
   },
   {
    "duration": 20,
    "start_time": "2022-11-12T11:04:08.573Z"
   },
   {
    "duration": 11,
    "start_time": "2022-11-12T11:04:13.641Z"
   },
   {
    "duration": 15,
    "start_time": "2022-11-12T11:04:22.892Z"
   },
   {
    "duration": 15,
    "start_time": "2022-11-12T11:04:27.172Z"
   },
   {
    "duration": 13,
    "start_time": "2022-11-12T11:04:31.315Z"
   },
   {
    "duration": 11,
    "start_time": "2022-11-12T11:04:38.809Z"
   },
   {
    "duration": 14,
    "start_time": "2022-11-12T11:04:47.283Z"
   },
   {
    "duration": 12,
    "start_time": "2022-11-12T11:04:52.228Z"
   },
   {
    "duration": 870,
    "start_time": "2022-11-12T11:04:59.069Z"
   },
   {
    "duration": 11,
    "start_time": "2022-11-12T11:05:06.746Z"
   },
   {
    "duration": 5,
    "start_time": "2022-11-12T11:05:13.209Z"
   },
   {
    "duration": 1124,
    "start_time": "2022-11-12T11:05:26.915Z"
   },
   {
    "duration": 45,
    "start_time": "2022-11-12T11:05:33.451Z"
   },
   {
    "duration": 15,
    "start_time": "2022-11-12T11:05:50.124Z"
   },
   {
    "duration": 22,
    "start_time": "2022-11-12T11:06:18.916Z"
   },
   {
    "duration": 21,
    "start_time": "2022-11-12T11:06:35.011Z"
   },
   {
    "duration": 20,
    "start_time": "2022-11-12T11:06:53.100Z"
   },
   {
    "duration": 23,
    "start_time": "2022-11-12T11:07:21.137Z"
   },
   {
    "duration": 11,
    "start_time": "2022-11-12T11:07:23.314Z"
   },
   {
    "duration": 71,
    "start_time": "2022-11-12T11:07:29.784Z"
   },
   {
    "duration": 8,
    "start_time": "2022-11-12T11:07:32.841Z"
   },
   {
    "duration": 10,
    "start_time": "2022-11-12T11:07:38.611Z"
   },
   {
    "duration": 16,
    "start_time": "2022-11-12T11:07:49.150Z"
   },
   {
    "duration": 5,
    "start_time": "2022-11-12T11:08:08.518Z"
   },
   {
    "duration": 1122,
    "start_time": "2022-11-12T11:08:12.089Z"
   },
   {
    "duration": 7,
    "start_time": "2022-11-12T11:08:21.593Z"
   },
   {
    "duration": 7,
    "start_time": "2022-11-12T11:08:26.945Z"
   },
   {
    "duration": 1106,
    "start_time": "2022-11-12T11:09:22.539Z"
   },
   {
    "duration": 5,
    "start_time": "2022-11-12T11:09:26.353Z"
   },
   {
    "duration": 52,
    "start_time": "2022-11-12T11:09:26.359Z"
   },
   {
    "duration": 12,
    "start_time": "2022-11-12T11:09:26.413Z"
   },
   {
    "duration": 4,
    "start_time": "2022-11-12T11:09:26.427Z"
   },
   {
    "duration": 15,
    "start_time": "2022-11-12T11:09:26.433Z"
   },
   {
    "duration": 185,
    "start_time": "2022-11-12T11:09:26.450Z"
   },
   {
    "duration": 6,
    "start_time": "2022-11-12T11:09:26.637Z"
   },
   {
    "duration": 997,
    "start_time": "2022-11-12T11:09:26.645Z"
   },
   {
    "duration": 471,
    "start_time": "2022-11-12T11:09:27.643Z"
   },
   {
    "duration": 15,
    "start_time": "2022-11-12T11:09:28.117Z"
   },
   {
    "duration": 14,
    "start_time": "2022-11-12T11:09:28.134Z"
   },
   {
    "duration": 16,
    "start_time": "2022-11-12T11:09:28.150Z"
   },
   {
    "duration": 846,
    "start_time": "2022-11-12T11:09:28.167Z"
   },
   {
    "duration": 9,
    "start_time": "2022-11-12T11:09:29.014Z"
   },
   {
    "duration": 8,
    "start_time": "2022-11-12T11:09:29.024Z"
   },
   {
    "duration": 16,
    "start_time": "2022-11-12T11:09:29.033Z"
   },
   {
    "duration": 24,
    "start_time": "2022-11-12T11:09:29.050Z"
   },
   {
    "duration": 0,
    "start_time": "2022-11-12T11:09:29.076Z"
   },
   {
    "duration": 0,
    "start_time": "2022-11-12T11:09:29.105Z"
   },
   {
    "duration": 0,
    "start_time": "2022-11-12T11:09:29.106Z"
   },
   {
    "duration": 1192,
    "start_time": "2022-11-12T11:09:40.796Z"
   },
   {
    "duration": 44,
    "start_time": "2022-11-12T11:09:54.979Z"
   },
   {
    "duration": 20,
    "start_time": "2022-11-12T11:10:02.127Z"
   },
   {
    "duration": 1188,
    "start_time": "2022-11-12T11:11:56.555Z"
   },
   {
    "duration": 1134,
    "start_time": "2022-11-12T11:12:02.181Z"
   },
   {
    "duration": 5,
    "start_time": "2022-11-12T11:12:09.209Z"
   },
   {
    "duration": 185,
    "start_time": "2022-11-12T11:14:17.616Z"
   },
   {
    "duration": 77,
    "start_time": "2022-11-12T11:14:20.401Z"
   },
   {
    "duration": 59,
    "start_time": "2022-11-12T11:14:29.601Z"
   },
   {
    "duration": 58,
    "start_time": "2022-11-12T11:14:59.771Z"
   },
   {
    "duration": 57,
    "start_time": "2022-11-12T11:15:05.684Z"
   },
   {
    "duration": 17,
    "start_time": "2022-11-12T11:15:17.511Z"
   },
   {
    "duration": 14,
    "start_time": "2022-11-12T11:15:20.583Z"
   },
   {
    "duration": 18,
    "start_time": "2022-11-12T11:15:23.877Z"
   },
   {
    "duration": 1499,
    "start_time": "2022-11-12T11:15:36.134Z"
   },
   {
    "duration": 48,
    "start_time": "2022-11-12T11:15:37.635Z"
   },
   {
    "duration": 14,
    "start_time": "2022-11-12T11:15:37.684Z"
   },
   {
    "duration": 9,
    "start_time": "2022-11-12T11:15:37.700Z"
   },
   {
    "duration": 20,
    "start_time": "2022-11-12T11:15:37.711Z"
   },
   {
    "duration": 176,
    "start_time": "2022-11-12T11:15:37.733Z"
   },
   {
    "duration": 7,
    "start_time": "2022-11-12T11:15:37.911Z"
   },
   {
    "duration": 858,
    "start_time": "2022-11-12T11:15:37.919Z"
   },
   {
    "duration": 577,
    "start_time": "2022-11-12T11:15:38.779Z"
   },
   {
    "duration": 63,
    "start_time": "2022-11-12T11:15:39.360Z"
   },
   {
    "duration": 14,
    "start_time": "2022-11-12T11:15:39.425Z"
   },
   {
    "duration": 28,
    "start_time": "2022-11-12T11:15:39.440Z"
   },
   {
    "duration": 861,
    "start_time": "2022-11-12T11:15:39.470Z"
   },
   {
    "duration": 21,
    "start_time": "2022-11-12T11:15:40.333Z"
   },
   {
    "duration": 44,
    "start_time": "2022-11-12T11:15:40.355Z"
   },
   {
    "duration": 31,
    "start_time": "2022-11-12T11:15:40.400Z"
   },
   {
    "duration": 86,
    "start_time": "2022-11-12T11:15:40.433Z"
   },
   {
    "duration": 891,
    "start_time": "2022-11-12T11:15:40.606Z"
   },
   {
    "duration": 5,
    "start_time": "2022-11-12T11:15:41.499Z"
   },
   {
    "duration": 179,
    "start_time": "2022-11-12T11:15:41.506Z"
   },
   {
    "duration": 14,
    "start_time": "2022-11-12T11:29:21.578Z"
   },
   {
    "duration": 22,
    "start_time": "2022-11-12T11:29:35.741Z"
   },
   {
    "duration": 108,
    "start_time": "2022-11-12T11:34:18.524Z"
   },
   {
    "duration": 16,
    "start_time": "2022-11-12T11:40:23.424Z"
   },
   {
    "duration": 11,
    "start_time": "2022-11-12T11:40:32.817Z"
   },
   {
    "duration": 15,
    "start_time": "2022-11-12T11:41:31.171Z"
   },
   {
    "duration": 12,
    "start_time": "2022-11-12T11:41:33.152Z"
   },
   {
    "duration": 12,
    "start_time": "2022-11-12T11:43:12.559Z"
   },
   {
    "duration": 22,
    "start_time": "2022-11-12T11:43:25.425Z"
   },
   {
    "duration": 20,
    "start_time": "2022-11-12T11:43:28.326Z"
   },
   {
    "duration": 13,
    "start_time": "2022-11-12T11:43:32.404Z"
   },
   {
    "duration": 13,
    "start_time": "2022-11-12T11:44:06.311Z"
   },
   {
    "duration": 51,
    "start_time": "2022-11-13T10:44:42.900Z"
   },
   {
    "duration": 1631,
    "start_time": "2022-11-13T10:45:17.607Z"
   },
   {
    "duration": 80,
    "start_time": "2022-11-13T10:45:25.189Z"
   },
   {
    "duration": 10,
    "start_time": "2022-11-13T10:49:49.567Z"
   },
   {
    "duration": 4,
    "start_time": "2022-11-13T10:49:53.864Z"
   },
   {
    "duration": 185,
    "start_time": "2022-11-13T10:49:53.870Z"
   },
   {
    "duration": 14,
    "start_time": "2022-11-13T10:49:54.058Z"
   },
   {
    "duration": 6,
    "start_time": "2022-11-13T10:49:54.073Z"
   },
   {
    "duration": 12,
    "start_time": "2022-11-13T10:49:54.081Z"
   },
   {
    "duration": 174,
    "start_time": "2022-11-13T10:49:54.094Z"
   },
   {
    "duration": 8,
    "start_time": "2022-11-13T10:49:54.269Z"
   },
   {
    "duration": 930,
    "start_time": "2022-11-13T10:49:54.279Z"
   },
   {
    "duration": 514,
    "start_time": "2022-11-13T10:49:55.211Z"
   },
   {
    "duration": 54,
    "start_time": "2022-11-13T10:49:55.727Z"
   },
   {
    "duration": 13,
    "start_time": "2022-11-13T10:49:55.784Z"
   },
   {
    "duration": 14,
    "start_time": "2022-11-13T10:49:55.798Z"
   },
   {
    "duration": 793,
    "start_time": "2022-11-13T10:49:55.813Z"
   },
   {
    "duration": 19,
    "start_time": "2022-11-13T10:49:56.608Z"
   },
   {
    "duration": 21,
    "start_time": "2022-11-13T10:49:56.628Z"
   },
   {
    "duration": 21,
    "start_time": "2022-11-13T10:49:56.651Z"
   },
   {
    "duration": 13,
    "start_time": "2022-11-13T10:49:56.673Z"
   },
   {
    "duration": 423,
    "start_time": "2022-11-13T10:49:56.688Z"
   },
   {
    "duration": 11,
    "start_time": "2022-11-13T10:49:57.113Z"
   },
   {
    "duration": 0,
    "start_time": "2022-11-13T10:49:57.126Z"
   },
   {
    "duration": 396,
    "start_time": "2022-11-13T10:50:27.281Z"
   },
   {
    "duration": 12,
    "start_time": "2022-11-13T10:51:38.296Z"
   },
   {
    "duration": 5,
    "start_time": "2022-11-13T10:53:38.080Z"
   },
   {
    "duration": 153,
    "start_time": "2022-11-13T10:53:50.949Z"
   },
   {
    "duration": 5,
    "start_time": "2022-11-13T10:54:06.959Z"
   },
   {
    "duration": 154,
    "start_time": "2022-11-13T10:54:07.901Z"
   },
   {
    "duration": 4,
    "start_time": "2022-11-13T10:59:20.900Z"
   },
   {
    "duration": 9,
    "start_time": "2022-11-13T10:59:56.661Z"
   },
   {
    "duration": 5,
    "start_time": "2022-11-13T11:00:00.568Z"
   },
   {
    "duration": 159,
    "start_time": "2022-11-13T11:00:02.064Z"
   },
   {
    "duration": 463,
    "start_time": "2022-11-13T11:00:18.672Z"
   },
   {
    "duration": 406,
    "start_time": "2022-11-13T11:00:20.189Z"
   },
   {
    "duration": 3019,
    "start_time": "2022-11-13T11:02:44.574Z"
   },
   {
    "duration": 2932,
    "start_time": "2022-11-13T11:06:55.722Z"
   },
   {
    "duration": 2882,
    "start_time": "2022-11-13T11:07:26.860Z"
   },
   {
    "duration": 788,
    "start_time": "2022-11-13T11:07:32.766Z"
   },
   {
    "duration": 5,
    "start_time": "2022-11-13T11:07:39.126Z"
   },
   {
    "duration": 74,
    "start_time": "2022-11-13T11:07:39.133Z"
   },
   {
    "duration": 13,
    "start_time": "2022-11-13T11:07:39.209Z"
   },
   {
    "duration": 22,
    "start_time": "2022-11-13T11:07:39.224Z"
   },
   {
    "duration": 43,
    "start_time": "2022-11-13T11:07:39.248Z"
   },
   {
    "duration": 215,
    "start_time": "2022-11-13T11:07:39.294Z"
   },
   {
    "duration": 7,
    "start_time": "2022-11-13T11:07:39.510Z"
   },
   {
    "duration": 848,
    "start_time": "2022-11-13T11:07:39.519Z"
   },
   {
    "duration": 615,
    "start_time": "2022-11-13T11:07:40.369Z"
   },
   {
    "duration": 16,
    "start_time": "2022-11-13T11:07:40.987Z"
   },
   {
    "duration": 16,
    "start_time": "2022-11-13T11:07:41.004Z"
   },
   {
    "duration": 30,
    "start_time": "2022-11-13T11:07:41.022Z"
   },
   {
    "duration": 778,
    "start_time": "2022-11-13T11:07:41.056Z"
   },
   {
    "duration": 31,
    "start_time": "2022-11-13T11:07:41.835Z"
   },
   {
    "duration": 45,
    "start_time": "2022-11-13T11:07:41.868Z"
   },
   {
    "duration": 36,
    "start_time": "2022-11-13T11:07:41.915Z"
   },
   {
    "duration": 28,
    "start_time": "2022-11-13T11:07:41.955Z"
   },
   {
    "duration": 814,
    "start_time": "2022-11-13T11:07:41.984Z"
   },
   {
    "duration": 22,
    "start_time": "2022-11-13T11:09:33.161Z"
   },
   {
    "duration": 5,
    "start_time": "2022-11-13T11:09:39.962Z"
   },
   {
    "duration": 177,
    "start_time": "2022-11-13T11:09:44.488Z"
   },
   {
    "duration": 144,
    "start_time": "2022-11-13T11:09:50.767Z"
   },
   {
    "duration": 712,
    "start_time": "2022-11-13T11:10:57.333Z"
   },
   {
    "duration": 731,
    "start_time": "2022-11-13T11:10:59.537Z"
   },
   {
    "duration": 5,
    "start_time": "2022-11-13T11:11:01.710Z"
   },
   {
    "duration": 136,
    "start_time": "2022-11-13T11:11:03.521Z"
   },
   {
    "duration": 21,
    "start_time": "2022-11-13T11:11:06.272Z"
   },
   {
    "duration": 136,
    "start_time": "2022-11-13T11:11:08.094Z"
   },
   {
    "duration": 5,
    "start_time": "2022-11-13T11:12:16.732Z"
   },
   {
    "duration": 42,
    "start_time": "2022-11-13T11:12:46.298Z"
   },
   {
    "duration": 41,
    "start_time": "2022-11-13T11:13:00.664Z"
   },
   {
    "duration": 50,
    "start_time": "2022-11-13T11:13:13.448Z"
   },
   {
    "duration": 57,
    "start_time": "2022-11-13T11:13:17.204Z"
   },
   {
    "duration": 54,
    "start_time": "2022-11-13T11:13:29.233Z"
   },
   {
    "duration": 57,
    "start_time": "2022-11-13T11:13:36.976Z"
   },
   {
    "duration": 11,
    "start_time": "2022-11-13T11:13:52.194Z"
   },
   {
    "duration": 10,
    "start_time": "2022-11-13T11:14:27.350Z"
   },
   {
    "duration": 5,
    "start_time": "2022-11-13T11:14:36.271Z"
   },
   {
    "duration": 135,
    "start_time": "2022-11-13T11:14:37.856Z"
   },
   {
    "duration": 14,
    "start_time": "2022-11-13T11:14:40.426Z"
   },
   {
    "duration": 5,
    "start_time": "2022-11-13T11:15:17.496Z"
   },
   {
    "duration": 140,
    "start_time": "2022-11-13T11:15:18.680Z"
   },
   {
    "duration": 66,
    "start_time": "2022-11-13T11:16:44.558Z"
   },
   {
    "duration": 29,
    "start_time": "2022-11-13T11:16:48.007Z"
   },
   {
    "duration": 21,
    "start_time": "2022-11-13T11:16:55.917Z"
   },
   {
    "duration": 5,
    "start_time": "2022-11-13T11:17:18.701Z"
   },
   {
    "duration": 13,
    "start_time": "2022-11-13T11:19:24.576Z"
   },
   {
    "duration": 145,
    "start_time": "2022-11-13T11:19:35.844Z"
   },
   {
    "duration": 5933,
    "start_time": "2022-11-13T11:19:42.085Z"
   },
   {
    "duration": 5969,
    "start_time": "2022-11-13T11:20:26.719Z"
   },
   {
    "duration": 250,
    "start_time": "2022-11-13T11:21:04.381Z"
   },
   {
    "duration": 159,
    "start_time": "2022-11-13T11:21:14.058Z"
   },
   {
    "duration": 5838,
    "start_time": "2022-11-13T11:22:30.704Z"
   },
   {
    "duration": 364,
    "start_time": "2022-11-13T11:22:44.695Z"
   },
   {
    "duration": 287,
    "start_time": "2022-11-13T11:22:53.220Z"
   },
   {
    "duration": 5888,
    "start_time": "2022-11-13T11:24:09.482Z"
   },
   {
    "duration": 6301,
    "start_time": "2022-11-13T11:24:21.784Z"
   },
   {
    "duration": 256,
    "start_time": "2022-11-13T11:24:30.025Z"
   },
   {
    "duration": 194,
    "start_time": "2022-11-13T11:24:31.590Z"
   },
   {
    "duration": 815,
    "start_time": "2022-11-13T11:24:45.132Z"
   },
   {
    "duration": 311,
    "start_time": "2022-11-13T11:24:46.399Z"
   },
   {
    "duration": 819,
    "start_time": "2022-11-13T11:25:35.742Z"
   },
   {
    "duration": 23,
    "start_time": "2022-11-13T11:25:37.975Z"
   },
   {
    "duration": 180,
    "start_time": "2022-11-13T11:25:40.022Z"
   },
   {
    "duration": 6125,
    "start_time": "2022-11-13T11:25:52.893Z"
   },
   {
    "duration": 790,
    "start_time": "2022-11-13T11:26:33.972Z"
   },
   {
    "duration": 799,
    "start_time": "2022-11-13T11:26:35.874Z"
   },
   {
    "duration": 14,
    "start_time": "2022-11-13T11:26:36.898Z"
   },
   {
    "duration": 6,
    "start_time": "2022-11-13T11:26:43.773Z"
   },
   {
    "duration": 54,
    "start_time": "2022-11-13T11:26:43.781Z"
   },
   {
    "duration": 22,
    "start_time": "2022-11-13T11:26:43.837Z"
   },
   {
    "duration": 15,
    "start_time": "2022-11-13T11:26:43.864Z"
   },
   {
    "duration": 12,
    "start_time": "2022-11-13T11:26:43.881Z"
   },
   {
    "duration": 185,
    "start_time": "2022-11-13T11:26:43.894Z"
   },
   {
    "duration": 7,
    "start_time": "2022-11-13T11:26:44.082Z"
   },
   {
    "duration": 885,
    "start_time": "2022-11-13T11:26:44.090Z"
   },
   {
    "duration": 521,
    "start_time": "2022-11-13T11:26:44.977Z"
   },
   {
    "duration": 13,
    "start_time": "2022-11-13T11:26:45.500Z"
   },
   {
    "duration": 14,
    "start_time": "2022-11-13T11:26:45.515Z"
   },
   {
    "duration": 18,
    "start_time": "2022-11-13T11:26:45.546Z"
   },
   {
    "duration": 922,
    "start_time": "2022-11-13T11:26:45.565Z"
   },
   {
    "duration": 20,
    "start_time": "2022-11-13T11:26:46.490Z"
   },
   {
    "duration": 10,
    "start_time": "2022-11-13T11:26:46.512Z"
   },
   {
    "duration": 47,
    "start_time": "2022-11-13T11:26:46.524Z"
   },
   {
    "duration": 23,
    "start_time": "2022-11-13T11:26:46.572Z"
   },
   {
    "duration": 4,
    "start_time": "2022-11-13T11:26:46.597Z"
   },
   {
    "duration": 823,
    "start_time": "2022-11-13T11:26:46.603Z"
   },
   {
    "duration": 32,
    "start_time": "2022-11-13T11:26:47.428Z"
   },
   {
    "duration": 0,
    "start_time": "2022-11-13T11:26:47.461Z"
   },
   {
    "duration": 0,
    "start_time": "2022-11-13T11:26:47.462Z"
   },
   {
    "duration": 0,
    "start_time": "2022-11-13T11:26:47.464Z"
   },
   {
    "duration": 0,
    "start_time": "2022-11-13T11:26:47.465Z"
   },
   {
    "duration": 0,
    "start_time": "2022-11-13T11:26:47.466Z"
   },
   {
    "duration": 0,
    "start_time": "2022-11-13T11:26:47.467Z"
   },
   {
    "duration": 805,
    "start_time": "2022-11-13T11:27:41.644Z"
   },
   {
    "duration": 26,
    "start_time": "2022-11-13T11:27:43.728Z"
   },
   {
    "duration": 156,
    "start_time": "2022-11-13T11:27:57.508Z"
   },
   {
    "duration": 6328,
    "start_time": "2022-11-13T11:28:19.423Z"
   },
   {
    "duration": 16,
    "start_time": "2022-11-13T11:28:36.976Z"
   },
   {
    "duration": 6189,
    "start_time": "2022-11-13T11:29:08.173Z"
   },
   {
    "duration": 275,
    "start_time": "2022-11-13T11:29:14.364Z"
   },
   {
    "duration": 210,
    "start_time": "2022-11-13T11:29:14.641Z"
   },
   {
    "duration": 24,
    "start_time": "2022-11-13T11:36:39.893Z"
   },
   {
    "duration": 317,
    "start_time": "2022-11-13T11:37:00.558Z"
   },
   {
    "duration": 48,
    "start_time": "2022-11-13T11:37:12.914Z"
   },
   {
    "duration": 320,
    "start_time": "2022-11-13T11:37:13.943Z"
   },
   {
    "duration": 288,
    "start_time": "2022-11-13T11:37:57.591Z"
   },
   {
    "duration": 28,
    "start_time": "2022-11-13T11:38:07.040Z"
   },
   {
    "duration": 328,
    "start_time": "2022-11-13T11:38:08.127Z"
   },
   {
    "duration": 101,
    "start_time": "2022-11-13T11:38:58.570Z"
   },
   {
    "duration": 323,
    "start_time": "2022-11-13T11:39:02.461Z"
   },
   {
    "duration": 25,
    "start_time": "2022-11-13T11:39:06.858Z"
   },
   {
    "duration": 270,
    "start_time": "2022-11-13T11:39:08.406Z"
   },
   {
    "duration": 274,
    "start_time": "2022-11-13T11:40:17.410Z"
   },
   {
    "duration": 24,
    "start_time": "2022-11-13T11:40:22.083Z"
   },
   {
    "duration": 161,
    "start_time": "2022-11-13T11:40:23.322Z"
   },
   {
    "duration": 257,
    "start_time": "2022-11-13T11:40:30.383Z"
   },
   {
    "duration": 178,
    "start_time": "2022-11-13T11:40:32.029Z"
   },
   {
    "duration": 249,
    "start_time": "2022-11-13T11:40:37.119Z"
   },
   {
    "duration": 333,
    "start_time": "2022-11-13T11:40:38.358Z"
   },
   {
    "duration": 349,
    "start_time": "2022-11-13T11:40:46.116Z"
   },
   {
    "duration": 289,
    "start_time": "2022-11-13T11:40:47.626Z"
   },
   {
    "duration": 22,
    "start_time": "2022-11-13T11:40:54.741Z"
   },
   {
    "duration": 287,
    "start_time": "2022-11-13T11:40:55.973Z"
   },
   {
    "duration": 24,
    "start_time": "2022-11-13T11:43:08.126Z"
   },
   {
    "duration": 148,
    "start_time": "2022-11-13T11:43:13.763Z"
   },
   {
    "duration": 22,
    "start_time": "2022-11-13T11:45:15.384Z"
   },
   {
    "duration": 230,
    "start_time": "2022-11-13T11:45:39.757Z"
   },
   {
    "duration": 512,
    "start_time": "2022-11-13T11:45:45.772Z"
   },
   {
    "duration": 4,
    "start_time": "2022-11-13T11:47:36.973Z"
   },
   {
    "duration": 12,
    "start_time": "2022-11-13T11:50:39.196Z"
   },
   {
    "duration": 12,
    "start_time": "2022-11-13T11:51:26.973Z"
   },
   {
    "duration": 15,
    "start_time": "2022-11-13T11:52:30.537Z"
   },
   {
    "duration": 3,
    "start_time": "2022-11-13T11:52:43.074Z"
   },
   {
    "duration": 1028,
    "start_time": "2022-11-13T11:54:34.882Z"
   },
   {
    "duration": 20,
    "start_time": "2022-11-13T11:54:49.813Z"
   },
   {
    "duration": 37,
    "start_time": "2022-11-13T11:55:08.963Z"
   },
   {
    "duration": 223,
    "start_time": "2022-11-13T11:55:15.408Z"
   },
   {
    "duration": 4,
    "start_time": "2022-11-13T11:56:11.029Z"
   },
   {
    "duration": 77,
    "start_time": "2022-11-13T11:56:11.035Z"
   },
   {
    "duration": 13,
    "start_time": "2022-11-13T11:56:11.113Z"
   },
   {
    "duration": 4,
    "start_time": "2022-11-13T11:56:11.128Z"
   },
   {
    "duration": 16,
    "start_time": "2022-11-13T11:56:11.133Z"
   },
   {
    "duration": 193,
    "start_time": "2022-11-13T11:56:11.150Z"
   },
   {
    "duration": 14,
    "start_time": "2022-11-13T11:56:11.349Z"
   },
   {
    "duration": 858,
    "start_time": "2022-11-13T11:56:11.367Z"
   },
   {
    "duration": 503,
    "start_time": "2022-11-13T11:56:12.227Z"
   },
   {
    "duration": 25,
    "start_time": "2022-11-13T11:56:12.733Z"
   },
   {
    "duration": 16,
    "start_time": "2022-11-13T11:56:12.764Z"
   },
   {
    "duration": 13,
    "start_time": "2022-11-13T11:56:12.781Z"
   },
   {
    "duration": 941,
    "start_time": "2022-11-13T11:56:12.796Z"
   },
   {
    "duration": 48,
    "start_time": "2022-11-13T11:56:13.739Z"
   },
   {
    "duration": 20,
    "start_time": "2022-11-13T11:56:13.791Z"
   },
   {
    "duration": 40,
    "start_time": "2022-11-13T11:56:13.814Z"
   },
   {
    "duration": 19,
    "start_time": "2022-11-13T11:56:13.857Z"
   },
   {
    "duration": 5,
    "start_time": "2022-11-13T11:56:13.879Z"
   },
   {
    "duration": 863,
    "start_time": "2022-11-13T11:56:13.886Z"
   },
   {
    "duration": 37,
    "start_time": "2022-11-13T11:56:14.754Z"
   },
   {
    "duration": 189,
    "start_time": "2022-11-13T11:56:14.793Z"
   },
   {
    "duration": 6316,
    "start_time": "2022-11-13T11:56:14.984Z"
   },
   {
    "duration": 254,
    "start_time": "2022-11-13T11:56:21.302Z"
   },
   {
    "duration": 175,
    "start_time": "2022-11-13T11:56:21.558Z"
   },
   {
    "duration": 515,
    "start_time": "2022-11-13T11:56:21.736Z"
   },
   {
    "duration": 411,
    "start_time": "2022-11-13T11:56:22.257Z"
   },
   {
    "duration": 94,
    "start_time": "2022-11-13T11:56:22.672Z"
   },
   {
    "duration": 375,
    "start_time": "2022-11-13T11:56:22.849Z"
   },
   {
    "duration": 42,
    "start_time": "2022-11-13T11:56:23.226Z"
   },
   {
    "duration": 176,
    "start_time": "2022-11-13T11:56:23.273Z"
   },
   {
    "duration": 412,
    "start_time": "2022-11-13T11:56:23.456Z"
   },
   {
    "duration": 4,
    "start_time": "2022-11-13T11:56:23.870Z"
   },
   {
    "duration": 30,
    "start_time": "2022-11-13T11:56:23.877Z"
   },
   {
    "duration": 16,
    "start_time": "2022-11-13T11:56:23.910Z"
   },
   {
    "duration": 1160,
    "start_time": "2022-11-13T11:56:23.929Z"
   },
   {
    "duration": 28,
    "start_time": "2022-11-13T11:56:25.091Z"
   },
   {
    "duration": 204,
    "start_time": "2022-11-13T11:56:25.121Z"
   },
   {
    "duration": 1044,
    "start_time": "2022-11-13T11:58:25.378Z"
   },
   {
    "duration": 8397,
    "start_time": "2022-11-13T11:58:34.368Z"
   },
   {
    "duration": 309,
    "start_time": "2022-11-13T11:59:01.466Z"
   },
   {
    "duration": 333,
    "start_time": "2022-11-13T11:59:07.938Z"
   },
   {
    "duration": 184,
    "start_time": "2022-11-13T11:59:09.687Z"
   },
   {
    "duration": 399,
    "start_time": "2022-11-13T12:01:24.575Z"
   },
   {
    "duration": 14,
    "start_time": "2022-11-13T12:01:33.740Z"
   },
   {
    "duration": 270,
    "start_time": "2022-11-13T12:01:40.027Z"
   },
   {
    "duration": 303,
    "start_time": "2022-11-13T12:02:01.174Z"
   },
   {
    "duration": 224,
    "start_time": "2022-11-13T12:02:04.826Z"
   },
   {
    "duration": 288,
    "start_time": "2022-11-13T12:02:06.924Z"
   },
   {
    "duration": 62,
    "start_time": "2022-11-13T12:04:25.206Z"
   },
   {
    "duration": 96,
    "start_time": "2022-11-13T12:04:29.211Z"
   },
   {
    "duration": 4,
    "start_time": "2022-11-13T12:05:20.569Z"
   },
   {
    "duration": 10,
    "start_time": "2022-11-13T12:05:48.101Z"
   },
   {
    "duration": 5,
    "start_time": "2022-11-13T12:05:57.616Z"
   },
   {
    "duration": 4,
    "start_time": "2022-11-13T12:06:01.072Z"
   },
   {
    "duration": 4,
    "start_time": "2022-11-13T12:06:03.573Z"
   },
   {
    "duration": 10,
    "start_time": "2022-11-13T12:06:21.279Z"
   },
   {
    "duration": 3,
    "start_time": "2022-11-13T12:06:22.084Z"
   },
   {
    "duration": 944,
    "start_time": "2022-11-13T12:06:58.470Z"
   },
   {
    "duration": 1001,
    "start_time": "2022-11-13T12:07:02.372Z"
   },
   {
    "duration": 363,
    "start_time": "2022-11-13T12:07:19.570Z"
   },
   {
    "duration": 14,
    "start_time": "2022-11-13T12:07:20.800Z"
   },
   {
    "duration": 15,
    "start_time": "2022-11-13T12:07:30.487Z"
   },
   {
    "duration": 150,
    "start_time": "2022-11-13T12:07:33.972Z"
   },
   {
    "duration": 164,
    "start_time": "2022-11-13T12:07:48.232Z"
   },
   {
    "duration": 4114,
    "start_time": "2022-11-13T12:09:00.673Z"
   },
   {
    "duration": 88,
    "start_time": "2022-11-13T12:09:05.906Z"
   },
   {
    "duration": 179,
    "start_time": "2022-11-13T12:09:15.113Z"
   },
   {
    "duration": 30642,
    "start_time": "2022-11-13T12:15:35.933Z"
   },
   {
    "duration": 358,
    "start_time": "2022-11-13T12:16:09.681Z"
   },
   {
    "duration": 207,
    "start_time": "2022-11-13T12:16:19.027Z"
   },
   {
    "duration": 22481,
    "start_time": "2022-11-13T12:17:02.943Z"
   },
   {
    "duration": 280,
    "start_time": "2022-11-13T12:17:42.618Z"
   },
   {
    "duration": 195,
    "start_time": "2022-11-13T12:17:43.810Z"
   },
   {
    "duration": 32248,
    "start_time": "2022-11-13T12:18:20.366Z"
   },
   {
    "duration": 302,
    "start_time": "2022-11-13T12:18:56.221Z"
   },
   {
    "duration": 207,
    "start_time": "2022-11-13T12:18:58.394Z"
   },
   {
    "duration": 6,
    "start_time": "2022-11-13T12:20:33.912Z"
   },
   {
    "duration": 95,
    "start_time": "2022-11-13T12:20:33.920Z"
   },
   {
    "duration": 13,
    "start_time": "2022-11-13T12:20:34.017Z"
   },
   {
    "duration": 5,
    "start_time": "2022-11-13T12:20:34.032Z"
   },
   {
    "duration": 74,
    "start_time": "2022-11-13T12:20:34.039Z"
   },
   {
    "duration": 198,
    "start_time": "2022-11-13T12:20:34.115Z"
   },
   {
    "duration": 8,
    "start_time": "2022-11-13T12:20:34.314Z"
   },
   {
    "duration": 1099,
    "start_time": "2022-11-13T12:20:34.325Z"
   },
   {
    "duration": 559,
    "start_time": "2022-11-13T12:20:35.426Z"
   },
   {
    "duration": 18,
    "start_time": "2022-11-13T12:20:35.988Z"
   },
   {
    "duration": 20,
    "start_time": "2022-11-13T12:20:36.008Z"
   },
   {
    "duration": 35,
    "start_time": "2022-11-13T12:20:36.030Z"
   },
   {
    "duration": 993,
    "start_time": "2022-11-13T12:20:36.076Z"
   },
   {
    "duration": 26,
    "start_time": "2022-11-13T12:20:37.072Z"
   },
   {
    "duration": 13,
    "start_time": "2022-11-13T12:20:37.100Z"
   },
   {
    "duration": 37,
    "start_time": "2022-11-13T12:20:37.114Z"
   },
   {
    "duration": 19,
    "start_time": "2022-11-13T12:20:37.154Z"
   },
   {
    "duration": 42,
    "start_time": "2022-11-13T12:20:37.174Z"
   },
   {
    "duration": 888,
    "start_time": "2022-11-13T12:20:37.218Z"
   },
   {
    "duration": 26,
    "start_time": "2022-11-13T12:20:38.108Z"
   },
   {
    "duration": 193,
    "start_time": "2022-11-13T12:20:38.136Z"
   },
   {
    "duration": 33004,
    "start_time": "2022-11-13T12:20:38.331Z"
   },
   {
    "duration": 306,
    "start_time": "2022-11-13T12:21:11.337Z"
   },
   {
    "duration": 185,
    "start_time": "2022-11-13T12:21:11.650Z"
   },
   {
    "duration": 1269,
    "start_time": "2022-11-13T12:21:11.836Z"
   },
   {
    "duration": 348,
    "start_time": "2022-11-13T12:21:13.171Z"
   },
   {
    "duration": 27,
    "start_time": "2022-11-13T12:21:13.521Z"
   },
   {
    "duration": 372,
    "start_time": "2022-11-13T12:21:13.553Z"
   },
   {
    "duration": 32,
    "start_time": "2022-11-13T12:21:13.927Z"
   },
   {
    "duration": 165,
    "start_time": "2022-11-13T12:21:13.962Z"
   },
   {
    "duration": 483,
    "start_time": "2022-11-13T12:21:14.129Z"
   },
   {
    "duration": 5,
    "start_time": "2022-11-13T12:21:14.614Z"
   },
   {
    "duration": 49,
    "start_time": "2022-11-13T12:21:14.621Z"
   },
   {
    "duration": 37,
    "start_time": "2022-11-13T12:21:14.672Z"
   },
   {
    "duration": 1096,
    "start_time": "2022-11-13T12:21:14.712Z"
   },
   {
    "duration": 25,
    "start_time": "2022-11-13T12:21:15.809Z"
   },
   {
    "duration": 236,
    "start_time": "2022-11-13T12:21:15.837Z"
   },
   {
    "duration": 32337,
    "start_time": "2022-11-13T12:21:16.078Z"
   },
   {
    "duration": 404,
    "start_time": "2022-11-13T12:21:48.417Z"
   },
   {
    "duration": 209,
    "start_time": "2022-11-13T12:21:48.823Z"
   },
   {
    "duration": 638,
    "start_time": "2022-11-13T12:21:49.034Z"
   },
   {
    "duration": 336,
    "start_time": "2022-11-13T12:21:49.685Z"
   },
   {
    "duration": 5,
    "start_time": "2022-11-13T12:21:50.023Z"
   },
   {
    "duration": 32,
    "start_time": "2022-11-13T12:21:50.030Z"
   },
   {
    "duration": 6,
    "start_time": "2022-11-13T12:21:50.078Z"
   },
   {
    "duration": 435,
    "start_time": "2022-11-13T12:21:50.090Z"
   },
   {
    "duration": 20,
    "start_time": "2022-11-13T12:21:50.527Z"
   },
   {
    "duration": 406,
    "start_time": "2022-11-13T12:21:50.549Z"
   },
   {
    "duration": 4943,
    "start_time": "2022-11-13T12:21:50.962Z"
   },
   {
    "duration": 85,
    "start_time": "2022-11-13T12:21:55.908Z"
   },
   {
    "duration": 170,
    "start_time": "2022-11-13T12:21:55.998Z"
   },
   {
    "duration": 30061,
    "start_time": "2022-11-13T12:25:02.759Z"
   },
   {
    "duration": 0,
    "start_time": "2022-11-13T12:25:32.823Z"
   },
   {
    "duration": 0,
    "start_time": "2022-11-13T12:25:32.824Z"
   },
   {
    "duration": 0,
    "start_time": "2022-11-13T12:25:32.826Z"
   },
   {
    "duration": 0,
    "start_time": "2022-11-13T12:25:32.827Z"
   },
   {
    "duration": 0,
    "start_time": "2022-11-13T12:25:32.829Z"
   },
   {
    "duration": 0,
    "start_time": "2022-11-13T12:25:32.830Z"
   },
   {
    "duration": 0,
    "start_time": "2022-11-13T12:25:32.831Z"
   },
   {
    "duration": 0,
    "start_time": "2022-11-13T12:25:32.833Z"
   },
   {
    "duration": 0,
    "start_time": "2022-11-13T12:25:32.834Z"
   },
   {
    "duration": 0,
    "start_time": "2022-11-13T12:25:32.835Z"
   },
   {
    "duration": 0,
    "start_time": "2022-11-13T12:25:32.836Z"
   },
   {
    "duration": 0,
    "start_time": "2022-11-13T12:25:32.837Z"
   },
   {
    "duration": 0,
    "start_time": "2022-11-13T12:25:32.838Z"
   },
   {
    "duration": 0,
    "start_time": "2022-11-13T12:25:32.839Z"
   },
   {
    "duration": 0,
    "start_time": "2022-11-13T12:25:32.840Z"
   },
   {
    "duration": 0,
    "start_time": "2022-11-13T12:25:32.841Z"
   },
   {
    "duration": 0,
    "start_time": "2022-11-13T12:25:32.842Z"
   },
   {
    "duration": 0,
    "start_time": "2022-11-13T12:25:32.843Z"
   },
   {
    "duration": 0,
    "start_time": "2022-11-13T12:25:32.844Z"
   },
   {
    "duration": 0,
    "start_time": "2022-11-13T12:25:32.847Z"
   },
   {
    "duration": 0,
    "start_time": "2022-11-13T12:25:32.848Z"
   },
   {
    "duration": 0,
    "start_time": "2022-11-13T12:25:32.851Z"
   },
   {
    "duration": 0,
    "start_time": "2022-11-13T12:25:32.852Z"
   },
   {
    "duration": 0,
    "start_time": "2022-11-13T12:25:32.853Z"
   },
   {
    "duration": 0,
    "start_time": "2022-11-13T12:25:32.854Z"
   },
   {
    "duration": 0,
    "start_time": "2022-11-13T12:25:32.855Z"
   },
   {
    "duration": 0,
    "start_time": "2022-11-13T12:25:32.856Z"
   },
   {
    "duration": 0,
    "start_time": "2022-11-13T12:25:32.857Z"
   },
   {
    "duration": 0,
    "start_time": "2022-11-13T12:25:32.858Z"
   },
   {
    "duration": 0,
    "start_time": "2022-11-13T12:25:32.861Z"
   },
   {
    "duration": 0,
    "start_time": "2022-11-13T12:25:32.862Z"
   },
   {
    "duration": 3,
    "start_time": "2022-11-13T12:25:45.193Z"
   },
   {
    "duration": 14,
    "start_time": "2022-11-13T12:25:45.198Z"
   },
   {
    "duration": 3,
    "start_time": "2022-11-13T12:25:45.214Z"
   },
   {
    "duration": 1024,
    "start_time": "2022-11-13T12:25:45.220Z"
   },
   {
    "duration": 30,
    "start_time": "2022-11-13T12:25:46.246Z"
   },
   {
    "duration": 230,
    "start_time": "2022-11-13T12:25:46.277Z"
   },
   {
    "duration": 43701,
    "start_time": "2022-11-13T12:25:46.508Z"
   },
   {
    "duration": 627,
    "start_time": "2022-11-13T12:26:30.211Z"
   },
   {
    "duration": 211,
    "start_time": "2022-11-13T12:26:30.840Z"
   },
   {
    "duration": 538,
    "start_time": "2022-11-13T12:26:31.057Z"
   },
   {
    "duration": 356,
    "start_time": "2022-11-13T12:26:31.649Z"
   },
   {
    "duration": 5,
    "start_time": "2022-11-13T12:26:32.009Z"
   },
   {
    "duration": 38,
    "start_time": "2022-11-13T12:26:32.016Z"
   },
   {
    "duration": 45,
    "start_time": "2022-11-13T12:26:32.058Z"
   },
   {
    "duration": 415,
    "start_time": "2022-11-13T12:26:32.106Z"
   },
   {
    "duration": 12,
    "start_time": "2022-11-13T12:26:32.523Z"
   },
   {
    "duration": 202,
    "start_time": "2022-11-13T12:26:32.537Z"
   },
   {
    "duration": 18151,
    "start_time": "2022-11-13T12:26:32.745Z"
   },
   {
    "duration": 59,
    "start_time": "2022-11-13T12:26:50.900Z"
   },
   {
    "duration": 178,
    "start_time": "2022-11-13T12:26:50.962Z"
   },
   {
    "duration": 86,
    "start_time": "2022-11-13T12:27:52.794Z"
   },
   {
    "duration": 305,
    "start_time": "2022-11-13T12:27:58.318Z"
   },
   {
    "duration": 4,
    "start_time": "2022-11-13T12:31:46.892Z"
   },
   {
    "duration": 10,
    "start_time": "2022-11-13T12:35:05.924Z"
   },
   {
    "duration": 10,
    "start_time": "2022-11-13T12:35:50.026Z"
   },
   {
    "duration": 75,
    "start_time": "2022-11-13T12:35:57.530Z"
   },
   {
    "duration": 8,
    "start_time": "2022-11-13T12:36:20.178Z"
   },
   {
    "duration": 164,
    "start_time": "2022-11-13T12:36:28.560Z"
   },
   {
    "duration": 83,
    "start_time": "2022-11-13T12:36:36.423Z"
   },
   {
    "duration": 139,
    "start_time": "2022-11-13T12:36:38.092Z"
   },
   {
    "duration": 10,
    "start_time": "2022-11-13T12:37:22.972Z"
   },
   {
    "duration": 12,
    "start_time": "2022-11-13T12:37:26.041Z"
   },
   {
    "duration": 86,
    "start_time": "2022-11-13T12:38:20.459Z"
   },
   {
    "duration": 143,
    "start_time": "2022-11-13T12:38:22.099Z"
   },
   {
    "duration": 6,
    "start_time": "2022-11-13T12:40:17.710Z"
   },
   {
    "duration": 9,
    "start_time": "2022-11-13T12:41:58.161Z"
   },
   {
    "duration": 6,
    "start_time": "2022-11-13T12:42:44.176Z"
   },
   {
    "duration": 7,
    "start_time": "2022-11-13T12:43:28.036Z"
   },
   {
    "duration": 6,
    "start_time": "2022-11-13T12:43:56.203Z"
   },
   {
    "duration": 85,
    "start_time": "2022-11-13T12:50:35.823Z"
   },
   {
    "duration": 143,
    "start_time": "2022-11-13T12:50:38.085Z"
   },
   {
    "duration": 6,
    "start_time": "2022-11-13T12:50:46.792Z"
   },
   {
    "duration": 87,
    "start_time": "2022-11-13T12:50:53.085Z"
   },
   {
    "duration": 136,
    "start_time": "2022-11-13T13:00:49.841Z"
   },
   {
    "duration": 145,
    "start_time": "2022-11-13T13:00:55.450Z"
   },
   {
    "duration": 42,
    "start_time": "2022-11-13T13:01:07.297Z"
   },
   {
    "duration": 146,
    "start_time": "2022-11-13T13:01:08.466Z"
   },
   {
    "duration": 32,
    "start_time": "2022-11-13T13:03:35.687Z"
   },
   {
    "duration": 49,
    "start_time": "2022-11-13T13:03:43.695Z"
   },
   {
    "duration": 38,
    "start_time": "2022-11-13T13:03:46.363Z"
   },
   {
    "duration": 48,
    "start_time": "2022-11-13T13:04:18.362Z"
   },
   {
    "duration": 90,
    "start_time": "2022-11-13T13:05:13.938Z"
   },
   {
    "duration": 146,
    "start_time": "2022-11-13T13:05:25.613Z"
   },
   {
    "duration": 96,
    "start_time": "2022-11-13T13:05:44.636Z"
   },
   {
    "duration": 90,
    "start_time": "2022-11-13T13:05:46.224Z"
   },
   {
    "duration": 28,
    "start_time": "2022-11-13T13:14:05.389Z"
   },
   {
    "duration": 36,
    "start_time": "2022-11-13T13:14:21.378Z"
   },
   {
    "duration": 154,
    "start_time": "2022-11-13T13:14:31.084Z"
   },
   {
    "duration": 24,
    "start_time": "2022-11-13T13:14:44.858Z"
   },
   {
    "duration": 157,
    "start_time": "2022-11-13T13:14:46.259Z"
   },
   {
    "duration": 106,
    "start_time": "2022-11-13T13:14:53.882Z"
   },
   {
    "duration": 160,
    "start_time": "2022-11-13T13:14:56.817Z"
   },
   {
    "duration": 98,
    "start_time": "2022-11-13T13:15:04.764Z"
   },
   {
    "duration": 162,
    "start_time": "2022-11-13T13:15:07.874Z"
   },
   {
    "duration": 15,
    "start_time": "2022-11-13T13:16:14.456Z"
   },
   {
    "duration": 165,
    "start_time": "2022-11-13T13:16:21.226Z"
   },
   {
    "duration": 93,
    "start_time": "2022-11-13T13:16:29.386Z"
   },
   {
    "duration": 21,
    "start_time": "2022-11-13T13:16:31.905Z"
   },
   {
    "duration": 156,
    "start_time": "2022-11-13T13:16:36.360Z"
   },
   {
    "duration": 5,
    "start_time": "2022-11-13T13:17:00.597Z"
   },
   {
    "duration": 89,
    "start_time": "2022-11-13T13:17:00.604Z"
   },
   {
    "duration": 13,
    "start_time": "2022-11-13T13:17:00.695Z"
   },
   {
    "duration": 5,
    "start_time": "2022-11-13T13:17:00.710Z"
   },
   {
    "duration": 29,
    "start_time": "2022-11-13T13:17:00.717Z"
   },
   {
    "duration": 344,
    "start_time": "2022-11-13T13:17:00.748Z"
   },
   {
    "duration": 6,
    "start_time": "2022-11-13T13:17:01.094Z"
   },
   {
    "duration": 914,
    "start_time": "2022-11-13T13:17:01.102Z"
   },
   {
    "duration": 523,
    "start_time": "2022-11-13T13:17:02.019Z"
   },
   {
    "duration": 15,
    "start_time": "2022-11-13T13:17:02.545Z"
   },
   {
    "duration": 15,
    "start_time": "2022-11-13T13:17:02.562Z"
   },
   {
    "duration": 14,
    "start_time": "2022-11-13T13:17:02.579Z"
   },
   {
    "duration": 845,
    "start_time": "2022-11-13T13:17:02.594Z"
   },
   {
    "duration": 24,
    "start_time": "2022-11-13T13:17:03.441Z"
   },
   {
    "duration": 12,
    "start_time": "2022-11-13T13:17:03.467Z"
   },
   {
    "duration": 20,
    "start_time": "2022-11-13T13:17:03.481Z"
   },
   {
    "duration": 13,
    "start_time": "2022-11-13T13:17:03.503Z"
   },
   {
    "duration": 33,
    "start_time": "2022-11-13T13:17:03.518Z"
   },
   {
    "duration": 796,
    "start_time": "2022-11-13T13:17:03.553Z"
   },
   {
    "duration": 23,
    "start_time": "2022-11-13T13:17:04.351Z"
   },
   {
    "duration": 188,
    "start_time": "2022-11-13T13:17:04.375Z"
   },
   {
    "duration": 30082,
    "start_time": "2022-11-13T13:17:04.566Z"
   },
   {
    "duration": 317,
    "start_time": "2022-11-13T13:17:34.650Z"
   },
   {
    "duration": 181,
    "start_time": "2022-11-13T13:17:34.971Z"
   },
   {
    "duration": 296,
    "start_time": "2022-11-13T13:17:35.153Z"
   },
   {
    "duration": 435,
    "start_time": "2022-11-13T13:17:35.452Z"
   },
   {
    "duration": 57,
    "start_time": "2022-11-13T13:17:35.889Z"
   },
   {
    "duration": 432,
    "start_time": "2022-11-13T13:17:35.949Z"
   },
   {
    "duration": 24,
    "start_time": "2022-11-13T13:17:36.383Z"
   },
   {
    "duration": 165,
    "start_time": "2022-11-13T13:17:36.408Z"
   },
   {
    "duration": 610,
    "start_time": "2022-11-13T13:17:36.575Z"
   },
   {
    "duration": 4,
    "start_time": "2022-11-13T13:17:37.187Z"
   },
   {
    "duration": 44,
    "start_time": "2022-11-13T13:17:37.193Z"
   },
   {
    "duration": 22,
    "start_time": "2022-11-13T13:17:37.244Z"
   },
   {
    "duration": 983,
    "start_time": "2022-11-13T13:17:37.268Z"
   },
   {
    "duration": 28,
    "start_time": "2022-11-13T13:17:38.253Z"
   },
   {
    "duration": 168,
    "start_time": "2022-11-13T13:17:38.283Z"
   },
   {
    "duration": 41973,
    "start_time": "2022-11-13T13:17:38.453Z"
   },
   {
    "duration": 561,
    "start_time": "2022-11-13T13:18:20.428Z"
   },
   {
    "duration": 193,
    "start_time": "2022-11-13T13:18:20.990Z"
   },
   {
    "duration": 170,
    "start_time": "2022-11-13T13:18:21.185Z"
   },
   {
    "duration": 350,
    "start_time": "2022-11-13T13:18:21.448Z"
   },
   {
    "duration": 4,
    "start_time": "2022-11-13T13:18:21.801Z"
   },
   {
    "duration": 24,
    "start_time": "2022-11-13T13:18:21.807Z"
   },
   {
    "duration": 18,
    "start_time": "2022-11-13T13:18:21.833Z"
   },
   {
    "duration": 422,
    "start_time": "2022-11-13T13:18:21.852Z"
   },
   {
    "duration": 14,
    "start_time": "2022-11-13T13:18:22.276Z"
   },
   {
    "duration": 170,
    "start_time": "2022-11-13T13:18:22.291Z"
   },
   {
    "duration": 16920,
    "start_time": "2022-11-13T13:18:22.463Z"
   },
   {
    "duration": 47,
    "start_time": "2022-11-13T13:18:39.385Z"
   },
   {
    "duration": 173,
    "start_time": "2022-11-13T13:18:39.434Z"
   },
   {
    "duration": 144,
    "start_time": "2022-11-13T13:18:39.609Z"
   },
   {
    "duration": 491,
    "start_time": "2022-11-13T13:18:39.755Z"
   },
   {
    "duration": 11,
    "start_time": "2022-11-13T13:18:40.248Z"
   },
   {
    "duration": 286,
    "start_time": "2022-11-13T13:18:40.261Z"
   },
   {
    "duration": 18,
    "start_time": "2022-11-13T13:18:40.549Z"
   },
   {
    "duration": 177,
    "start_time": "2022-11-13T13:18:40.569Z"
   },
   {
    "duration": 155,
    "start_time": "2022-11-13T13:18:40.748Z"
   },
   {
    "duration": 174,
    "start_time": "2022-11-13T13:18:40.905Z"
   },
   {
    "duration": 17,
    "start_time": "2022-11-13T13:21:26.928Z"
   },
   {
    "duration": 461,
    "start_time": "2022-11-13T13:21:45.395Z"
   },
   {
    "duration": 16,
    "start_time": "2022-11-13T13:21:47.786Z"
   },
   {
    "duration": 265,
    "start_time": "2022-11-13T13:21:50.115Z"
   },
   {
    "duration": 16,
    "start_time": "2022-11-13T13:25:29.663Z"
   },
   {
    "duration": 74,
    "start_time": "2022-11-13T13:25:38.402Z"
   },
   {
    "duration": 16,
    "start_time": "2022-11-13T13:25:40.232Z"
   },
   {
    "duration": 146,
    "start_time": "2022-11-13T13:25:45.120Z"
   },
   {
    "duration": 47,
    "start_time": "2022-11-13T13:27:05.492Z"
   },
   {
    "duration": 23,
    "start_time": "2022-11-13T13:27:08.696Z"
   },
   {
    "duration": 25,
    "start_time": "2022-11-13T13:27:10.485Z"
   },
   {
    "duration": 25,
    "start_time": "2022-11-13T13:27:17.904Z"
   },
   {
    "duration": 771,
    "start_time": "2022-11-13T13:28:00.993Z"
   },
   {
    "duration": 23,
    "start_time": "2022-11-13T13:28:03.714Z"
   },
   {
    "duration": 744,
    "start_time": "2022-11-13T13:28:08.091Z"
   },
   {
    "duration": 23,
    "start_time": "2022-11-13T13:28:10.357Z"
   },
   {
    "duration": 776,
    "start_time": "2022-11-13T13:28:12.296Z"
   },
   {
    "duration": 24,
    "start_time": "2022-11-13T13:28:14.060Z"
   },
   {
    "duration": 12,
    "start_time": "2022-11-13T13:28:22.784Z"
   },
   {
    "duration": 745,
    "start_time": "2022-11-13T13:28:24.995Z"
   },
   {
    "duration": 14,
    "start_time": "2022-11-13T13:28:25.993Z"
   },
   {
    "duration": 782,
    "start_time": "2022-11-13T13:28:30.095Z"
   },
   {
    "duration": 15,
    "start_time": "2022-11-13T13:28:31.266Z"
   },
   {
    "duration": 730,
    "start_time": "2022-11-13T13:28:33.585Z"
   },
   {
    "duration": 35,
    "start_time": "2022-11-13T13:28:34.845Z"
   },
   {
    "duration": 750,
    "start_time": "2022-11-13T13:29:40.898Z"
   },
   {
    "duration": 15,
    "start_time": "2022-11-13T13:29:43.088Z"
   },
   {
    "duration": 747,
    "start_time": "2022-11-13T13:29:47.471Z"
   },
   {
    "duration": 20,
    "start_time": "2022-11-13T13:29:48.758Z"
   },
   {
    "duration": 11,
    "start_time": "2022-11-13T13:32:29.281Z"
   },
   {
    "duration": 8,
    "start_time": "2022-11-13T13:32:40.252Z"
   },
   {
    "duration": 20,
    "start_time": "2022-11-13T13:32:45.938Z"
   },
   {
    "duration": 7,
    "start_time": "2022-11-13T13:32:55.728Z"
   },
   {
    "duration": 24,
    "start_time": "2022-11-13T13:33:11.922Z"
   },
   {
    "duration": 13,
    "start_time": "2022-11-13T13:38:59.285Z"
   },
   {
    "duration": 5,
    "start_time": "2022-11-13T13:40:13.833Z"
   },
   {
    "duration": 149,
    "start_time": "2022-11-13T13:40:16.848Z"
   },
   {
    "duration": 9,
    "start_time": "2022-11-13T13:40:26.851Z"
   },
   {
    "duration": 27,
    "start_time": "2022-11-13T13:40:59.661Z"
   },
   {
    "duration": 25,
    "start_time": "2022-11-13T13:41:25.881Z"
   },
   {
    "duration": 164,
    "start_time": "2022-11-13T13:41:28.375Z"
   },
   {
    "duration": 179,
    "start_time": "2022-11-13T13:41:37.343Z"
   },
   {
    "duration": 237,
    "start_time": "2022-11-13T13:42:04.823Z"
   },
   {
    "duration": 263,
    "start_time": "2022-11-13T13:42:41.539Z"
   },
   {
    "duration": 43,
    "start_time": "2022-11-13T13:44:46.033Z"
   },
   {
    "duration": 76,
    "start_time": "2022-11-13T13:44:59.889Z"
   },
   {
    "duration": 47,
    "start_time": "2022-11-13T13:45:18.038Z"
   },
   {
    "duration": 55,
    "start_time": "2022-11-13T13:45:34.532Z"
   },
   {
    "duration": 162,
    "start_time": "2022-11-13T13:45:55.205Z"
   },
   {
    "duration": 381,
    "start_time": "2022-11-13T13:46:05.936Z"
   },
   {
    "duration": 244,
    "start_time": "2022-11-13T13:46:33.317Z"
   },
   {
    "duration": 580,
    "start_time": "2022-11-13T13:46:48.522Z"
   },
   {
    "duration": 5,
    "start_time": "2022-11-13T13:47:14.379Z"
   },
   {
    "duration": 61,
    "start_time": "2022-11-13T13:47:14.385Z"
   },
   {
    "duration": 15,
    "start_time": "2022-11-13T13:47:14.448Z"
   },
   {
    "duration": 5,
    "start_time": "2022-11-13T13:47:14.466Z"
   },
   {
    "duration": 16,
    "start_time": "2022-11-13T13:47:14.473Z"
   },
   {
    "duration": 268,
    "start_time": "2022-11-13T13:47:14.491Z"
   },
   {
    "duration": 10,
    "start_time": "2022-11-13T13:47:14.762Z"
   },
   {
    "duration": 1068,
    "start_time": "2022-11-13T13:47:14.774Z"
   },
   {
    "duration": 519,
    "start_time": "2022-11-13T13:47:15.845Z"
   },
   {
    "duration": 15,
    "start_time": "2022-11-13T13:47:16.366Z"
   },
   {
    "duration": 19,
    "start_time": "2022-11-13T13:47:16.383Z"
   },
   {
    "duration": 15,
    "start_time": "2022-11-13T13:47:16.404Z"
   },
   {
    "duration": 827,
    "start_time": "2022-11-13T13:47:16.446Z"
   },
   {
    "duration": 21,
    "start_time": "2022-11-13T13:47:17.275Z"
   },
   {
    "duration": 11,
    "start_time": "2022-11-13T13:47:17.298Z"
   },
   {
    "duration": 42,
    "start_time": "2022-11-13T13:47:17.311Z"
   },
   {
    "duration": 14,
    "start_time": "2022-11-13T13:47:17.355Z"
   },
   {
    "duration": 8,
    "start_time": "2022-11-13T13:47:17.370Z"
   },
   {
    "duration": 819,
    "start_time": "2022-11-13T13:47:17.380Z"
   },
   {
    "duration": 180,
    "start_time": "2022-11-13T13:47:18.201Z"
   },
   {
    "duration": 29606,
    "start_time": "2022-11-13T13:47:18.383Z"
   },
   {
    "duration": 428,
    "start_time": "2022-11-13T13:47:47.990Z"
   },
   {
    "duration": 661,
    "start_time": "2022-11-13T13:47:48.420Z"
   },
   {
    "duration": 25,
    "start_time": "2022-11-13T13:47:49.087Z"
   },
   {
    "duration": 353,
    "start_time": "2022-11-13T13:47:49.114Z"
   },
   {
    "duration": 56,
    "start_time": "2022-11-13T13:47:49.469Z"
   },
   {
    "duration": 0,
    "start_time": "2022-11-13T13:47:49.527Z"
   },
   {
    "duration": 0,
    "start_time": "2022-11-13T13:47:49.529Z"
   },
   {
    "duration": 0,
    "start_time": "2022-11-13T13:47:49.530Z"
   },
   {
    "duration": 0,
    "start_time": "2022-11-13T13:47:49.532Z"
   },
   {
    "duration": 0,
    "start_time": "2022-11-13T13:47:49.533Z"
   },
   {
    "duration": 0,
    "start_time": "2022-11-13T13:47:49.535Z"
   },
   {
    "duration": 0,
    "start_time": "2022-11-13T13:47:49.536Z"
   },
   {
    "duration": 0,
    "start_time": "2022-11-13T13:47:49.537Z"
   },
   {
    "duration": 0,
    "start_time": "2022-11-13T13:47:49.538Z"
   },
   {
    "duration": 0,
    "start_time": "2022-11-13T13:47:49.539Z"
   },
   {
    "duration": 0,
    "start_time": "2022-11-13T13:47:49.540Z"
   },
   {
    "duration": 1,
    "start_time": "2022-11-13T13:47:49.541Z"
   },
   {
    "duration": 0,
    "start_time": "2022-11-13T13:47:49.543Z"
   },
   {
    "duration": 0,
    "start_time": "2022-11-13T13:47:49.544Z"
   },
   {
    "duration": 0,
    "start_time": "2022-11-13T13:47:49.545Z"
   },
   {
    "duration": 0,
    "start_time": "2022-11-13T13:47:49.546Z"
   },
   {
    "duration": 0,
    "start_time": "2022-11-13T13:47:49.547Z"
   },
   {
    "duration": 0,
    "start_time": "2022-11-13T13:47:49.548Z"
   },
   {
    "duration": 0,
    "start_time": "2022-11-13T13:47:49.549Z"
   },
   {
    "duration": 0,
    "start_time": "2022-11-13T13:47:49.550Z"
   },
   {
    "duration": 0,
    "start_time": "2022-11-13T13:47:49.552Z"
   },
   {
    "duration": 0,
    "start_time": "2022-11-13T13:47:49.553Z"
   },
   {
    "duration": 0,
    "start_time": "2022-11-13T13:47:49.554Z"
   },
   {
    "duration": 0,
    "start_time": "2022-11-13T13:47:49.555Z"
   },
   {
    "duration": 0,
    "start_time": "2022-11-13T13:47:49.557Z"
   },
   {
    "duration": 0,
    "start_time": "2022-11-13T13:47:49.558Z"
   },
   {
    "duration": 0,
    "start_time": "2022-11-13T13:47:49.560Z"
   },
   {
    "duration": 0,
    "start_time": "2022-11-13T13:47:49.561Z"
   },
   {
    "duration": 0,
    "start_time": "2022-11-13T13:47:49.563Z"
   },
   {
    "duration": 0,
    "start_time": "2022-11-13T13:47:49.564Z"
   },
   {
    "duration": 0,
    "start_time": "2022-11-13T13:47:49.565Z"
   },
   {
    "duration": 0,
    "start_time": "2022-11-13T13:47:49.566Z"
   },
   {
    "duration": 552,
    "start_time": "2022-11-13T13:49:34.963Z"
   },
   {
    "duration": 17,
    "start_time": "2022-11-13T13:49:41.541Z"
   },
   {
    "duration": 42,
    "start_time": "2022-11-13T13:51:28.722Z"
   },
   {
    "duration": 20,
    "start_time": "2022-11-13T13:51:32.053Z"
   },
   {
    "duration": 319,
    "start_time": "2022-11-13T13:51:33.548Z"
   },
   {
    "duration": 316,
    "start_time": "2022-11-13T13:52:57.751Z"
   },
   {
    "duration": 173,
    "start_time": "2022-11-13T13:53:46.092Z"
   },
   {
    "duration": 169,
    "start_time": "2022-11-13T13:54:04.289Z"
   },
   {
    "duration": 593,
    "start_time": "2022-11-13T13:54:18.445Z"
   },
   {
    "duration": 388,
    "start_time": "2022-11-13T13:54:26.197Z"
   },
   {
    "duration": 169,
    "start_time": "2022-11-13T13:57:09.624Z"
   },
   {
    "duration": 430,
    "start_time": "2022-11-13T13:57:18.202Z"
   },
   {
    "duration": 523,
    "start_time": "2022-11-13T13:57:27.553Z"
   },
   {
    "duration": 527,
    "start_time": "2022-11-13T13:57:39.748Z"
   },
   {
    "duration": 482,
    "start_time": "2022-11-13T13:57:47.690Z"
   },
   {
    "duration": 4,
    "start_time": "2022-11-13T13:58:58.589Z"
   },
   {
    "duration": 173,
    "start_time": "2022-11-13T13:59:02.054Z"
   },
   {
    "duration": 433,
    "start_time": "2022-11-13T13:59:07.400Z"
   },
   {
    "duration": 413,
    "start_time": "2022-11-13T13:59:14.719Z"
   },
   {
    "duration": 824,
    "start_time": "2022-11-13T13:59:23.355Z"
   },
   {
    "duration": 320,
    "start_time": "2022-11-13T14:01:13.816Z"
   },
   {
    "duration": 90,
    "start_time": "2022-11-13T14:01:19.863Z"
   },
   {
    "duration": 172,
    "start_time": "2022-11-13T14:01:21.958Z"
   },
   {
    "duration": 397,
    "start_time": "2022-11-13T14:01:37.977Z"
   },
   {
    "duration": 340,
    "start_time": "2022-11-13T14:01:52.117Z"
   },
   {
    "duration": 325,
    "start_time": "2022-11-13T14:02:15.159Z"
   },
   {
    "duration": 168,
    "start_time": "2022-11-13T14:02:25.095Z"
   },
   {
    "duration": 140,
    "start_time": "2022-11-13T14:02:28.822Z"
   },
   {
    "duration": 410,
    "start_time": "2022-11-13T14:02:45.582Z"
   },
   {
    "duration": 189,
    "start_time": "2022-11-13T14:03:04.975Z"
   },
   {
    "duration": 7,
    "start_time": "2022-11-13T14:04:21.826Z"
   },
   {
    "duration": 260,
    "start_time": "2022-11-13T14:04:24.501Z"
   },
   {
    "duration": 230,
    "start_time": "2022-11-13T14:04:49.982Z"
   },
   {
    "duration": 244,
    "start_time": "2022-11-13T14:05:04.810Z"
   },
   {
    "duration": 293,
    "start_time": "2022-11-13T14:05:14.593Z"
   },
   {
    "duration": 676,
    "start_time": "2022-11-13T14:05:18.650Z"
   },
   {
    "duration": 483,
    "start_time": "2022-11-13T14:05:26.200Z"
   },
   {
    "duration": 218,
    "start_time": "2022-11-13T14:06:08.249Z"
   },
   {
    "duration": 477,
    "start_time": "2022-11-13T14:06:17.877Z"
   },
   {
    "duration": 502,
    "start_time": "2022-11-13T14:06:27.929Z"
   },
   {
    "duration": 303,
    "start_time": "2022-11-13T14:09:18.646Z"
   },
   {
    "duration": 587,
    "start_time": "2022-11-13T14:09:30.398Z"
   },
   {
    "duration": 494,
    "start_time": "2022-11-13T14:10:26.377Z"
   },
   {
    "duration": 5,
    "start_time": "2022-11-13T14:10:39.266Z"
   },
   {
    "duration": 58,
    "start_time": "2022-11-13T14:10:39.273Z"
   },
   {
    "duration": 13,
    "start_time": "2022-11-13T14:10:39.332Z"
   },
   {
    "duration": 5,
    "start_time": "2022-11-13T14:10:39.347Z"
   },
   {
    "duration": 16,
    "start_time": "2022-11-13T14:10:39.354Z"
   },
   {
    "duration": 179,
    "start_time": "2022-11-13T14:10:39.372Z"
   },
   {
    "duration": 7,
    "start_time": "2022-11-13T14:10:39.552Z"
   },
   {
    "duration": 779,
    "start_time": "2022-11-13T14:10:39.561Z"
   },
   {
    "duration": 467,
    "start_time": "2022-11-13T14:10:40.343Z"
   },
   {
    "duration": 15,
    "start_time": "2022-11-13T14:10:40.812Z"
   },
   {
    "duration": 27,
    "start_time": "2022-11-13T14:10:40.829Z"
   },
   {
    "duration": 15,
    "start_time": "2022-11-13T14:10:40.858Z"
   },
   {
    "duration": 765,
    "start_time": "2022-11-13T14:10:40.875Z"
   },
   {
    "duration": 22,
    "start_time": "2022-11-13T14:10:41.642Z"
   },
   {
    "duration": 11,
    "start_time": "2022-11-13T14:10:41.665Z"
   },
   {
    "duration": 23,
    "start_time": "2022-11-13T14:10:41.678Z"
   },
   {
    "duration": 11,
    "start_time": "2022-11-13T14:10:41.702Z"
   },
   {
    "duration": 34,
    "start_time": "2022-11-13T14:10:41.715Z"
   },
   {
    "duration": 766,
    "start_time": "2022-11-13T14:10:41.751Z"
   },
   {
    "duration": 172,
    "start_time": "2022-11-13T14:10:42.519Z"
   },
   {
    "duration": 28688,
    "start_time": "2022-11-13T14:10:42.692Z"
   },
   {
    "duration": 426,
    "start_time": "2022-11-13T14:11:11.382Z"
   },
   {
    "duration": 876,
    "start_time": "2022-11-13T14:11:11.810Z"
   },
   {
    "duration": 399,
    "start_time": "2022-11-13T14:11:12.689Z"
   },
   {
    "duration": 174,
    "start_time": "2022-11-13T14:11:13.090Z"
   },
   {
    "duration": 434,
    "start_time": "2022-11-13T14:11:13.266Z"
   },
   {
    "duration": 4,
    "start_time": "2022-11-13T14:11:13.702Z"
   },
   {
    "duration": 13,
    "start_time": "2022-11-13T14:11:13.708Z"
   },
   {
    "duration": 26,
    "start_time": "2022-11-13T14:11:13.722Z"
   },
   {
    "duration": 950,
    "start_time": "2022-11-13T14:11:13.749Z"
   },
   {
    "duration": 177,
    "start_time": "2022-11-13T14:11:14.701Z"
   },
   {
    "duration": 39167,
    "start_time": "2022-11-13T14:11:14.880Z"
   },
   {
    "duration": 814,
    "start_time": "2022-11-13T14:11:54.049Z"
   },
   {
    "duration": 1498,
    "start_time": "2022-11-13T14:11:54.865Z"
   },
   {
    "duration": 6,
    "start_time": "2022-11-13T14:11:56.365Z"
   },
   {
    "duration": 24,
    "start_time": "2022-11-13T14:11:56.373Z"
   },
   {
    "duration": 7,
    "start_time": "2022-11-13T14:11:56.399Z"
   },
   {
    "duration": 392,
    "start_time": "2022-11-13T14:11:56.407Z"
   },
   {
    "duration": 166,
    "start_time": "2022-11-13T14:11:56.801Z"
   },
   {
    "duration": 16645,
    "start_time": "2022-11-13T14:11:56.969Z"
   },
   {
    "duration": 202,
    "start_time": "2022-11-13T14:12:13.615Z"
   },
   {
    "duration": 463,
    "start_time": "2022-11-13T14:12:13.819Z"
   },
   {
    "duration": 64,
    "start_time": "2022-11-13T14:12:14.284Z"
   },
   {
    "duration": 378,
    "start_time": "2022-11-13T14:12:14.351Z"
   },
   {
    "duration": 322,
    "start_time": "2022-11-13T14:12:14.731Z"
   },
   {
    "duration": 752,
    "start_time": "2022-11-13T14:12:15.055Z"
   },
   {
    "duration": 740,
    "start_time": "2022-11-13T14:13:23.480Z"
   },
   {
    "duration": 165,
    "start_time": "2022-11-13T14:13:25.914Z"
   },
   {
    "duration": 171,
    "start_time": "2022-11-13T14:15:31.579Z"
   },
   {
    "duration": 228,
    "start_time": "2022-11-13T14:15:42.677Z"
   },
   {
    "duration": 330,
    "start_time": "2022-11-13T14:15:48.348Z"
   },
   {
    "duration": 167,
    "start_time": "2022-11-13T14:18:50.032Z"
   },
   {
    "duration": 311,
    "start_time": "2022-11-13T14:18:56.069Z"
   },
   {
    "duration": 319,
    "start_time": "2022-11-13T14:18:57.653Z"
   },
   {
    "duration": 6,
    "start_time": "2022-11-13T14:19:04.475Z"
   },
   {
    "duration": 963,
    "start_time": "2022-11-13T14:19:12.786Z"
   },
   {
    "duration": 205,
    "start_time": "2022-11-13T14:19:48.396Z"
   },
   {
    "duration": 224,
    "start_time": "2022-11-13T14:20:01.826Z"
   },
   {
    "duration": 263,
    "start_time": "2022-11-13T14:20:08.012Z"
   },
   {
    "duration": 4,
    "start_time": "2022-11-13T14:21:09.110Z"
   },
   {
    "duration": 54,
    "start_time": "2022-11-13T14:21:09.116Z"
   },
   {
    "duration": 11,
    "start_time": "2022-11-13T14:21:09.172Z"
   },
   {
    "duration": 6,
    "start_time": "2022-11-13T14:21:09.185Z"
   },
   {
    "duration": 11,
    "start_time": "2022-11-13T14:21:09.194Z"
   },
   {
    "duration": 355,
    "start_time": "2022-11-13T14:21:09.207Z"
   },
   {
    "duration": 7,
    "start_time": "2022-11-13T14:21:09.564Z"
   },
   {
    "duration": 766,
    "start_time": "2022-11-13T14:21:09.572Z"
   },
   {
    "duration": 446,
    "start_time": "2022-11-13T14:21:10.345Z"
   },
   {
    "duration": 14,
    "start_time": "2022-11-13T14:21:10.793Z"
   },
   {
    "duration": 13,
    "start_time": "2022-11-13T14:21:10.809Z"
   },
   {
    "duration": 27,
    "start_time": "2022-11-13T14:21:10.824Z"
   },
   {
    "duration": 796,
    "start_time": "2022-11-13T14:21:10.853Z"
   },
   {
    "duration": 20,
    "start_time": "2022-11-13T14:21:11.650Z"
   },
   {
    "duration": 12,
    "start_time": "2022-11-13T14:21:11.671Z"
   },
   {
    "duration": 20,
    "start_time": "2022-11-13T14:21:11.685Z"
   },
   {
    "duration": 12,
    "start_time": "2022-11-13T14:21:11.707Z"
   },
   {
    "duration": 28,
    "start_time": "2022-11-13T14:21:11.720Z"
   },
   {
    "duration": 792,
    "start_time": "2022-11-13T14:21:11.750Z"
   },
   {
    "duration": 160,
    "start_time": "2022-11-13T14:21:12.544Z"
   },
   {
    "duration": 28289,
    "start_time": "2022-11-13T14:21:12.706Z"
   },
   {
    "duration": 428,
    "start_time": "2022-11-13T14:21:40.996Z"
   },
   {
    "duration": 579,
    "start_time": "2022-11-13T14:21:41.426Z"
   },
   {
    "duration": 186,
    "start_time": "2022-11-13T14:21:42.007Z"
   },
   {
    "duration": 421,
    "start_time": "2022-11-13T14:21:42.194Z"
   },
   {
    "duration": 348,
    "start_time": "2022-11-13T14:21:42.616Z"
   },
   {
    "duration": 6,
    "start_time": "2022-11-13T14:21:42.965Z"
   },
   {
    "duration": 14,
    "start_time": "2022-11-13T14:21:42.972Z"
   },
   {
    "duration": 5,
    "start_time": "2022-11-13T14:21:42.990Z"
   },
   {
    "duration": 973,
    "start_time": "2022-11-13T14:21:42.997Z"
   },
   {
    "duration": 218,
    "start_time": "2022-11-13T14:21:43.971Z"
   },
   {
    "duration": 38373,
    "start_time": "2022-11-13T14:21:44.191Z"
   },
   {
    "duration": 712,
    "start_time": "2022-11-13T14:22:22.565Z"
   },
   {
    "duration": 602,
    "start_time": "2022-11-13T14:22:23.279Z"
   },
   {
    "duration": 4,
    "start_time": "2022-11-13T14:22:23.882Z"
   },
   {
    "duration": 16,
    "start_time": "2022-11-13T14:22:23.888Z"
   },
   {
    "duration": 3,
    "start_time": "2022-11-13T14:22:23.906Z"
   },
   {
    "duration": 377,
    "start_time": "2022-11-13T14:22:23.910Z"
   },
   {
    "duration": 360,
    "start_time": "2022-11-13T14:22:24.289Z"
   },
   {
    "duration": 16098,
    "start_time": "2022-11-13T14:22:24.651Z"
   },
   {
    "duration": 194,
    "start_time": "2022-11-13T14:22:40.751Z"
   },
   {
    "duration": 439,
    "start_time": "2022-11-13T14:22:40.947Z"
   },
   {
    "duration": 216,
    "start_time": "2022-11-13T14:22:41.388Z"
   },
   {
    "duration": 281,
    "start_time": "2022-11-13T14:22:41.605Z"
   },
   {
    "duration": 592,
    "start_time": "2022-11-13T14:22:41.888Z"
   },
   {
    "duration": 203,
    "start_time": "2022-11-13T14:26:51.086Z"
   },
   {
    "duration": 205,
    "start_time": "2022-11-13T14:27:22.912Z"
   },
   {
    "duration": 262,
    "start_time": "2022-11-13T14:27:53.908Z"
   },
   {
    "duration": 267,
    "start_time": "2022-11-13T14:27:58.847Z"
   },
   {
    "duration": 39461,
    "start_time": "2022-11-13T14:31:20.117Z"
   },
   {
    "duration": 701,
    "start_time": "2022-11-13T14:32:06.897Z"
   },
   {
    "duration": 12,
    "start_time": "2022-11-13T14:37:19.910Z"
   },
   {
    "duration": 12,
    "start_time": "2022-11-13T14:37:52.219Z"
   },
   {
    "duration": 18,
    "start_time": "2022-11-13T14:39:13.140Z"
   },
   {
    "duration": 18,
    "start_time": "2022-11-13T14:41:11.413Z"
   },
   {
    "duration": 2,
    "start_time": "2022-11-13T14:41:17.821Z"
   },
   {
    "duration": 12,
    "start_time": "2022-11-13T14:42:19.329Z"
   },
   {
    "duration": 11,
    "start_time": "2022-11-13T14:42:25.602Z"
   },
   {
    "duration": 17,
    "start_time": "2022-11-13T14:42:39.534Z"
   },
   {
    "duration": 6,
    "start_time": "2022-11-13T14:43:24.397Z"
   },
   {
    "duration": 8,
    "start_time": "2022-11-13T14:43:41.483Z"
   },
   {
    "duration": 9,
    "start_time": "2022-11-13T14:44:13.692Z"
   },
   {
    "duration": 13,
    "start_time": "2022-11-13T14:45:36.520Z"
   },
   {
    "duration": 12,
    "start_time": "2022-11-13T14:45:47.436Z"
   },
   {
    "duration": 14,
    "start_time": "2022-11-13T14:46:15.098Z"
   },
   {
    "duration": 10,
    "start_time": "2022-11-13T14:46:21.004Z"
   },
   {
    "duration": 10,
    "start_time": "2022-11-13T14:46:28.088Z"
   },
   {
    "duration": 15,
    "start_time": "2022-11-13T14:46:32.936Z"
   },
   {
    "duration": 3,
    "start_time": "2022-11-13T14:46:44.658Z"
   },
   {
    "duration": 924,
    "start_time": "2022-11-13T14:48:31.893Z"
   },
   {
    "duration": 10,
    "start_time": "2022-11-13T14:49:39.519Z"
   },
   {
    "duration": 983,
    "start_time": "2022-11-13T14:49:42.076Z"
   },
   {
    "duration": 950,
    "start_time": "2022-11-13T14:49:46.335Z"
   },
   {
    "duration": 873,
    "start_time": "2022-11-13T14:50:20.408Z"
   },
   {
    "duration": 39686,
    "start_time": "2022-11-13T14:50:56.530Z"
   },
   {
    "duration": 861,
    "start_time": "2022-11-13T14:51:39.476Z"
   },
   {
    "duration": 9,
    "start_time": "2022-11-13T14:54:15.958Z"
   },
   {
    "duration": 10,
    "start_time": "2022-11-13T14:54:21.499Z"
   },
   {
    "duration": 39566,
    "start_time": "2022-11-13T14:54:23.663Z"
   },
   {
    "duration": 863,
    "start_time": "2022-11-13T14:55:03.231Z"
   },
   {
    "duration": 37140,
    "start_time": "2022-11-13T14:56:49.487Z"
   },
   {
    "duration": 511,
    "start_time": "2022-11-13T14:57:51.561Z"
   },
   {
    "duration": 495,
    "start_time": "2022-11-13T14:58:13.985Z"
   },
   {
    "duration": 501,
    "start_time": "2022-11-13T14:59:27.245Z"
   },
   {
    "duration": 488,
    "start_time": "2022-11-13T14:59:47.094Z"
   },
   {
    "duration": 38447,
    "start_time": "2022-11-13T15:00:01.039Z"
   },
   {
    "duration": 397,
    "start_time": "2022-11-13T15:00:41.595Z"
   },
   {
    "duration": 380,
    "start_time": "2022-11-13T15:02:45.550Z"
   },
   {
    "duration": 48198,
    "start_time": "2022-11-13T15:03:30.584Z"
   },
   {
    "duration": 306,
    "start_time": "2022-11-13T15:04:18.784Z"
   },
   {
    "duration": 10,
    "start_time": "2022-11-13T15:04:34.527Z"
   },
   {
    "duration": 321,
    "start_time": "2022-11-13T15:07:28.358Z"
   },
   {
    "duration": 944,
    "start_time": "2022-11-13T15:07:36.121Z"
   },
   {
    "duration": 40738,
    "start_time": "2022-11-13T15:07:43.436Z"
   },
   {
    "duration": 824,
    "start_time": "2022-11-13T15:08:29.025Z"
   },
   {
    "duration": 28166,
    "start_time": "2022-11-13T15:08:52.426Z"
   },
   {
    "duration": 642,
    "start_time": "2022-11-13T15:09:24.750Z"
   },
   {
    "duration": 39386,
    "start_time": "2022-11-13T15:12:56.478Z"
   },
   {
    "duration": 698,
    "start_time": "2022-11-13T15:13:37.866Z"
   },
   {
    "duration": 875,
    "start_time": "2022-11-13T15:14:01.692Z"
   },
   {
    "duration": 654,
    "start_time": "2022-11-13T15:14:42.530Z"
   },
   {
    "duration": 25,
    "start_time": "2022-11-13T15:15:19.957Z"
   },
   {
    "duration": 12,
    "start_time": "2022-11-13T15:15:23.162Z"
   },
   {
    "duration": 14,
    "start_time": "2022-11-13T15:15:26.932Z"
   },
   {
    "duration": 12,
    "start_time": "2022-11-13T15:15:29.969Z"
   },
   {
    "duration": 13,
    "start_time": "2022-11-13T15:15:36.481Z"
   },
   {
    "duration": 20,
    "start_time": "2022-11-13T15:15:43.333Z"
   },
   {
    "duration": 16,
    "start_time": "2022-11-13T15:15:50.029Z"
   },
   {
    "duration": 6,
    "start_time": "2022-11-13T15:16:07.989Z"
   },
   {
    "duration": 5,
    "start_time": "2022-11-13T15:16:23.395Z"
   },
   {
    "duration": 6,
    "start_time": "2022-11-13T15:17:03.262Z"
   },
   {
    "duration": 14,
    "start_time": "2022-11-13T15:17:54.913Z"
   },
   {
    "duration": 11,
    "start_time": "2022-11-13T15:24:00.464Z"
   },
   {
    "duration": 18,
    "start_time": "2022-11-13T15:24:20.444Z"
   },
   {
    "duration": 11,
    "start_time": "2022-11-13T15:24:26.370Z"
   },
   {
    "duration": 10,
    "start_time": "2022-11-13T15:24:52.276Z"
   },
   {
    "duration": 60,
    "start_time": "2022-11-13T15:27:21.899Z"
   },
   {
    "duration": 49702,
    "start_time": "2022-11-13T15:27:29.115Z"
   },
   {
    "duration": 685,
    "start_time": "2022-11-13T15:29:44.644Z"
   },
   {
    "duration": 4,
    "start_time": "2022-11-13T15:30:08.072Z"
   },
   {
    "duration": 60,
    "start_time": "2022-11-13T15:30:08.078Z"
   },
   {
    "duration": 19,
    "start_time": "2022-11-13T15:30:08.140Z"
   },
   {
    "duration": 15,
    "start_time": "2022-11-13T15:30:08.161Z"
   },
   {
    "duration": 34,
    "start_time": "2022-11-13T15:30:08.178Z"
   },
   {
    "duration": 197,
    "start_time": "2022-11-13T15:30:08.214Z"
   },
   {
    "duration": 8,
    "start_time": "2022-11-13T15:30:08.414Z"
   },
   {
    "duration": 873,
    "start_time": "2022-11-13T15:30:08.425Z"
   },
   {
    "duration": 531,
    "start_time": "2022-11-13T15:30:09.300Z"
   },
   {
    "duration": 17,
    "start_time": "2022-11-13T15:30:09.834Z"
   },
   {
    "duration": 37,
    "start_time": "2022-11-13T15:30:09.858Z"
   },
   {
    "duration": 18,
    "start_time": "2022-11-13T15:30:09.898Z"
   },
   {
    "duration": 841,
    "start_time": "2022-11-13T15:30:09.918Z"
   },
   {
    "duration": 19,
    "start_time": "2022-11-13T15:30:10.761Z"
   },
   {
    "duration": 11,
    "start_time": "2022-11-13T15:30:10.781Z"
   },
   {
    "duration": 20,
    "start_time": "2022-11-13T15:30:10.794Z"
   },
   {
    "duration": 46,
    "start_time": "2022-11-13T15:30:10.815Z"
   },
   {
    "duration": 6,
    "start_time": "2022-11-13T15:30:10.862Z"
   },
   {
    "duration": 780,
    "start_time": "2022-11-13T15:30:10.869Z"
   },
   {
    "duration": 182,
    "start_time": "2022-11-13T15:30:11.654Z"
   },
   {
    "duration": 30029,
    "start_time": "2022-11-13T15:30:11.838Z"
   },
   {
    "duration": 442,
    "start_time": "2022-11-13T15:30:41.869Z"
   },
   {
    "duration": 562,
    "start_time": "2022-11-13T15:30:42.312Z"
   },
   {
    "duration": 352,
    "start_time": "2022-11-13T15:30:42.876Z"
   },
   {
    "duration": 472,
    "start_time": "2022-11-13T15:30:43.230Z"
   },
   {
    "duration": 378,
    "start_time": "2022-11-13T15:30:43.704Z"
   },
   {
    "duration": 4,
    "start_time": "2022-11-13T15:30:44.084Z"
   },
   {
    "duration": 36,
    "start_time": "2022-11-13T15:30:44.091Z"
   },
   {
    "duration": 4,
    "start_time": "2022-11-13T15:30:44.129Z"
   },
   {
    "duration": 1001,
    "start_time": "2022-11-13T15:30:44.134Z"
   },
   {
    "duration": 181,
    "start_time": "2022-11-13T15:30:45.137Z"
   },
   {
    "duration": 40398,
    "start_time": "2022-11-13T15:30:45.319Z"
   },
   {
    "duration": 754,
    "start_time": "2022-11-13T15:31:25.719Z"
   },
   {
    "duration": 1017,
    "start_time": "2022-11-13T15:31:26.475Z"
   },
   {
    "duration": 5,
    "start_time": "2022-11-13T15:31:27.494Z"
   },
   {
    "duration": 11,
    "start_time": "2022-11-13T15:31:27.500Z"
   },
   {
    "duration": 3,
    "start_time": "2022-11-13T15:31:27.513Z"
   },
   {
    "duration": 396,
    "start_time": "2022-11-13T15:31:27.518Z"
   },
   {
    "duration": 170,
    "start_time": "2022-11-13T15:31:27.916Z"
   },
   {
    "duration": 17597,
    "start_time": "2022-11-13T15:31:28.088Z"
   },
   {
    "duration": 217,
    "start_time": "2022-11-13T15:31:45.687Z"
   },
   {
    "duration": 784,
    "start_time": "2022-11-13T15:31:45.906Z"
   },
   {
    "duration": 223,
    "start_time": "2022-11-13T15:31:46.692Z"
   },
   {
    "duration": 317,
    "start_time": "2022-11-13T15:31:46.916Z"
   },
   {
    "duration": 968,
    "start_time": "2022-11-13T15:31:47.235Z"
   },
   {
    "duration": 40450,
    "start_time": "2022-11-13T15:31:48.205Z"
   },
   {
    "duration": 823,
    "start_time": "2022-11-13T15:32:28.657Z"
   },
   {
    "duration": 2,
    "start_time": "2022-11-13T15:32:29.482Z"
   },
   {
    "duration": 17,
    "start_time": "2022-11-13T15:32:29.486Z"
   },
   {
    "duration": 2,
    "start_time": "2022-11-13T15:32:29.505Z"
   },
   {
    "duration": 49847,
    "start_time": "2022-11-13T15:32:29.509Z"
   },
   {
    "duration": 3,
    "start_time": "2022-11-13T15:33:19.358Z"
   },
   {
    "duration": 665,
    "start_time": "2022-11-13T15:33:19.362Z"
   },
   {
    "duration": 3,
    "start_time": "2022-11-13T15:34:44.834Z"
   },
   {
    "duration": 13,
    "start_time": "2022-11-13T15:40:23.655Z"
   },
   {
    "duration": 29383,
    "start_time": "2022-11-13T15:40:48.167Z"
   },
   {
    "duration": 439,
    "start_time": "2022-11-13T15:41:29.163Z"
   },
   {
    "duration": 487,
    "start_time": "2022-11-13T15:42:18.010Z"
   },
   {
    "duration": 39733,
    "start_time": "2022-11-13T15:43:39.998Z"
   },
   {
    "duration": 738,
    "start_time": "2022-11-13T15:44:23.313Z"
   },
   {
    "duration": 777,
    "start_time": "2022-11-13T15:46:28.734Z"
   },
   {
    "duration": 756,
    "start_time": "2022-11-13T15:47:11.056Z"
   },
   {
    "duration": 784,
    "start_time": "2022-11-13T15:47:37.715Z"
   },
   {
    "duration": 914,
    "start_time": "2022-11-13T15:47:51.062Z"
   },
   {
    "duration": 45,
    "start_time": "2022-11-13T15:50:15.777Z"
   },
   {
    "duration": 47,
    "start_time": "2022-11-13T15:50:22.187Z"
   },
   {
    "duration": 13,
    "start_time": "2022-11-13T15:51:08.881Z"
   },
   {
    "duration": 12,
    "start_time": "2022-11-13T15:51:14.802Z"
   },
   {
    "duration": 8,
    "start_time": "2022-11-13T15:51:39.696Z"
   },
   {
    "duration": 16,
    "start_time": "2022-11-13T15:51:43.820Z"
   },
   {
    "duration": 690,
    "start_time": "2022-11-13T15:51:48.098Z"
   },
   {
    "duration": 683,
    "start_time": "2022-11-13T15:51:59.544Z"
   },
   {
    "duration": 667,
    "start_time": "2022-11-13T15:52:08.863Z"
   },
   {
    "duration": 725,
    "start_time": "2022-11-13T15:52:22.684Z"
   },
   {
    "duration": 540,
    "start_time": "2022-11-13T15:53:15.122Z"
   },
   {
    "duration": 499,
    "start_time": "2022-11-13T15:53:20.061Z"
   },
   {
    "duration": 621,
    "start_time": "2022-11-13T15:53:24.192Z"
   },
   {
    "duration": 1024,
    "start_time": "2022-11-13T15:53:37.378Z"
   },
   {
    "duration": 8,
    "start_time": "2022-11-13T15:54:18.860Z"
   },
   {
    "duration": 8,
    "start_time": "2022-11-13T15:54:28.563Z"
   },
   {
    "duration": 8,
    "start_time": "2022-11-13T15:54:34.672Z"
   },
   {
    "duration": 8,
    "start_time": "2022-11-13T15:54:38.089Z"
   },
   {
    "duration": 29,
    "start_time": "2022-11-13T15:54:46.278Z"
   },
   {
    "duration": 740,
    "start_time": "2022-11-13T15:55:00.662Z"
   },
   {
    "duration": 178,
    "start_time": "2022-11-13T15:55:09.266Z"
   },
   {
    "duration": 1591,
    "start_time": "2022-11-13T15:55:50.094Z"
   },
   {
    "duration": 55,
    "start_time": "2022-11-13T15:55:51.687Z"
   },
   {
    "duration": 27,
    "start_time": "2022-11-13T15:55:51.744Z"
   },
   {
    "duration": 13,
    "start_time": "2022-11-13T15:55:51.775Z"
   },
   {
    "duration": 28,
    "start_time": "2022-11-13T15:55:51.790Z"
   },
   {
    "duration": 262,
    "start_time": "2022-11-13T15:55:51.821Z"
   },
   {
    "duration": 11,
    "start_time": "2022-11-13T15:55:52.085Z"
   },
   {
    "duration": 906,
    "start_time": "2022-11-13T15:55:52.098Z"
   },
   {
    "duration": 706,
    "start_time": "2022-11-13T15:55:53.008Z"
   },
   {
    "duration": 80,
    "start_time": "2022-11-13T15:55:53.718Z"
   },
   {
    "duration": 21,
    "start_time": "2022-11-13T15:55:53.801Z"
   },
   {
    "duration": 44,
    "start_time": "2022-11-13T15:55:53.824Z"
   },
   {
    "duration": 911,
    "start_time": "2022-11-13T15:55:53.871Z"
   },
   {
    "duration": 29,
    "start_time": "2022-11-13T15:55:54.784Z"
   },
   {
    "duration": 35,
    "start_time": "2022-11-13T15:55:54.816Z"
   },
   {
    "duration": 59,
    "start_time": "2022-11-13T15:55:54.853Z"
   },
   {
    "duration": 6,
    "start_time": "2022-11-13T15:55:54.913Z"
   },
   {
    "duration": 872,
    "start_time": "2022-11-13T15:55:54.921Z"
   },
   {
    "duration": 206,
    "start_time": "2022-11-13T15:55:55.795Z"
   },
   {
    "duration": 29571,
    "start_time": "2022-11-13T15:55:56.003Z"
   },
   {
    "duration": 453,
    "start_time": "2022-11-13T15:56:25.576Z"
   },
   {
    "duration": 0,
    "start_time": "2022-11-13T15:56:26.032Z"
   },
   {
    "duration": 0,
    "start_time": "2022-11-13T15:56:26.034Z"
   },
   {
    "duration": 0,
    "start_time": "2022-11-13T15:56:26.036Z"
   },
   {
    "duration": 0,
    "start_time": "2022-11-13T15:56:26.053Z"
   },
   {
    "duration": 0,
    "start_time": "2022-11-13T15:56:26.053Z"
   },
   {
    "duration": 0,
    "start_time": "2022-11-13T15:56:26.055Z"
   },
   {
    "duration": 0,
    "start_time": "2022-11-13T15:56:26.057Z"
   },
   {
    "duration": 0,
    "start_time": "2022-11-13T15:56:26.058Z"
   },
   {
    "duration": 0,
    "start_time": "2022-11-13T15:56:26.061Z"
   },
   {
    "duration": 0,
    "start_time": "2022-11-13T15:56:26.064Z"
   },
   {
    "duration": 0,
    "start_time": "2022-11-13T15:56:26.065Z"
   },
   {
    "duration": 0,
    "start_time": "2022-11-13T15:56:26.066Z"
   },
   {
    "duration": 0,
    "start_time": "2022-11-13T15:56:26.067Z"
   },
   {
    "duration": 0,
    "start_time": "2022-11-13T15:56:26.069Z"
   },
   {
    "duration": 0,
    "start_time": "2022-11-13T15:56:26.069Z"
   },
   {
    "duration": 0,
    "start_time": "2022-11-13T15:56:26.073Z"
   },
   {
    "duration": 0,
    "start_time": "2022-11-13T15:56:26.075Z"
   },
   {
    "duration": 0,
    "start_time": "2022-11-13T15:56:26.076Z"
   },
   {
    "duration": 0,
    "start_time": "2022-11-13T15:56:26.077Z"
   },
   {
    "duration": 0,
    "start_time": "2022-11-13T15:56:26.078Z"
   },
   {
    "duration": 0,
    "start_time": "2022-11-13T15:56:26.079Z"
   },
   {
    "duration": 0,
    "start_time": "2022-11-13T15:56:26.080Z"
   },
   {
    "duration": 0,
    "start_time": "2022-11-13T15:56:26.081Z"
   },
   {
    "duration": 0,
    "start_time": "2022-11-13T15:56:26.082Z"
   },
   {
    "duration": 0,
    "start_time": "2022-11-13T15:56:26.083Z"
   },
   {
    "duration": 0,
    "start_time": "2022-11-13T15:56:26.085Z"
   },
   {
    "duration": 0,
    "start_time": "2022-11-13T15:56:26.086Z"
   },
   {
    "duration": 0,
    "start_time": "2022-11-13T15:56:26.088Z"
   },
   {
    "duration": 0,
    "start_time": "2022-11-13T15:56:26.090Z"
   },
   {
    "duration": 0,
    "start_time": "2022-11-13T15:56:26.091Z"
   },
   {
    "duration": 0,
    "start_time": "2022-11-13T15:56:26.092Z"
   },
   {
    "duration": 27,
    "start_time": "2022-11-13T15:59:07.968Z"
   },
   {
    "duration": 4,
    "start_time": "2022-11-13T15:59:11.579Z"
   },
   {
    "duration": 831,
    "start_time": "2022-11-13T15:59:14.029Z"
   },
   {
    "duration": 29835,
    "start_time": "2022-11-13T15:59:25.817Z"
   },
   {
    "duration": 282,
    "start_time": "2022-11-13T15:59:57.575Z"
   },
   {
    "duration": 479,
    "start_time": "2022-11-13T16:00:47.838Z"
   },
   {
    "duration": 651,
    "start_time": "2022-11-13T16:00:53.527Z"
   },
   {
    "duration": 187,
    "start_time": "2022-11-13T16:00:59.295Z"
   },
   {
    "duration": 549,
    "start_time": "2022-11-13T16:01:03.345Z"
   },
   {
    "duration": 310,
    "start_time": "2022-11-13T16:01:07.884Z"
   },
   {
    "duration": 5,
    "start_time": "2022-11-13T16:01:10.509Z"
   },
   {
    "duration": 9,
    "start_time": "2022-11-13T16:01:15.944Z"
   },
   {
    "duration": 74,
    "start_time": "2022-11-13T16:01:15.959Z"
   },
   {
    "duration": 15,
    "start_time": "2022-11-13T16:01:16.034Z"
   },
   {
    "duration": 22,
    "start_time": "2022-11-13T16:01:16.051Z"
   },
   {
    "duration": 11,
    "start_time": "2022-11-13T16:01:16.074Z"
   },
   {
    "duration": 180,
    "start_time": "2022-11-13T16:01:16.087Z"
   },
   {
    "duration": 6,
    "start_time": "2022-11-13T16:01:16.271Z"
   },
   {
    "duration": 849,
    "start_time": "2022-11-13T16:01:16.279Z"
   },
   {
    "duration": 545,
    "start_time": "2022-11-13T16:01:17.130Z"
   },
   {
    "duration": 16,
    "start_time": "2022-11-13T16:01:17.677Z"
   },
   {
    "duration": 14,
    "start_time": "2022-11-13T16:01:17.695Z"
   },
   {
    "duration": 36,
    "start_time": "2022-11-13T16:01:17.711Z"
   },
   {
    "duration": 804,
    "start_time": "2022-11-13T16:01:17.756Z"
   },
   {
    "duration": 23,
    "start_time": "2022-11-13T16:01:18.562Z"
   },
   {
    "duration": 20,
    "start_time": "2022-11-13T16:01:18.586Z"
   },
   {
    "duration": 49,
    "start_time": "2022-11-13T16:01:18.608Z"
   },
   {
    "duration": 17,
    "start_time": "2022-11-13T16:01:18.659Z"
   },
   {
    "duration": 833,
    "start_time": "2022-11-13T16:01:18.678Z"
   },
   {
    "duration": 197,
    "start_time": "2022-11-13T16:01:19.514Z"
   },
   {
    "duration": 30258,
    "start_time": "2022-11-13T16:01:19.713Z"
   },
   {
    "duration": 462,
    "start_time": "2022-11-13T16:01:49.974Z"
   },
   {
    "duration": 1165,
    "start_time": "2022-11-13T16:01:50.437Z"
   },
   {
    "duration": 244,
    "start_time": "2022-11-13T16:01:51.603Z"
   },
   {
    "duration": 518,
    "start_time": "2022-11-13T16:01:51.863Z"
   },
   {
    "duration": 325,
    "start_time": "2022-11-13T16:01:52.383Z"
   },
   {
    "duration": 5,
    "start_time": "2022-11-13T16:01:52.709Z"
   },
   {
    "duration": 26,
    "start_time": "2022-11-13T16:01:52.715Z"
   },
   {
    "duration": 42,
    "start_time": "2022-11-13T16:01:52.743Z"
   },
   {
    "duration": 1018,
    "start_time": "2022-11-13T16:01:52.787Z"
   },
   {
    "duration": 190,
    "start_time": "2022-11-13T16:01:53.806Z"
   },
   {
    "duration": 40981,
    "start_time": "2022-11-13T16:01:53.998Z"
   },
   {
    "duration": 529,
    "start_time": "2022-11-13T16:02:34.981Z"
   },
   {
    "duration": 0,
    "start_time": "2022-11-13T16:02:35.512Z"
   },
   {
    "duration": 0,
    "start_time": "2022-11-13T16:02:35.513Z"
   },
   {
    "duration": 0,
    "start_time": "2022-11-13T16:02:35.514Z"
   },
   {
    "duration": 0,
    "start_time": "2022-11-13T16:02:35.515Z"
   },
   {
    "duration": 0,
    "start_time": "2022-11-13T16:02:35.516Z"
   },
   {
    "duration": 0,
    "start_time": "2022-11-13T16:02:35.517Z"
   },
   {
    "duration": 0,
    "start_time": "2022-11-13T16:02:35.518Z"
   },
   {
    "duration": 0,
    "start_time": "2022-11-13T16:02:35.519Z"
   },
   {
    "duration": 0,
    "start_time": "2022-11-13T16:02:35.520Z"
   },
   {
    "duration": 0,
    "start_time": "2022-11-13T16:02:35.521Z"
   },
   {
    "duration": 1,
    "start_time": "2022-11-13T16:02:35.522Z"
   },
   {
    "duration": 0,
    "start_time": "2022-11-13T16:02:35.547Z"
   },
   {
    "duration": 0,
    "start_time": "2022-11-13T16:02:35.557Z"
   },
   {
    "duration": 0,
    "start_time": "2022-11-13T16:02:35.560Z"
   },
   {
    "duration": 0,
    "start_time": "2022-11-13T16:02:35.563Z"
   },
   {
    "duration": 0,
    "start_time": "2022-11-13T16:02:35.566Z"
   },
   {
    "duration": 0,
    "start_time": "2022-11-13T16:02:35.568Z"
   },
   {
    "duration": 0,
    "start_time": "2022-11-13T16:02:35.569Z"
   },
   {
    "duration": 0,
    "start_time": "2022-11-13T16:02:35.571Z"
   },
   {
    "duration": 0,
    "start_time": "2022-11-13T16:02:35.573Z"
   },
   {
    "duration": 5,
    "start_time": "2022-11-13T16:03:16.974Z"
   },
   {
    "duration": 58,
    "start_time": "2022-11-13T16:03:16.981Z"
   },
   {
    "duration": 24,
    "start_time": "2022-11-13T16:03:17.040Z"
   },
   {
    "duration": 7,
    "start_time": "2022-11-13T16:03:17.066Z"
   },
   {
    "duration": 13,
    "start_time": "2022-11-13T16:03:17.075Z"
   },
   {
    "duration": 195,
    "start_time": "2022-11-13T16:03:17.089Z"
   },
   {
    "duration": 8,
    "start_time": "2022-11-13T16:03:17.286Z"
   },
   {
    "duration": 889,
    "start_time": "2022-11-13T16:03:17.295Z"
   },
   {
    "duration": 620,
    "start_time": "2022-11-13T16:03:18.186Z"
   },
   {
    "duration": 15,
    "start_time": "2022-11-13T16:03:18.807Z"
   },
   {
    "duration": 30,
    "start_time": "2022-11-13T16:03:18.823Z"
   },
   {
    "duration": 39,
    "start_time": "2022-11-13T16:03:18.854Z"
   },
   {
    "duration": 837,
    "start_time": "2022-11-13T16:03:18.895Z"
   },
   {
    "duration": 31,
    "start_time": "2022-11-13T16:03:19.733Z"
   },
   {
    "duration": 16,
    "start_time": "2022-11-13T16:03:19.770Z"
   },
   {
    "duration": 26,
    "start_time": "2022-11-13T16:03:19.787Z"
   },
   {
    "duration": 5,
    "start_time": "2022-11-13T16:03:19.815Z"
   },
   {
    "duration": 793,
    "start_time": "2022-11-13T16:03:19.822Z"
   },
   {
    "duration": 184,
    "start_time": "2022-11-13T16:03:20.617Z"
   },
   {
    "duration": 29883,
    "start_time": "2022-11-13T16:03:20.802Z"
   },
   {
    "duration": 507,
    "start_time": "2022-11-13T16:03:50.687Z"
   },
   {
    "duration": 1087,
    "start_time": "2022-11-13T16:03:51.196Z"
   },
   {
    "duration": 217,
    "start_time": "2022-11-13T16:03:52.285Z"
   },
   {
    "duration": 478,
    "start_time": "2022-11-13T16:03:52.506Z"
   },
   {
    "duration": 323,
    "start_time": "2022-11-13T16:03:52.985Z"
   },
   {
    "duration": 3,
    "start_time": "2022-11-13T16:03:53.310Z"
   },
   {
    "duration": 12,
    "start_time": "2022-11-13T16:03:53.314Z"
   },
   {
    "duration": 3,
    "start_time": "2022-11-13T16:03:53.328Z"
   },
   {
    "duration": 1020,
    "start_time": "2022-11-13T16:03:53.345Z"
   },
   {
    "duration": 213,
    "start_time": "2022-11-13T16:03:54.372Z"
   },
   {
    "duration": 41817,
    "start_time": "2022-11-13T16:03:54.588Z"
   },
   {
    "duration": 777,
    "start_time": "2022-11-13T16:04:36.407Z"
   },
   {
    "duration": 1807,
    "start_time": "2022-11-13T16:04:37.186Z"
   },
   {
    "duration": 5,
    "start_time": "2022-11-13T16:04:38.994Z"
   },
   {
    "duration": 12,
    "start_time": "2022-11-13T16:04:39.001Z"
   },
   {
    "duration": 6,
    "start_time": "2022-11-13T16:04:39.014Z"
   },
   {
    "duration": 410,
    "start_time": "2022-11-13T16:04:39.021Z"
   },
   {
    "duration": 176,
    "start_time": "2022-11-13T16:04:39.433Z"
   },
   {
    "duration": 17311,
    "start_time": "2022-11-13T16:04:39.611Z"
   },
   {
    "duration": 210,
    "start_time": "2022-11-13T16:04:56.924Z"
   },
   {
    "duration": 659,
    "start_time": "2022-11-13T16:04:57.135Z"
   },
   {
    "duration": 362,
    "start_time": "2022-11-13T16:04:57.795Z"
   },
   {
    "duration": 526,
    "start_time": "2022-11-13T16:04:58.159Z"
   },
   {
    "duration": 1315,
    "start_time": "2022-11-13T16:04:58.688Z"
   },
   {
    "duration": 41855,
    "start_time": "2022-11-13T16:05:00.005Z"
   },
   {
    "duration": 856,
    "start_time": "2022-11-13T16:05:41.869Z"
   },
   {
    "duration": 0,
    "start_time": "2022-11-13T16:05:42.726Z"
   },
   {
    "duration": 0,
    "start_time": "2022-11-13T16:05:42.728Z"
   },
   {
    "duration": 0,
    "start_time": "2022-11-13T16:05:42.730Z"
   },
   {
    "duration": 0,
    "start_time": "2022-11-13T16:05:42.731Z"
   },
   {
    "duration": 0,
    "start_time": "2022-11-13T16:05:42.747Z"
   },
   {
    "duration": 0,
    "start_time": "2022-11-13T16:05:42.751Z"
   },
   {
    "duration": 804,
    "start_time": "2022-11-13T16:06:07.393Z"
   },
   {
    "duration": 8,
    "start_time": "2022-11-13T16:06:15.597Z"
   },
   {
    "duration": 14,
    "start_time": "2022-11-13T16:06:18.181Z"
   },
   {
    "duration": 634,
    "start_time": "2022-11-13T16:06:20.544Z"
   },
   {
    "duration": 713,
    "start_time": "2022-11-13T16:06:23.058Z"
   },
   {
    "duration": 663,
    "start_time": "2022-11-13T16:11:35.264Z"
   },
   {
    "duration": 759,
    "start_time": "2022-11-13T16:12:25.180Z"
   },
   {
    "duration": 51581,
    "start_time": "2022-11-13T16:12:53.907Z"
   },
   {
    "duration": 468,
    "start_time": "2022-11-13T16:14:00.329Z"
   },
   {
    "duration": 488,
    "start_time": "2022-11-13T16:14:13.100Z"
   },
   {
    "duration": 10,
    "start_time": "2022-11-13T16:14:21.186Z"
   },
   {
    "duration": 493,
    "start_time": "2022-11-13T16:14:22.497Z"
   },
   {
    "duration": 444,
    "start_time": "2022-11-13T16:14:37.858Z"
   },
   {
    "duration": 10,
    "start_time": "2022-11-13T16:15:39.405Z"
   },
   {
    "duration": 11,
    "start_time": "2022-11-13T16:16:11.651Z"
   },
   {
    "duration": 11,
    "start_time": "2022-11-13T16:16:12.758Z"
   },
   {
    "duration": 10,
    "start_time": "2022-11-13T16:16:57.940Z"
   },
   {
    "duration": 488,
    "start_time": "2022-11-13T16:17:15.666Z"
   },
   {
    "duration": 8,
    "start_time": "2022-11-13T16:17:26.111Z"
   },
   {
    "duration": 10,
    "start_time": "2022-11-13T16:17:27.643Z"
   },
   {
    "duration": 11,
    "start_time": "2022-11-13T16:17:29.689Z"
   },
   {
    "duration": 259,
    "start_time": "2022-11-13T16:17:56.895Z"
   },
   {
    "duration": 576,
    "start_time": "2022-11-13T16:18:44.637Z"
   },
   {
    "duration": 14,
    "start_time": "2022-11-13T16:19:10.958Z"
   },
   {
    "duration": 766,
    "start_time": "2022-11-13T16:19:11.862Z"
   },
   {
    "duration": 49,
    "start_time": "2022-11-13T16:20:44.491Z"
   },
   {
    "duration": 135,
    "start_time": "2022-11-13T16:20:46.022Z"
   },
   {
    "duration": 21526,
    "start_time": "2022-11-13T16:21:48.029Z"
   },
   {
    "duration": 12,
    "start_time": "2022-11-13T16:22:17.478Z"
   },
   {
    "duration": 12,
    "start_time": "2022-11-13T16:22:19.553Z"
   },
   {
    "duration": 672,
    "start_time": "2022-11-13T16:22:20.538Z"
   },
   {
    "duration": 827,
    "start_time": "2022-11-13T16:22:53.921Z"
   },
   {
    "duration": 483,
    "start_time": "2022-11-13T16:24:19.394Z"
   },
   {
    "duration": 38400,
    "start_time": "2022-11-13T16:26:04.882Z"
   },
   {
    "duration": 599,
    "start_time": "2022-11-13T16:26:45.063Z"
   },
   {
    "duration": 731,
    "start_time": "2022-11-13T16:27:02.570Z"
   },
   {
    "duration": 662,
    "start_time": "2022-11-13T16:28:05.171Z"
   },
   {
    "duration": 13,
    "start_time": "2022-11-13T16:28:13.820Z"
   },
   {
    "duration": 1036,
    "start_time": "2022-11-13T16:28:15.166Z"
   },
   {
    "duration": 9,
    "start_time": "2022-11-13T16:28:21.903Z"
   },
   {
    "duration": 10,
    "start_time": "2022-11-13T16:28:23.275Z"
   },
   {
    "duration": 697,
    "start_time": "2022-11-13T16:28:24.724Z"
   },
   {
    "duration": 4,
    "start_time": "2022-11-13T16:29:57.868Z"
   },
   {
    "duration": 50,
    "start_time": "2022-11-13T16:29:57.875Z"
   },
   {
    "duration": 13,
    "start_time": "2022-11-13T16:29:57.926Z"
   },
   {
    "duration": 4,
    "start_time": "2022-11-13T16:29:57.942Z"
   },
   {
    "duration": 10,
    "start_time": "2022-11-13T16:29:57.948Z"
   },
   {
    "duration": 175,
    "start_time": "2022-11-13T16:29:57.960Z"
   },
   {
    "duration": 12,
    "start_time": "2022-11-13T16:29:58.137Z"
   },
   {
    "duration": 781,
    "start_time": "2022-11-13T16:29:58.150Z"
   },
   {
    "duration": 456,
    "start_time": "2022-11-13T16:29:58.933Z"
   },
   {
    "duration": 14,
    "start_time": "2022-11-13T16:29:59.391Z"
   },
   {
    "duration": 134,
    "start_time": "2022-11-13T16:29:59.406Z"
   },
   {
    "duration": 14,
    "start_time": "2022-11-13T16:29:59.546Z"
   },
   {
    "duration": 737,
    "start_time": "2022-11-13T16:29:59.561Z"
   },
   {
    "duration": 19,
    "start_time": "2022-11-13T16:30:00.300Z"
   },
   {
    "duration": 25,
    "start_time": "2022-11-13T16:30:00.321Z"
   },
   {
    "duration": 25,
    "start_time": "2022-11-13T16:30:00.348Z"
   },
   {
    "duration": 16,
    "start_time": "2022-11-13T16:30:00.375Z"
   },
   {
    "duration": 749,
    "start_time": "2022-11-13T16:30:00.393Z"
   },
   {
    "duration": 185,
    "start_time": "2022-11-13T16:30:01.144Z"
   },
   {
    "duration": 28078,
    "start_time": "2022-11-13T16:30:01.331Z"
   },
   {
    "duration": 439,
    "start_time": "2022-11-13T16:30:29.411Z"
   },
   {
    "duration": 528,
    "start_time": "2022-11-13T16:30:29.852Z"
   },
   {
    "duration": 192,
    "start_time": "2022-11-13T16:30:30.382Z"
   },
   {
    "duration": 436,
    "start_time": "2022-11-13T16:30:30.576Z"
   },
   {
    "duration": 367,
    "start_time": "2022-11-13T16:30:31.014Z"
   },
   {
    "duration": 3,
    "start_time": "2022-11-13T16:30:31.383Z"
   },
   {
    "duration": 14,
    "start_time": "2022-11-13T16:30:31.388Z"
   },
   {
    "duration": 3,
    "start_time": "2022-11-13T16:30:31.406Z"
   },
   {
    "duration": 996,
    "start_time": "2022-11-13T16:30:31.411Z"
   },
   {
    "duration": 181,
    "start_time": "2022-11-13T16:30:32.409Z"
   },
   {
    "duration": 38045,
    "start_time": "2022-11-13T16:30:32.592Z"
   },
   {
    "duration": 723,
    "start_time": "2022-11-13T16:31:10.639Z"
   },
   {
    "duration": 643,
    "start_time": "2022-11-13T16:31:11.363Z"
   },
   {
    "duration": 5,
    "start_time": "2022-11-13T16:31:12.008Z"
   },
   {
    "duration": 23,
    "start_time": "2022-11-13T16:31:12.015Z"
   },
   {
    "duration": 4,
    "start_time": "2022-11-13T16:31:12.040Z"
   },
   {
    "duration": 366,
    "start_time": "2022-11-13T16:31:12.045Z"
   },
   {
    "duration": 153,
    "start_time": "2022-11-13T16:31:12.413Z"
   },
   {
    "duration": 15873,
    "start_time": "2022-11-13T16:31:12.568Z"
   },
   {
    "duration": 207,
    "start_time": "2022-11-13T16:31:28.443Z"
   },
   {
    "duration": 430,
    "start_time": "2022-11-13T16:31:28.652Z"
   },
   {
    "duration": 230,
    "start_time": "2022-11-13T16:31:29.084Z"
   },
   {
    "duration": 462,
    "start_time": "2022-11-13T16:31:29.316Z"
   },
   {
    "duration": 711,
    "start_time": "2022-11-13T16:31:29.780Z"
   },
   {
    "duration": 37932,
    "start_time": "2022-11-13T16:31:30.492Z"
   },
   {
    "duration": 769,
    "start_time": "2022-11-13T16:32:08.425Z"
   },
   {
    "duration": 8,
    "start_time": "2022-11-13T16:32:09.195Z"
   },
   {
    "duration": 18,
    "start_time": "2022-11-13T16:32:09.205Z"
   },
   {
    "duration": 695,
    "start_time": "2022-11-13T16:32:09.224Z"
   },
   {
    "duration": 211,
    "start_time": "2022-11-13T16:33:47.401Z"
   },
   {
    "duration": 626,
    "start_time": "2022-11-13T16:34:36.596Z"
   },
   {
    "duration": 45,
    "start_time": "2022-11-13T16:35:21.304Z"
   },
   {
    "duration": 44,
    "start_time": "2022-11-13T16:35:38.709Z"
   },
   {
    "duration": 42,
    "start_time": "2022-11-13T16:35:46.318Z"
   },
   {
    "duration": 53,
    "start_time": "2022-11-13T16:35:48.658Z"
   },
   {
    "duration": 47,
    "start_time": "2022-11-13T16:35:51.428Z"
   },
   {
    "duration": 51,
    "start_time": "2022-11-13T16:35:54.878Z"
   },
   {
    "duration": 45,
    "start_time": "2022-11-13T16:35:56.984Z"
   },
   {
    "duration": 49,
    "start_time": "2022-11-13T16:35:58.463Z"
   },
   {
    "duration": 63,
    "start_time": "2022-11-13T16:36:24.465Z"
   },
   {
    "duration": 44,
    "start_time": "2022-11-13T16:36:33.362Z"
   },
   {
    "duration": 669,
    "start_time": "2022-11-13T16:36:39.177Z"
   },
   {
    "duration": 65,
    "start_time": "2022-11-13T16:38:19.114Z"
   },
   {
    "duration": 47,
    "start_time": "2022-11-13T16:38:26.665Z"
   },
   {
    "duration": 49,
    "start_time": "2022-11-13T16:38:30.135Z"
   },
   {
    "duration": 41,
    "start_time": "2022-11-13T16:38:48.060Z"
   },
   {
    "duration": 47,
    "start_time": "2022-11-13T16:39:06.637Z"
   },
   {
    "duration": 66,
    "start_time": "2022-11-13T16:39:19.684Z"
   },
   {
    "duration": 641,
    "start_time": "2022-11-13T16:39:32.546Z"
   },
   {
    "duration": 69,
    "start_time": "2022-11-13T16:39:41.273Z"
   },
   {
    "duration": 9,
    "start_time": "2022-11-13T16:39:48.133Z"
   },
   {
    "duration": 673,
    "start_time": "2022-11-13T16:40:02.164Z"
   },
   {
    "duration": 660,
    "start_time": "2022-11-13T16:40:30.719Z"
   },
   {
    "duration": 690,
    "start_time": "2022-11-13T16:40:45.230Z"
   },
   {
    "duration": 1380,
    "start_time": "2022-11-13T16:42:11.754Z"
   },
   {
    "duration": 52,
    "start_time": "2022-11-13T16:42:13.136Z"
   },
   {
    "duration": 14,
    "start_time": "2022-11-13T16:42:13.190Z"
   },
   {
    "duration": 10,
    "start_time": "2022-11-13T16:42:13.207Z"
   },
   {
    "duration": 44,
    "start_time": "2022-11-13T16:42:13.218Z"
   },
   {
    "duration": 179,
    "start_time": "2022-11-13T16:42:13.264Z"
   },
   {
    "duration": 9,
    "start_time": "2022-11-13T16:42:13.446Z"
   },
   {
    "duration": 795,
    "start_time": "2022-11-13T16:42:13.457Z"
   },
   {
    "duration": 609,
    "start_time": "2022-11-13T16:42:14.254Z"
   },
   {
    "duration": 46,
    "start_time": "2022-11-13T16:42:14.865Z"
   },
   {
    "duration": 14,
    "start_time": "2022-11-13T16:42:14.913Z"
   },
   {
    "duration": 13,
    "start_time": "2022-11-13T16:42:14.946Z"
   },
   {
    "duration": 744,
    "start_time": "2022-11-13T16:42:14.960Z"
   },
   {
    "duration": 20,
    "start_time": "2022-11-13T16:42:15.706Z"
   },
   {
    "duration": 25,
    "start_time": "2022-11-13T16:42:15.728Z"
   },
   {
    "duration": 27,
    "start_time": "2022-11-13T16:42:15.754Z"
   },
   {
    "duration": 4,
    "start_time": "2022-11-13T16:42:15.783Z"
   },
   {
    "duration": 772,
    "start_time": "2022-11-13T16:42:15.789Z"
   },
   {
    "duration": 172,
    "start_time": "2022-11-13T16:42:16.563Z"
   },
   {
    "duration": 28158,
    "start_time": "2022-11-13T16:42:16.745Z"
   },
   {
    "duration": 435,
    "start_time": "2022-11-13T16:42:44.904Z"
   },
   {
    "duration": 631,
    "start_time": "2022-11-13T16:42:45.345Z"
   },
   {
    "duration": 171,
    "start_time": "2022-11-13T16:42:45.977Z"
   },
   {
    "duration": 440,
    "start_time": "2022-11-13T16:42:46.149Z"
   },
   {
    "duration": 421,
    "start_time": "2022-11-13T16:42:46.590Z"
   },
   {
    "duration": 4,
    "start_time": "2022-11-13T16:42:47.013Z"
   },
   {
    "duration": 25,
    "start_time": "2022-11-13T16:42:47.019Z"
   },
   {
    "duration": 7,
    "start_time": "2022-11-13T16:42:47.047Z"
   },
   {
    "duration": 947,
    "start_time": "2022-11-13T16:42:47.055Z"
   },
   {
    "duration": 173,
    "start_time": "2022-11-13T16:42:48.004Z"
   },
   {
    "duration": 37930,
    "start_time": "2022-11-13T16:42:48.179Z"
   },
   {
    "duration": 659,
    "start_time": "2022-11-13T16:43:26.111Z"
   },
   {
    "duration": 610,
    "start_time": "2022-11-13T16:43:26.772Z"
   },
   {
    "duration": 4,
    "start_time": "2022-11-13T16:43:27.384Z"
   },
   {
    "duration": 14,
    "start_time": "2022-11-13T16:43:27.390Z"
   },
   {
    "duration": 3,
    "start_time": "2022-11-13T16:43:27.405Z"
   },
   {
    "duration": 367,
    "start_time": "2022-11-13T16:43:27.410Z"
   },
   {
    "duration": 154,
    "start_time": "2022-11-13T16:43:27.779Z"
   },
   {
    "duration": 15699,
    "start_time": "2022-11-13T16:43:27.934Z"
   },
   {
    "duration": 197,
    "start_time": "2022-11-13T16:43:43.634Z"
   },
   {
    "duration": 441,
    "start_time": "2022-11-13T16:43:43.832Z"
   },
   {
    "duration": 214,
    "start_time": "2022-11-13T16:43:44.275Z"
   },
   {
    "duration": 501,
    "start_time": "2022-11-13T16:43:44.492Z"
   },
   {
    "duration": 782,
    "start_time": "2022-11-13T16:43:44.995Z"
   },
   {
    "duration": 37680,
    "start_time": "2022-11-13T16:43:45.779Z"
   },
   {
    "duration": 787,
    "start_time": "2022-11-13T16:44:23.461Z"
   },
   {
    "duration": 9,
    "start_time": "2022-11-13T16:44:24.249Z"
   },
   {
    "duration": 20,
    "start_time": "2022-11-13T16:44:24.260Z"
   },
   {
    "duration": 711,
    "start_time": "2022-11-13T16:44:24.281Z"
   },
   {
    "duration": 662,
    "start_time": "2022-11-13T16:46:19.038Z"
   },
   {
    "duration": 669,
    "start_time": "2022-11-13T16:51:13.750Z"
   }
  ],
  "kernelspec": {
   "display_name": "Python 3 (ipykernel)",
   "language": "python",
   "name": "python3"
  },
  "language_info": {
   "codemirror_mode": {
    "name": "ipython",
    "version": 3
   },
   "file_extension": ".py",
   "mimetype": "text/x-python",
   "name": "python",
   "nbconvert_exporter": "python",
   "pygments_lexer": "ipython3",
   "version": "3.9.5"
  },
  "toc": {
   "base_numbering": 1,
   "nav_menu": {},
   "number_sections": true,
   "sideBar": true,
   "skip_h1_title": true,
   "title_cell": "Содержание",
   "title_sidebar": "Contents",
   "toc_cell": true,
   "toc_position": {
    "height": "calc(100% - 180px)",
    "left": "10px",
    "top": "150px",
    "width": "165px"
   },
   "toc_section_display": true,
   "toc_window_display": true
  }
 },
 "nbformat": 4,
 "nbformat_minor": 2
}
